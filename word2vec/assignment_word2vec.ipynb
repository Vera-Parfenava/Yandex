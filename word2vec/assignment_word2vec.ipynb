{
 "cells": [
  {
   "cell_type": "markdown",
   "metadata": {
    "id": "nTSf4ro-qU0d"
   },
   "source": [
    "## Бонусное задание: word2vec на PyTorch\n",
    "\n",
    "Как вы уже могли заметить, идея, лежащая в основе [word2vec](https://arxiv.org/pdf/1310.4546), достаточно общая. В данном задании вы реализуете его самостоятельно.\n",
    "\n",
    "Дисклеймер: не стоит удивляться тому, что реализация от `gensim` (или аналоги) обучается быстрее и работает точнее. Она использует множество доработок и ускорений, а также достаточно эффективный код. Ваша задача добиться промежуточных результатов за разумное время.\n",
    "\n",
    "P.s. Как ни странно, GPU в этом задании нам не потребуется."
   ]
  },
  {
   "cell_type": "markdown",
   "metadata": {},
   "source": [
    "__Requirements:__ if you're running locally, in the selected environment run the following command:\n",
    "\n",
    "```pip install --upgrade nltk bokeh umap-learn```\n"
   ]
  },
  {
   "cell_type": "code",
   "execution_count": 1,
   "metadata": {},
   "outputs": [
    {
     "name": "stdout",
     "output_type": "stream",
     "text": [
      "Collecting ipykernel\n",
      "  Using cached ipykernel-6.29.5-py3-none-any.whl.metadata (6.3 kB)\n",
      "Collecting appnope (from ipykernel)\n",
      "  Using cached appnope-0.1.4-py2.py3-none-any.whl.metadata (908 bytes)\n",
      "Collecting comm>=0.1.1 (from ipykernel)\n",
      "  Using cached comm-0.2.2-py3-none-any.whl.metadata (3.7 kB)\n",
      "Collecting debugpy>=1.6.5 (from ipykernel)\n",
      "  Using cached debugpy-1.8.7-py2.py3-none-any.whl.metadata (1.1 kB)\n",
      "Collecting ipython>=7.23.1 (from ipykernel)\n",
      "  Using cached ipython-8.29.0-py3-none-any.whl.metadata (5.0 kB)\n",
      "Collecting jupyter-client>=6.1.12 (from ipykernel)\n",
      "  Using cached jupyter_client-8.6.3-py3-none-any.whl.metadata (8.3 kB)\n",
      "Collecting jupyter-core!=5.0.*,>=4.12 (from ipykernel)\n",
      "  Using cached jupyter_core-5.7.2-py3-none-any.whl.metadata (3.4 kB)\n",
      "Collecting matplotlib-inline>=0.1 (from ipykernel)\n",
      "  Using cached matplotlib_inline-0.1.7-py3-none-any.whl.metadata (3.9 kB)\n",
      "Collecting nest-asyncio (from ipykernel)\n",
      "  Using cached nest_asyncio-1.6.0-py3-none-any.whl.metadata (2.8 kB)\n",
      "Collecting packaging (from ipykernel)\n",
      "  Using cached packaging-24.1-py3-none-any.whl.metadata (3.2 kB)\n",
      "Collecting psutil (from ipykernel)\n",
      "  Using cached psutil-6.1.0-cp36-abi3-macosx_11_0_arm64.whl.metadata (22 kB)\n",
      "Collecting pyzmq>=24 (from ipykernel)\n",
      "  Using cached pyzmq-26.2.0-cp310-cp310-macosx_10_15_universal2.whl.metadata (6.2 kB)\n",
      "Collecting tornado>=6.1 (from ipykernel)\n",
      "  Using cached tornado-6.4.1-cp38-abi3-macosx_10_9_universal2.whl.metadata (2.5 kB)\n",
      "Collecting traitlets>=5.4.0 (from ipykernel)\n",
      "  Using cached traitlets-5.14.3-py3-none-any.whl.metadata (10 kB)\n",
      "Collecting decorator (from ipython>=7.23.1->ipykernel)\n",
      "  Using cached decorator-5.1.1-py3-none-any.whl.metadata (4.0 kB)\n",
      "Collecting jedi>=0.16 (from ipython>=7.23.1->ipykernel)\n",
      "  Using cached jedi-0.19.1-py2.py3-none-any.whl.metadata (22 kB)\n",
      "Collecting prompt-toolkit<3.1.0,>=3.0.41 (from ipython>=7.23.1->ipykernel)\n",
      "  Using cached prompt_toolkit-3.0.48-py3-none-any.whl.metadata (6.4 kB)\n",
      "Collecting pygments>=2.4.0 (from ipython>=7.23.1->ipykernel)\n",
      "  Using cached pygments-2.18.0-py3-none-any.whl.metadata (2.5 kB)\n",
      "Collecting stack-data (from ipython>=7.23.1->ipykernel)\n",
      "  Using cached stack_data-0.6.3-py3-none-any.whl.metadata (18 kB)\n",
      "Collecting exceptiongroup (from ipython>=7.23.1->ipykernel)\n",
      "  Using cached exceptiongroup-1.2.2-py3-none-any.whl.metadata (6.6 kB)\n",
      "Collecting typing-extensions>=4.6 (from ipython>=7.23.1->ipykernel)\n",
      "  Using cached typing_extensions-4.12.2-py3-none-any.whl.metadata (3.0 kB)\n",
      "Collecting pexpect>4.3 (from ipython>=7.23.1->ipykernel)\n",
      "  Using cached pexpect-4.9.0-py2.py3-none-any.whl.metadata (2.5 kB)\n",
      "Collecting python-dateutil>=2.8.2 (from jupyter-client>=6.1.12->ipykernel)\n",
      "  Using cached python_dateutil-2.9.0.post0-py2.py3-none-any.whl.metadata (8.4 kB)\n",
      "Collecting platformdirs>=2.5 (from jupyter-core!=5.0.*,>=4.12->ipykernel)\n",
      "  Using cached platformdirs-4.3.6-py3-none-any.whl.metadata (11 kB)\n",
      "Collecting parso<0.9.0,>=0.8.3 (from jedi>=0.16->ipython>=7.23.1->ipykernel)\n",
      "  Using cached parso-0.8.4-py2.py3-none-any.whl.metadata (7.7 kB)\n",
      "Collecting ptyprocess>=0.5 (from pexpect>4.3->ipython>=7.23.1->ipykernel)\n",
      "  Using cached ptyprocess-0.7.0-py2.py3-none-any.whl.metadata (1.3 kB)\n",
      "Collecting wcwidth (from prompt-toolkit<3.1.0,>=3.0.41->ipython>=7.23.1->ipykernel)\n",
      "  Using cached wcwidth-0.2.13-py2.py3-none-any.whl.metadata (14 kB)\n",
      "Collecting six>=1.5 (from python-dateutil>=2.8.2->jupyter-client>=6.1.12->ipykernel)\n",
      "  Using cached six-1.16.0-py2.py3-none-any.whl.metadata (1.8 kB)\n",
      "Collecting executing>=1.2.0 (from stack-data->ipython>=7.23.1->ipykernel)\n",
      "  Using cached executing-2.1.0-py2.py3-none-any.whl.metadata (8.9 kB)\n",
      "Collecting asttokens>=2.1.0 (from stack-data->ipython>=7.23.1->ipykernel)\n",
      "  Using cached asttokens-2.4.1-py2.py3-none-any.whl.metadata (5.2 kB)\n",
      "Collecting pure-eval (from stack-data->ipython>=7.23.1->ipykernel)\n",
      "  Using cached pure_eval-0.2.3-py3-none-any.whl.metadata (6.3 kB)\n",
      "Using cached ipykernel-6.29.5-py3-none-any.whl (117 kB)\n",
      "Using cached comm-0.2.2-py3-none-any.whl (7.2 kB)\n",
      "Using cached debugpy-1.8.7-py2.py3-none-any.whl (5.2 MB)\n",
      "Using cached ipython-8.29.0-py3-none-any.whl (819 kB)\n",
      "Using cached jupyter_client-8.6.3-py3-none-any.whl (106 kB)\n",
      "Using cached jupyter_core-5.7.2-py3-none-any.whl (28 kB)\n",
      "Using cached matplotlib_inline-0.1.7-py3-none-any.whl (9.9 kB)\n",
      "Using cached pyzmq-26.2.0-cp310-cp310-macosx_10_15_universal2.whl (1.3 MB)\n",
      "Using cached tornado-6.4.1-cp38-abi3-macosx_10_9_universal2.whl (435 kB)\n",
      "Using cached traitlets-5.14.3-py3-none-any.whl (85 kB)\n",
      "Using cached appnope-0.1.4-py2.py3-none-any.whl (4.3 kB)\n",
      "Using cached nest_asyncio-1.6.0-py3-none-any.whl (5.2 kB)\n",
      "Using cached packaging-24.1-py3-none-any.whl (53 kB)\n",
      "Using cached psutil-6.1.0-cp36-abi3-macosx_11_0_arm64.whl (248 kB)\n",
      "Using cached jedi-0.19.1-py2.py3-none-any.whl (1.6 MB)\n",
      "Using cached pexpect-4.9.0-py2.py3-none-any.whl (63 kB)\n",
      "Using cached platformdirs-4.3.6-py3-none-any.whl (18 kB)\n",
      "Using cached prompt_toolkit-3.0.48-py3-none-any.whl (386 kB)\n",
      "Using cached pygments-2.18.0-py3-none-any.whl (1.2 MB)\n",
      "Using cached python_dateutil-2.9.0.post0-py2.py3-none-any.whl (229 kB)\n",
      "Using cached typing_extensions-4.12.2-py3-none-any.whl (37 kB)\n",
      "Using cached decorator-5.1.1-py3-none-any.whl (9.1 kB)\n",
      "Using cached exceptiongroup-1.2.2-py3-none-any.whl (16 kB)\n",
      "Using cached stack_data-0.6.3-py3-none-any.whl (24 kB)\n",
      "Using cached asttokens-2.4.1-py2.py3-none-any.whl (27 kB)\n",
      "Using cached executing-2.1.0-py2.py3-none-any.whl (25 kB)\n",
      "Using cached parso-0.8.4-py2.py3-none-any.whl (103 kB)\n",
      "Using cached ptyprocess-0.7.0-py2.py3-none-any.whl (13 kB)\n",
      "Using cached six-1.16.0-py2.py3-none-any.whl (11 kB)\n",
      "Using cached pure_eval-0.2.3-py3-none-any.whl (11 kB)\n",
      "Using cached wcwidth-0.2.13-py2.py3-none-any.whl (34 kB)\n",
      "Installing collected packages: wcwidth, pure-eval, ptyprocess, typing-extensions, traitlets, tornado, six, pyzmq, pygments, psutil, prompt-toolkit, platformdirs, pexpect, parso, packaging, nest-asyncio, executing, exceptiongroup, decorator, debugpy, appnope, python-dateutil, matplotlib-inline, jupyter-core, jedi, comm, asttokens, stack-data, jupyter-client, ipython, ipykernel\n",
      "  Attempting uninstall: wcwidth\n",
      "    Found existing installation: wcwidth 0.2.13\n",
      "    Uninstalling wcwidth-0.2.13:\n",
      "      Successfully uninstalled wcwidth-0.2.13\n",
      "  Attempting uninstall: pure-eval\n",
      "    Found existing installation: pure_eval 0.2.3\n",
      "    Uninstalling pure_eval-0.2.3:\n",
      "      Successfully uninstalled pure_eval-0.2.3\n",
      "  Attempting uninstall: ptyprocess\n",
      "    Found existing installation: ptyprocess 0.7.0\n",
      "    Uninstalling ptyprocess-0.7.0:\n",
      "      Successfully uninstalled ptyprocess-0.7.0\n",
      "  Attempting uninstall: typing-extensions\n",
      "    Found existing installation: typing_extensions 4.12.2\n",
      "    Uninstalling typing_extensions-4.12.2:\n",
      "      Successfully uninstalled typing_extensions-4.12.2\n",
      "  Attempting uninstall: traitlets\n",
      "    Found existing installation: traitlets 5.14.3\n",
      "    Uninstalling traitlets-5.14.3:\n",
      "      Successfully uninstalled traitlets-5.14.3\n",
      "  Attempting uninstall: tornado\n",
      "    Found existing installation: tornado 6.4.1\n",
      "    Uninstalling tornado-6.4.1:\n",
      "      Successfully uninstalled tornado-6.4.1\n",
      "  Attempting uninstall: six\n",
      "    Found existing installation: six 1.16.0\n",
      "    Uninstalling six-1.16.0:\n",
      "      Successfully uninstalled six-1.16.0\n",
      "  Attempting uninstall: pyzmq\n",
      "    Found existing installation: pyzmq 26.2.0\n",
      "    Uninstalling pyzmq-26.2.0:\n",
      "      Successfully uninstalled pyzmq-26.2.0\n",
      "  Attempting uninstall: pygments\n",
      "    Found existing installation: Pygments 2.18.0\n",
      "    Uninstalling Pygments-2.18.0:\n",
      "      Successfully uninstalled Pygments-2.18.0\n",
      "\u001b[33m  WARNING: The script pygmentize is installed in '/Users/vera/.local/bin' which is not on PATH.\n",
      "  Consider adding this directory to PATH or, if you prefer to suppress this warning, use --no-warn-script-location.\n",
      "  NOTE: The current PATH contains path(s) starting with `~`, which may not be expanded by all applications.\u001b[0m\u001b[33m\n",
      "\u001b[0m  Attempting uninstall: psutil\n",
      "    Found existing installation: psutil 6.1.0\n",
      "    Uninstalling psutil-6.1.0:\n",
      "      Successfully uninstalled psutil-6.1.0\n",
      "  Attempting uninstall: prompt-toolkit\n",
      "    Found existing installation: prompt_toolkit 3.0.48\n",
      "    Uninstalling prompt_toolkit-3.0.48:\n",
      "      Successfully uninstalled prompt_toolkit-3.0.48\n",
      "  Attempting uninstall: platformdirs\n",
      "    Found existing installation: platformdirs 4.3.6\n",
      "    Uninstalling platformdirs-4.3.6:\n",
      "      Successfully uninstalled platformdirs-4.3.6\n",
      "  Attempting uninstall: pexpect\n",
      "    Found existing installation: pexpect 4.9.0\n",
      "    Uninstalling pexpect-4.9.0:\n",
      "      Successfully uninstalled pexpect-4.9.0\n",
      "  Attempting uninstall: parso\n",
      "    Found existing installation: parso 0.8.4\n",
      "    Uninstalling parso-0.8.4:\n",
      "      Successfully uninstalled parso-0.8.4\n",
      "  Attempting uninstall: packaging\n",
      "    Found existing installation: packaging 24.1\n",
      "    Uninstalling packaging-24.1:\n",
      "      Successfully uninstalled packaging-24.1\n",
      "  Attempting uninstall: nest-asyncio\n",
      "    Found existing installation: nest-asyncio 1.6.0\n",
      "    Uninstalling nest-asyncio-1.6.0:\n",
      "      Successfully uninstalled nest-asyncio-1.6.0\n",
      "  Attempting uninstall: executing\n",
      "    Found existing installation: executing 2.1.0\n",
      "    Uninstalling executing-2.1.0:\n",
      "      Successfully uninstalled executing-2.1.0\n",
      "  Attempting uninstall: exceptiongroup\n",
      "    Found existing installation: exceptiongroup 1.2.2\n",
      "    Uninstalling exceptiongroup-1.2.2:\n",
      "      Successfully uninstalled exceptiongroup-1.2.2\n",
      "  Attempting uninstall: decorator\n",
      "    Found existing installation: decorator 5.1.1\n",
      "    Uninstalling decorator-5.1.1:\n",
      "      Successfully uninstalled decorator-5.1.1\n",
      "  Attempting uninstall: debugpy\n",
      "    Found existing installation: debugpy 1.8.7\n",
      "    Uninstalling debugpy-1.8.7:\n",
      "      Successfully uninstalled debugpy-1.8.7\n",
      "\u001b[33m  WARNING: The script debugpy is installed in '/Users/vera/.local/bin' which is not on PATH.\n",
      "  Consider adding this directory to PATH or, if you prefer to suppress this warning, use --no-warn-script-location.\n",
      "  NOTE: The current PATH contains path(s) starting with `~`, which may not be expanded by all applications.\u001b[0m\u001b[33m\n",
      "\u001b[0m  Attempting uninstall: appnope\n",
      "    Found existing installation: appnope 0.1.4\n",
      "    Uninstalling appnope-0.1.4:\n",
      "      Successfully uninstalled appnope-0.1.4\n",
      "  Attempting uninstall: python-dateutil\n",
      "    Found existing installation: python-dateutil 2.9.0.post0\n",
      "    Uninstalling python-dateutil-2.9.0.post0:\n",
      "      Successfully uninstalled python-dateutil-2.9.0.post0\n",
      "  Attempting uninstall: matplotlib-inline\n",
      "    Found existing installation: matplotlib-inline 0.1.7\n",
      "    Uninstalling matplotlib-inline-0.1.7:\n",
      "      Successfully uninstalled matplotlib-inline-0.1.7\n",
      "  Attempting uninstall: jupyter-core\n",
      "    Found existing installation: jupyter_core 5.7.2\n",
      "    Uninstalling jupyter_core-5.7.2:\n",
      "      Successfully uninstalled jupyter_core-5.7.2\n",
      "\u001b[33m  WARNING: The scripts jupyter, jupyter-migrate and jupyter-troubleshoot are installed in '/Users/vera/.local/bin' which is not on PATH.\n",
      "  Consider adding this directory to PATH or, if you prefer to suppress this warning, use --no-warn-script-location.\n",
      "  NOTE: The current PATH contains path(s) starting with `~`, which may not be expanded by all applications.\u001b[0m\u001b[33m\n",
      "\u001b[0m  Attempting uninstall: jedi\n",
      "    Found existing installation: jedi 0.19.1\n",
      "    Uninstalling jedi-0.19.1:\n",
      "      Successfully uninstalled jedi-0.19.1\n",
      "  Attempting uninstall: comm\n",
      "    Found existing installation: comm 0.2.2\n",
      "    Uninstalling comm-0.2.2:\n",
      "      Successfully uninstalled comm-0.2.2\n",
      "  Attempting uninstall: asttokens\n",
      "    Found existing installation: asttokens 2.4.1\n",
      "    Uninstalling asttokens-2.4.1:\n",
      "      Successfully uninstalled asttokens-2.4.1\n",
      "  Attempting uninstall: stack-data\n",
      "    Found existing installation: stack-data 0.6.3\n",
      "    Uninstalling stack-data-0.6.3:\n",
      "      Successfully uninstalled stack-data-0.6.3\n",
      "  Attempting uninstall: jupyter-client\n",
      "    Found existing installation: jupyter_client 8.6.3\n",
      "    Uninstalling jupyter_client-8.6.3:\n",
      "      Successfully uninstalled jupyter_client-8.6.3\n",
      "\u001b[33m  WARNING: The scripts jupyter-kernel, jupyter-kernelspec and jupyter-run are installed in '/Users/vera/.local/bin' which is not on PATH.\n",
      "  Consider adding this directory to PATH or, if you prefer to suppress this warning, use --no-warn-script-location.\n",
      "  NOTE: The current PATH contains path(s) starting with `~`, which may not be expanded by all applications.\u001b[0m\u001b[33m\n",
      "\u001b[0m  Attempting uninstall: ipython\n",
      "    Found existing installation: ipython 8.29.0\n",
      "    Uninstalling ipython-8.29.0:\n",
      "      Successfully uninstalled ipython-8.29.0\n",
      "\u001b[33m  WARNING: The scripts ipython and ipython3 are installed in '/Users/vera/.local/bin' which is not on PATH.\n",
      "  Consider adding this directory to PATH or, if you prefer to suppress this warning, use --no-warn-script-location.\n",
      "  NOTE: The current PATH contains path(s) starting with `~`, which may not be expanded by all applications.\u001b[0m\u001b[33m\n",
      "\u001b[0m  Attempting uninstall: ipykernel\n",
      "    Found existing installation: ipykernel 6.29.5\n",
      "    Uninstalling ipykernel-6.29.5:\n",
      "      Successfully uninstalled ipykernel-6.29.5\n",
      "\u001b[31mERROR: pip's dependency resolver does not currently take into account all the packages that are installed. This behaviour is the source of the following dependency conflicts.\n",
      "moviepy 1.0.3 requires decorator<5.0,>=4.0.2, but you have decorator 5.1.1 which is incompatible.\n",
      "poetry 1.7.1 requires platformdirs<4.0.0,>=3.0.0, but you have platformdirs 4.3.6 which is incompatible.\n",
      "visions 0.7.6 requires pandas>=2.0.0, but you have pandas 1.4.4 which is incompatible.\u001b[0m\u001b[31m\n",
      "\u001b[0mSuccessfully installed appnope-0.1.4 asttokens-2.4.1 comm-0.2.2 debugpy-1.8.7 decorator-5.1.1 exceptiongroup-1.2.2 executing-2.1.0 ipykernel-6.29.5 ipython-8.29.0 jedi-0.19.1 jupyter-client-8.6.3 jupyter-core-5.7.2 matplotlib-inline-0.1.7 nest-asyncio-1.6.0 packaging-24.1 parso-0.8.4 pexpect-4.9.0 platformdirs-4.3.6 prompt-toolkit-3.0.48 psutil-6.1.0 ptyprocess-0.7.0 pure-eval-0.2.3 pygments-2.18.0 python-dateutil-2.9.0.post0 pyzmq-26.2.0 six-1.16.0 stack-data-0.6.3 tornado-6.4.1 traitlets-5.14.3 typing-extensions-4.12.2 wcwidth-0.2.13\n"
     ]
    }
   ],
   "source": [
    "!pip install ipykernel -U --user --force-reinstall"
   ]
  },
  {
   "cell_type": "code",
   "execution_count": 1,
   "metadata": {
    "id": "Oipe2DU8qfm7"
   },
   "outputs": [
    {
     "name": "stdout",
     "output_type": "stream",
     "text": [
      "Collecting nltk\n",
      "  Using cached nltk-3.9.1-py3-none-any.whl.metadata (2.9 kB)\n",
      "Collecting bokeh\n",
      "  Using cached bokeh-3.6.0-py3-none-any.whl.metadata (12 kB)\n",
      "Collecting umap-learn\n",
      "  Using cached umap_learn-0.5.6-py3-none-any.whl.metadata (21 kB)\n",
      "Collecting click (from nltk)\n",
      "  Using cached click-8.1.7-py3-none-any.whl.metadata (3.0 kB)\n",
      "Collecting joblib (from nltk)\n",
      "  Using cached joblib-1.4.2-py3-none-any.whl.metadata (5.4 kB)\n",
      "Collecting regex>=2021.8.3 (from nltk)\n",
      "  Downloading regex-2024.9.11-cp312-cp312-macosx_11_0_arm64.whl.metadata (40 kB)\n",
      "Collecting tqdm (from nltk)\n",
      "  Downloading tqdm-4.66.5-py3-none-any.whl.metadata (57 kB)\n",
      "Collecting Jinja2>=2.9 (from bokeh)\n",
      "  Using cached jinja2-3.1.4-py3-none-any.whl.metadata (2.6 kB)\n",
      "Collecting contourpy>=1.2 (from bokeh)\n",
      "  Downloading contourpy-1.3.0-cp312-cp312-macosx_11_0_arm64.whl.metadata (5.4 kB)\n",
      "Collecting numpy>=1.16 (from bokeh)\n",
      "  Downloading numpy-2.1.2-cp312-cp312-macosx_11_0_arm64.whl.metadata (60 kB)\n",
      "Requirement already satisfied: packaging>=16.8 in /Users/vera/miniconda3/envs/my_env/lib/python3.12/site-packages (from bokeh) (24.1)\n",
      "Collecting pandas>=1.2 (from bokeh)\n",
      "  Downloading pandas-2.2.3-cp312-cp312-macosx_11_0_arm64.whl.metadata (89 kB)\n",
      "Collecting pillow>=7.1.0 (from bokeh)\n",
      "  Downloading pillow-11.0.0-cp312-cp312-macosx_11_0_arm64.whl.metadata (9.1 kB)\n",
      "Collecting PyYAML>=3.10 (from bokeh)\n",
      "  Downloading PyYAML-6.0.2-cp312-cp312-macosx_11_0_arm64.whl.metadata (2.1 kB)\n",
      "Requirement already satisfied: tornado>=6.2 in /Users/vera/miniconda3/envs/my_env/lib/python3.12/site-packages (from bokeh) (6.4.1)\n",
      "Collecting xyzservices>=2021.09.1 (from bokeh)\n",
      "  Using cached xyzservices-2024.9.0-py3-none-any.whl.metadata (4.1 kB)\n",
      "Collecting scipy>=1.3.1 (from umap-learn)\n",
      "  Downloading scipy-1.14.1-cp312-cp312-macosx_12_0_arm64.whl.metadata (60 kB)\n",
      "Collecting scikit-learn>=0.22 (from umap-learn)\n",
      "  Downloading scikit_learn-1.5.2-cp312-cp312-macosx_12_0_arm64.whl.metadata (13 kB)\n",
      "Collecting numba>=0.51.2 (from umap-learn)\n",
      "  Downloading numba-0.60.0-cp312-cp312-macosx_11_0_arm64.whl.metadata (2.7 kB)\n",
      "Collecting pynndescent>=0.5 (from umap-learn)\n",
      "  Using cached pynndescent-0.5.13-py3-none-any.whl.metadata (6.8 kB)\n",
      "Collecting MarkupSafe>=2.0 (from Jinja2>=2.9->bokeh)\n",
      "  Downloading MarkupSafe-3.0.2-cp312-cp312-macosx_11_0_arm64.whl.metadata (4.0 kB)\n",
      "Collecting llvmlite<0.44,>=0.43.0dev0 (from numba>=0.51.2->umap-learn)\n",
      "  Downloading llvmlite-0.43.0-cp312-cp312-macosx_11_0_arm64.whl.metadata (4.8 kB)\n",
      "Collecting numpy>=1.16 (from bokeh)\n",
      "  Downloading numpy-2.0.2-cp312-cp312-macosx_11_0_arm64.whl.metadata (114 kB)\n",
      "Requirement already satisfied: python-dateutil>=2.8.2 in /Users/vera/miniconda3/envs/my_env/lib/python3.12/site-packages (from pandas>=1.2->bokeh) (2.9.0)\n",
      "Collecting pytz>=2020.1 (from pandas>=1.2->bokeh)\n",
      "  Downloading pytz-2024.2-py2.py3-none-any.whl.metadata (22 kB)\n",
      "Collecting tzdata>=2022.7 (from pandas>=1.2->bokeh)\n",
      "  Downloading tzdata-2024.2-py2.py3-none-any.whl.metadata (1.4 kB)\n",
      "Collecting threadpoolctl>=3.1.0 (from scikit-learn>=0.22->umap-learn)\n",
      "  Downloading threadpoolctl-3.5.0-py3-none-any.whl.metadata (13 kB)\n",
      "Requirement already satisfied: six>=1.5 in /Users/vera/miniconda3/envs/my_env/lib/python3.12/site-packages (from python-dateutil>=2.8.2->pandas>=1.2->bokeh) (1.16.0)\n",
      "Using cached nltk-3.9.1-py3-none-any.whl (1.5 MB)\n",
      "Using cached bokeh-3.6.0-py3-none-any.whl (6.9 MB)\n",
      "Using cached umap_learn-0.5.6-py3-none-any.whl (85 kB)\n",
      "Downloading contourpy-1.3.0-cp312-cp312-macosx_11_0_arm64.whl (251 kB)\n",
      "Using cached jinja2-3.1.4-py3-none-any.whl (133 kB)\n",
      "Downloading numba-0.60.0-cp312-cp312-macosx_11_0_arm64.whl (2.7 MB)\n",
      "\u001b[2K   \u001b[90m━━━━━━━━━━━━━━━━━━━━━━━━━━━━━━━━━━━━━━━━\u001b[0m \u001b[32m2.7/2.7 MB\u001b[0m \u001b[31m1.4 MB/s\u001b[0m eta \u001b[36m0:00:00\u001b[0m00:01\u001b[0m00:01\u001b[0m\n",
      "\u001b[?25hDownloading numpy-2.0.2-cp312-cp312-macosx_11_0_arm64.whl (13.5 MB)\n",
      "\u001b[2K   \u001b[90m━━━━━━━━━━━━━━━━━━━━━━━━━━━━━━━━━━━━━━━━\u001b[0m \u001b[32m13.5/13.5 MB\u001b[0m \u001b[31m814.5 kB/s\u001b[0m eta \u001b[36m0:00:00\u001b[0m00:01\u001b[0m00:01\u001b[0m\n",
      "\u001b[?25hDownloading pandas-2.2.3-cp312-cp312-macosx_11_0_arm64.whl (11.4 MB)\n",
      "\u001b[2K   \u001b[90m━━━━━━━━━━━━━━━━━━━━━━━━━━━━━━━━━━━━━━━━\u001b[0m \u001b[32m11.4/11.4 MB\u001b[0m \u001b[31m661.8 kB/s\u001b[0m eta \u001b[36m0:00:00\u001b[0m00:01\u001b[0m00:01\u001b[0m\n",
      "\u001b[?25hDownloading pillow-11.0.0-cp312-cp312-macosx_11_0_arm64.whl (3.0 MB)\n",
      "\u001b[2K   \u001b[90m━━━━━━━━━━━━━━━━━━━━━━━━━━━━━━━━━━━━━━━━\u001b[0m \u001b[32m3.0/3.0 MB\u001b[0m \u001b[31m958.7 kB/s\u001b[0m eta \u001b[36m0:00:00\u001b[0m\u001b[36m0:00:01\u001b[0m0m\n",
      "\u001b[?25hUsing cached pynndescent-0.5.13-py3-none-any.whl (56 kB)\n",
      "Using cached joblib-1.4.2-py3-none-any.whl (301 kB)\n",
      "Downloading PyYAML-6.0.2-cp312-cp312-macosx_11_0_arm64.whl (173 kB)\n",
      "Downloading regex-2024.9.11-cp312-cp312-macosx_11_0_arm64.whl (284 kB)\n",
      "Downloading scikit_learn-1.5.2-cp312-cp312-macosx_12_0_arm64.whl (11.0 MB)\n",
      "\u001b[2K   \u001b[90m━━━━━━━━━━━━━━━━━━━━━━━━━━━━━━━━━━━━━━━━\u001b[0m \u001b[32m11.0/11.0 MB\u001b[0m \u001b[31m815.8 kB/s\u001b[0m eta \u001b[36m0:00:00\u001b[0ma \u001b[36m0:00:01\u001b[0m\n",
      "\u001b[?25hDownloading scipy-1.14.1-cp312-cp312-macosx_12_0_arm64.whl (29.9 MB)\n",
      "\u001b[2K   \u001b[90m━━━━━━━━━━━━━━━━━━━━━━━━━━━━━━━━━━━━━━━━\u001b[0m \u001b[32m29.9/29.9 MB\u001b[0m \u001b[31m773.0 kB/s\u001b[0m eta \u001b[36m0:00:00\u001b[0m00:01\u001b[0m00:02\u001b[0m\n",
      "\u001b[?25hUsing cached xyzservices-2024.9.0-py3-none-any.whl (85 kB)\n",
      "Using cached click-8.1.7-py3-none-any.whl (97 kB)\n",
      "Downloading tqdm-4.66.5-py3-none-any.whl (78 kB)\n",
      "Downloading llvmlite-0.43.0-cp312-cp312-macosx_11_0_arm64.whl (28.8 MB)\n",
      "\u001b[2K   \u001b[90m━━━━━━━━━━━━━━━━━━━━━━━━━━━━━━━━━━━━━━━━\u001b[0m \u001b[32m28.8/28.8 MB\u001b[0m \u001b[31m525.7 kB/s\u001b[0m eta \u001b[36m0:00:00\u001b[0m00:01\u001b[0m00:02\u001b[0m\n",
      "\u001b[?25hDownloading MarkupSafe-3.0.2-cp312-cp312-macosx_11_0_arm64.whl (12 kB)\n",
      "Downloading pytz-2024.2-py2.py3-none-any.whl (508 kB)\n",
      "Downloading threadpoolctl-3.5.0-py3-none-any.whl (18 kB)\n",
      "Downloading tzdata-2024.2-py2.py3-none-any.whl (346 kB)\n",
      "Installing collected packages: pytz, xyzservices, tzdata, tqdm, threadpoolctl, regex, PyYAML, pillow, numpy, MarkupSafe, llvmlite, joblib, click, scipy, pandas, numba, nltk, Jinja2, contourpy, scikit-learn, bokeh, pynndescent, umap-learn\n",
      "Successfully installed Jinja2-3.1.4 MarkupSafe-3.0.2 PyYAML-6.0.2 bokeh-3.6.0 click-8.1.7 contourpy-1.3.0 joblib-1.4.2 llvmlite-0.43.0 nltk-3.9.1 numba-0.60.0 numpy-2.0.2 pandas-2.2.3 pillow-11.0.0 pynndescent-0.5.13 pytz-2024.2 regex-2024.9.11 scikit-learn-1.5.2 scipy-1.14.1 threadpoolctl-3.5.0 tqdm-4.66.5 tzdata-2024.2 umap-learn-0.5.6 xyzservices-2024.9.0\n"
     ]
    }
   ],
   "source": [
    "!pip install --upgrade nltk bokeh umap-learn"
   ]
  },
  {
   "cell_type": "code",
   "execution_count": 2,
   "metadata": {},
   "outputs": [
    {
     "name": "stdout",
     "output_type": "stream",
     "text": [
      "Collecting matplotlib\n",
      "  Downloading matplotlib-3.9.2-cp312-cp312-macosx_11_0_arm64.whl.metadata (11 kB)\n",
      "Requirement already satisfied: contourpy>=1.0.1 in /Users/vera/miniconda3/envs/my_env/lib/python3.12/site-packages (from matplotlib) (1.3.0)\n",
      "Collecting cycler>=0.10 (from matplotlib)\n",
      "  Using cached cycler-0.12.1-py3-none-any.whl.metadata (3.8 kB)\n",
      "Collecting fonttools>=4.22.0 (from matplotlib)\n",
      "  Downloading fonttools-4.54.1-cp312-cp312-macosx_11_0_arm64.whl.metadata (163 kB)\n",
      "Collecting kiwisolver>=1.3.1 (from matplotlib)\n",
      "  Downloading kiwisolver-1.4.7-cp312-cp312-macosx_11_0_arm64.whl.metadata (6.3 kB)\n",
      "Requirement already satisfied: numpy>=1.23 in /Users/vera/miniconda3/envs/my_env/lib/python3.12/site-packages (from matplotlib) (2.0.2)\n",
      "Requirement already satisfied: packaging>=20.0 in /Users/vera/miniconda3/envs/my_env/lib/python3.12/site-packages (from matplotlib) (24.1)\n",
      "Requirement already satisfied: pillow>=8 in /Users/vera/miniconda3/envs/my_env/lib/python3.12/site-packages (from matplotlib) (11.0.0)\n",
      "Collecting pyparsing>=2.3.1 (from matplotlib)\n",
      "  Using cached pyparsing-3.2.0-py3-none-any.whl.metadata (5.0 kB)\n",
      "Requirement already satisfied: python-dateutil>=2.7 in /Users/vera/miniconda3/envs/my_env/lib/python3.12/site-packages (from matplotlib) (2.9.0)\n",
      "Requirement already satisfied: six>=1.5 in /Users/vera/miniconda3/envs/my_env/lib/python3.12/site-packages (from python-dateutil>=2.7->matplotlib) (1.16.0)\n",
      "Downloading matplotlib-3.9.2-cp312-cp312-macosx_11_0_arm64.whl (7.8 MB)\n",
      "\u001b[2K   \u001b[90m━━━━━━━━━━━━━━━━━━━━━━━━━━━━━━━━━━━━━━━━\u001b[0m \u001b[32m7.8/7.8 MB\u001b[0m \u001b[31m1.0 MB/s\u001b[0m eta \u001b[36m0:00:00\u001b[0m0:00:01\u001b[0m00:01\u001b[0m\n",
      "\u001b[?25hUsing cached cycler-0.12.1-py3-none-any.whl (8.3 kB)\n",
      "Downloading fonttools-4.54.1-cp312-cp312-macosx_11_0_arm64.whl (2.3 MB)\n",
      "\u001b[2K   \u001b[90m━━━━━━━━━━━━━━━━━━━━━━━━━━━━━━━━━━━━━━━━\u001b[0m \u001b[32m2.3/2.3 MB\u001b[0m \u001b[31m739.1 kB/s\u001b[0m eta \u001b[36m0:00:00\u001b[0ma \u001b[36m0:00:01\u001b[0m\n",
      "\u001b[?25hDownloading kiwisolver-1.4.7-cp312-cp312-macosx_11_0_arm64.whl (63 kB)\n",
      "Using cached pyparsing-3.2.0-py3-none-any.whl (106 kB)\n",
      "Installing collected packages: pyparsing, kiwisolver, fonttools, cycler, matplotlib\n",
      "Successfully installed cycler-0.12.1 fonttools-4.54.1 kiwisolver-1.4.7 matplotlib-3.9.2 pyparsing-3.2.0\n"
     ]
    }
   ],
   "source": [
    "!pip install matplotlib\n"
   ]
  },
  {
   "cell_type": "code",
   "execution_count": 4,
   "metadata": {},
   "outputs": [
    {
     "name": "stdout",
     "output_type": "stream",
     "text": [
      "Collecting torch\n",
      "  Downloading torch-2.5.0-cp312-none-macosx_11_0_arm64.whl.metadata (28 kB)\n",
      "Collecting filelock (from torch)\n",
      "  Downloading filelock-3.16.1-py3-none-any.whl.metadata (2.9 kB)\n",
      "Requirement already satisfied: typing-extensions>=4.8.0 in /Users/vera/miniconda3/envs/my_env/lib/python3.12/site-packages (from torch) (4.12.2)\n",
      "Collecting networkx (from torch)\n",
      "  Downloading networkx-3.4.2-py3-none-any.whl.metadata (6.3 kB)\n",
      "Requirement already satisfied: jinja2 in /Users/vera/miniconda3/envs/my_env/lib/python3.12/site-packages (from torch) (3.1.4)\n",
      "Collecting fsspec (from torch)\n",
      "  Downloading fsspec-2024.10.0-py3-none-any.whl.metadata (11 kB)\n",
      "Requirement already satisfied: setuptools in /Users/vera/miniconda3/envs/my_env/lib/python3.12/site-packages (from torch) (75.1.0)\n",
      "Collecting sympy==1.13.1 (from torch)\n",
      "  Downloading sympy-1.13.1-py3-none-any.whl.metadata (12 kB)\n",
      "Collecting mpmath<1.4,>=1.1.0 (from sympy==1.13.1->torch)\n",
      "  Downloading mpmath-1.3.0-py3-none-any.whl.metadata (8.6 kB)\n",
      "Requirement already satisfied: MarkupSafe>=2.0 in /Users/vera/miniconda3/envs/my_env/lib/python3.12/site-packages (from jinja2->torch) (3.0.2)\n",
      "Downloading torch-2.5.0-cp312-none-macosx_11_0_arm64.whl (64.3 MB)\n",
      "\u001b[2K   \u001b[90m━━━━━━━━━━━━━━━━━━━━━━━━━━━━━━━━━━━━━━━━\u001b[0m \u001b[32m64.3/64.3 MB\u001b[0m \u001b[31m910.8 kB/s\u001b[0m eta \u001b[36m0:00:00\u001b[0m00:01\u001b[0m00:02\u001b[0m\n",
      "\u001b[?25hDownloading sympy-1.13.1-py3-none-any.whl (6.2 MB)\n",
      "\u001b[2K   \u001b[90m━━━━━━━━━━━━━━━━━━━━━━━━━━━━━━━━━━━━━━━━\u001b[0m \u001b[32m6.2/6.2 MB\u001b[0m \u001b[31m887.2 kB/s\u001b[0m eta \u001b[36m0:00:00\u001b[0ma \u001b[36m0:00:01\u001b[0m\n",
      "\u001b[?25hDownloading filelock-3.16.1-py3-none-any.whl (16 kB)\n",
      "Downloading fsspec-2024.10.0-py3-none-any.whl (179 kB)\n",
      "Downloading networkx-3.4.2-py3-none-any.whl (1.7 MB)\n",
      "\u001b[2K   \u001b[90m━━━━━━━━━━━━━━━━━━━━━━━━━━━━━━━━━━━━━━━━\u001b[0m \u001b[32m1.7/1.7 MB\u001b[0m \u001b[31m631.9 kB/s\u001b[0m eta \u001b[36m0:00:00\u001b[0ma \u001b[36m0:00:01\u001b[0m\n",
      "\u001b[?25hDownloading mpmath-1.3.0-py3-none-any.whl (536 kB)\n",
      "\u001b[2K   \u001b[90m━━━━━━━━━━━━━━━━━━━━━━━━━━━━━━━━━━━━━━━━\u001b[0m \u001b[32m536.2/536.2 kB\u001b[0m \u001b[31m1.8 MB/s\u001b[0m eta \u001b[36m0:00:00\u001b[0m-:--:--\u001b[0m\n",
      "\u001b[?25hInstalling collected packages: mpmath, sympy, networkx, fsspec, filelock, torch\n",
      "Successfully installed filelock-3.16.1 fsspec-2024.10.0 mpmath-1.3.0 networkx-3.4.2 sympy-1.13.1 torch-2.5.0\n"
     ]
    }
   ],
   "source": [
    "!pip install torch"
   ]
  },
  {
   "cell_type": "code",
   "execution_count": 5,
   "metadata": {
    "id": "pqPU4Lu2qU0h"
   },
   "outputs": [
    {
     "name": "stderr",
     "output_type": "stream",
     "text": [
      "/Users/vera/miniconda3/envs/my_env/lib/python3.12/site-packages/tqdm/auto.py:21: TqdmWarning: IProgress not found. Please update jupyter and ipywidgets. See https://ipywidgets.readthedocs.io/en/stable/user_install.html\n",
      "  from .autonotebook import tqdm as notebook_tqdm\n"
     ]
    }
   ],
   "source": [
    "import itertools\n",
    "import random\n",
    "import string\n",
    "from collections import Counter\n",
    "from itertools import chain\n",
    "\n",
    "import matplotlib.pyplot as plt\n",
    "import numpy as np\n",
    "import torch\n",
    "import torch.autograd as autograd\n",
    "import torch.nn as nn\n",
    "import torch.nn.functional as F\n",
    "import torch.optim as optim\n",
    "import umap\n",
    "from IPython.display import clear_output\n",
    "from matplotlib import pyplot as plt\n",
    "from nltk.tokenize import WordPunctTokenizer\n",
    "from torch.optim.lr_scheduler import ReduceLROnPlateau, StepLR\n",
    "from tqdm.auto import tqdm as tqdma"
   ]
  },
  {
   "cell_type": "code",
   "execution_count": 6,
   "metadata": {
    "colab": {
     "base_uri": "https://localhost:8080/"
    },
    "id": "8Fbx57z3qU0i",
    "outputId": "699ab6a7-41b9-402f-b842-039142bea06a"
   },
   "outputs": [
    {
     "name": "stdout",
     "output_type": "stream",
     "text": [
      "zsh:1: no matches found: https://www.dropbox.com/s/obaitrix9jyu84r/quora.txt?dl=1\n"
     ]
    }
   ],
   "source": [
    "# download the data:\n",
    "!wget https://www.dropbox.com/s/obaitrix9jyu84r/quora.txt?dl=1 -O ./quora.txt -nc\n",
    "# alternative download link: https://yadi.sk/i/BPQrUu1NaTduEw"
   ]
  },
  {
   "cell_type": "code",
   "execution_count": 8,
   "metadata": {
    "colab": {
     "base_uri": "https://localhost:8080/",
     "height": 37
    },
    "id": "8EYy5dQpqU0i",
    "outputId": "57a393d2-d5f5-4fa9-f46d-1b268d7798ae",
    "scrolled": false
   },
   "outputs": [
    {
     "data": {
      "text/plain": [
       "\"What TV shows or books help you read people's body language?\\n\""
      ]
     },
     "execution_count": 8,
     "metadata": {},
     "output_type": "execute_result"
    }
   ],
   "source": [
    "data = list(open(\"./quora.txt\", encoding=\"utf-8\"))\n",
    "data[50]"
   ]
  },
  {
   "cell_type": "markdown",
   "metadata": {
    "id": "feBEGI2eqU0j"
   },
   "source": [
    "Токенизация – первый шаг.\n",
    "Тексты, с которыми мы работаем, включают в себя пунктуацию, смайлики и прочие нестандартные токены, так что простой `str.split` не подойдет.\n",
    "\n",
    "Обратимся к `nltk` - библиотеку, нашла широкое применеие в области NLP."
   ]
  },
  {
   "cell_type": "code",
   "execution_count": 9,
   "metadata": {
    "colab": {
     "base_uri": "https://localhost:8080/"
    },
    "id": "7mWTvm50qU0j",
    "outputId": "18272985-9762-4288-8457-76fa78a44d52"
   },
   "outputs": [
    {
     "name": "stdout",
     "output_type": "stream",
     "text": [
      "['What', 'TV', 'shows', 'or', 'books', 'help', 'you', 'read', 'people', \"'\", 's', 'body', 'language', '?']\n"
     ]
    }
   ],
   "source": [
    "tokenizer = WordPunctTokenizer()\n",
    "\n",
    "#Токенизатор разбивает каждую строку на отдельные слова (токены).\n",
    "print(tokenizer.tokenize(data[50])) \n"
   ]
  },
  {
   "cell_type": "code",
   "execution_count": 10,
   "metadata": {
    "id": "HzC05EHWqU0j"
   },
   "outputs": [],
   "source": [
    "data_tok = [\n",
    "    tokenizer.tokenize(\n",
    "        line.translate(str.maketrans(\"\", \"\", string.punctuation)).lower() \n",
    "        #Для каждой строки в data метод translate удаляет все знаки пунктуации, а метод lower преобразует все символы в нижний регистр.\n",
    "    )\n",
    "    for line in data\n",
    "]\n",
    "\n",
    "#Создается новый список data_tok, в который входят только те токенизированные строки, которые содержат 3 или более токенов (слов). \n",
    "# Строки с числом токенов меньше 3 отбрасываются.\n",
    "data_tok = [x for x in data_tok if len(x) >= 3]\n"
   ]
  },
  {
   "cell_type": "markdown",
   "metadata": {
    "id": "6azRAgHIqU0k"
   },
   "source": [
    "Несколько проверок:"
   ]
  },
  {
   "cell_type": "code",
   "execution_count": 11,
   "metadata": {
    "id": "Cp8UpxdWqU0k"
   },
   "outputs": [],
   "source": [
    "#Проверка, что каждый элемент в data_tok является списком или кортежем\n",
    "assert all(\n",
    "    isinstance(row, (list, tuple)) for row in data_tok\n",
    "), \"please convert each line into a list of tokens (strings)\"\n",
    "\n",
    "#Проверка, что каждый элемент внутри строк в data_tok является строкой\n",
    "assert all(\n",
    "    all(isinstance(tok, str) for tok in row) for row in data_tok\n",
    "), \"please convert each line into a list of tokens (strings)\"\n",
    "is_latin = lambda tok: all(\"a\" <= x.lower() <= \"z\" for x in tok) #Функция is_latin используется для проверки, содержит ли токен только латинские символы (буквы от 'a' до 'z' без учёта регистра).\n",
    "\n",
    "#Проверка, что строки с латинскими символами — в нижнем регистре\n",
    "assert all(\n",
    "    map(lambda l: not is_latin(l) or l.islower(), map(\" \".join, data_tok))\n",
    "), \"please make sure to lowercase the data\""
   ]
  },
  {
   "cell_type": "markdown",
   "metadata": {
    "id": "37e7-MIhqU0x"
   },
   "source": [
    "Ниже заданы константы ширины окна контекста и проведена предобработка для построения skip-gram модели."
   ]
  },
  {
   "cell_type": "code",
   "execution_count": 12,
   "metadata": {
    "id": "fugc1IomqU0x"
   },
   "outputs": [],
   "source": [
    "min_count = 5\n",
    "window_radius = 5"
   ]
  },
  {
   "cell_type": "code",
   "execution_count": 13,
   "metadata": {},
   "outputs": [],
   "source": [
    "#chain.from_iterable(data_tok) разворачивает все списки из data_tok (где data_tok — список списков токенов) в один плоский список слов.\n",
    "#Counter подсчитывает частоту каждого слова, создавая словарь, в котором ключами являются слова, а значениями — их частоты.\n",
    "vocabulary_with_counter = Counter(chain.from_iterable(data_tok))\n",
    "\n",
    "word_count_dict = dict()\n",
    "for word, counter in vocabulary_with_counter.items():\n",
    "    if counter >= min_count:\n",
    "        word_count_dict[word] = counter\n",
    "\n",
    "vocabulary = set(word_count_dict.keys())\n",
    "\n",
    "#удаляется для освобождения памяти\n",
    "del vocabulary_with_counter"
   ]
  },
  {
   "cell_type": "code",
   "execution_count": 14,
   "metadata": {},
   "outputs": [],
   "source": [
    "#Этот словарь word_to_index сопоставляет каждому слову из vocabulary уникальный числовой индекс.\n",
    "#enumerate(vocabulary) перебирает слова из vocabulary, назначая каждому слову порядковый номер (index), начиная с 0.\n",
    "word_to_index = {word: index for index, word in enumerate(vocabulary)}\n",
    "\n",
    "#Этот словарь index_to_word является обратным к word_to_index, то есть каждому индексу сопоставляется его слово.\n",
    "#Он создается путем перебора элементов word_to_index, где ключ (word) становится значением, а значение (index) — ключом.\n",
    "index_to_word = {index: word for word, index in word_to_index.items()}"
   ]
  },
  {
   "cell_type": "markdown",
   "metadata": {
    "id": "4Y8rlBfqqU0x"
   },
   "source": [
    "Пары `(слово, контекст)` на основе доступного датасета сгенерированы ниже."
   ]
  },
  {
   "cell_type": "code",
   "execution_count": 15,
   "metadata": {
    "id": "h2-aqyyaqU0x"
   },
   "outputs": [
    {
     "name": "stdout",
     "output_type": "stream",
     "text": [
      "Generated 40220313 pairs of target and context words.\n"
     ]
    }
   ],
   "source": [
    "context_pairs = []\n",
    "\n",
    "for text in data_tok:\n",
    "    #Для каждого слова в предложении (в переменной text) определяет индекс i и само слово central_word, которое будет считаться центральным для текущего окна.\n",
    "    for i, central_word in enumerate(text):\n",
    "        #Определяет индексы слов, находящихся в пределах радиуса окна window_radius вокруг central_word.\n",
    "        context_indices = range(\n",
    "            max(0, i - window_radius), min(i + window_radius, len(text)) #гарантирует, что диапазон не выходит за начало текста и конец\n",
    "        )\n",
    "        #Перебирает все индексы соседних слов в текущем окне\n",
    "        for j in context_indices:\n",
    "            #Пропускает итерацию, если текущий индекс совпадает с индексом центрального слова, чтобы не создавать пару, состоящую из слова и самого себя.\n",
    "            if j == i:\n",
    "                continue\n",
    "            context_word = text[j]\n",
    "            if central_word in vocabulary and context_word in vocabulary:\n",
    "                context_pairs.append(\n",
    "                    #Если оба слова есть в словаре, создает пару, используя индексы word_to_index для центрального и контекстного слов, и добавляет ее в список context_pairs.\n",
    "                    (word_to_index[central_word], word_to_index[context_word])\n",
    "                )\n",
    "#Таким образом, в итоге создается список context_pairs, \n",
    "# содержащий пары (индекс целевого слова, индекс контекстного слова), \n",
    "# которые будут использоваться для обучения Skip-gram модели.\n",
    "\n",
    "print(f\"Generated {len(context_pairs)} pairs of target and context words.\")"
   ]
  },
  {
   "cell_type": "markdown",
   "metadata": {},
   "source": [
    "#### Подзадача №1: subsampling\n",
    "Для того, чтобы сгладить разницу в частоте встречаемсости слов, необходимо реализовать механизм subsampling'а.\n",
    "Для этого вам необходимо реализовать функцию ниже.\n",
    "\n",
    "Вероятность **исключить** слово из обучения (на фиксированном шаге) вычисляется как\n",
    "$$\n",
    "P_\\text{drop}(w_i)=1 - \\sqrt{\\frac{t}{f(w_i)}},\n",
    "$$\n",
    "где $f(w_i)$ – нормированная частота встречаемости слова, а $t$ – заданный порог (threshold)."
   ]
  },
  {
   "cell_type": "code",
   "execution_count": 18,
   "metadata": {},
   "outputs": [],
   "source": [
    "def subsample_frequent_words(word_count_dict, threshold=1e-5):\n",
    "    \"\"\"\n",
    "    Calculates the subsampling probabilities for words based on their frequencies.\n",
    "\n",
    "    This function is used to determine the probability of keeping a word in the dataset\n",
    "    when subsampling frequent words. The method used is inspired by the subsampling approach\n",
    "    in Word2Vec, where each word's frequency affects its probability of being kept.\n",
    "\n",
    "    Parameters:\n",
    "    - word_count_dict (dict): A dictionary where keys are words and values are the counts of those words.\n",
    "    - threshold (float, optional): A threshold parameter used to adjust the frequency of word subsampling.\n",
    "                                   Defaults to 1e-5.\n",
    "\n",
    "    Returns:\n",
    "    - dict: A dictionary where keys are words and values are the probabilities of keeping each word.\n",
    "\n",
    "    Example:\n",
    "    >>> word_counts = {'the': 5000, 'is': 1000, 'apple': 50}\n",
    "    >>> subsample_frequent_words(word_counts)\n",
    "    {'the': 0.028, 'is': 0.223, 'apple': 1.0}\n",
    "    \"\"\"\n",
    "\n",
    "    ### YOUR CODE HERE\n",
    "\n",
    "    # Общее количество слов в словаре\n",
    "    total_count = sum(word_count_dict.values())\n",
    "    \n",
    "    # Нормализуем частоты слов, чтобы получить вероятности\n",
    "    # В результате, каждая пара \"слово — частота\" из word_count_dict превращается в пару \"слово — вероятность\" в новом словаре word_freq.\n",
    "    word_freq = {word: count / total_count for word, count in word_count_dict.items()} #word_count_dict.items() возвращает набор всех пар \"ключ — значение\" из исходного словаря word_count_dict\n",
    "\n",
    "    #Этот код создаёт словарь keep_prob_dict, где каждому слову из word_freq присваивается вероятность его сохранения, зависящая от порогового значения threshold и частоты слова freq.\n",
    "    keep_prob_dict = {\n",
    "        word: max(0,1 - (threshold / freq) ** 0.5) if freq > threshold else 1.0\n",
    "        for word, freq in word_freq.items()\n",
    "    }  # THIS IS A PLACEHOLDER!\n",
    "    return keep_prob_dict"
   ]
  },
  {
   "cell_type": "markdown",
   "metadata": {},
   "source": [
    "#### Подзадача №2: negative sampling\n",
    "Для более эффективного обучения необходимо не только предсказывать высокие вероятности для слов из контекста, но и предсказывать низкие для слов, не встреченных в контексте. Для этого вам необходимо вычислить вероятност использовать слово в качестве negative sample, реализовав функцию ниже.\n",
    "\n",
    "В оригинальной статье предлагается оценивать вероятность слов выступать в качестве negative sample согласно распределению $P_n(w)$\n",
    "$$\n",
    "P_n(w) = \\frac{U(w)^{3/4}}{Z},\n",
    "$$\n",
    "\n",
    "где $U(w)$ распределение слов по частоте (или, как его еще называют, по униграммам), а $Z$ – нормировочная константа, чтобы общая мера была равна $1$."
   ]
  },
  {
   "cell_type": "code",
   "execution_count": 19,
   "metadata": {},
   "outputs": [],
   "source": [
    "def get_negative_sampling_prob(word_count_dict):\n",
    "    \"\"\"\n",
    "    Calculates the negative sampling probabilities for words based on their frequencies.\n",
    "\n",
    "    This function adjusts the frequency of each word raised to the power of 0.75, which is\n",
    "    commonly used in algorithms like Word2Vec to moderate the influence of very frequent words.\n",
    "    It then normalizes these adjusted frequencies to ensure they sum to 1, forming a probability\n",
    "    distribution used for negative sampling.\n",
    "\n",
    "    Parameters:\n",
    "    - word_councc  c c t_dict (dict): A dictionary where keys are words and values are the counts of those words.\n",
    "\n",
    "    Returns:\n",
    "    - dict: A dictionary where keys are words and values are the probabilities of selecting each word\n",
    "            for negative sampling.\n",
    "\n",
    "    Example:\n",
    "    >>> word_counts = {'the': 5000, 'is': 1000, 'apple': 50}\n",
    "    >>> get_negative_sampling_prob(word_counts)\n",
    "    {'the': 0.298, 'is': 0.160, 'apple': 0.042}\n",
    "    \"\"\"\n",
    "\n",
    "    ### YOUR CODE HERE\n",
    "    \n",
    "   # Вычисляем частоты слов с учетом степени 3/4\n",
    "    adjusted_freq = {word: count ** (3/4) for word, count in word_count_dict.items()}\n",
    "    \n",
    "    # Нормируем частоты, чтобы сумма была равна 1\n",
    "    total_adjusted_freq = sum(adjusted_freq.values())\n",
    "    \n",
    "    negative_sampling_prob_dict = {\n",
    "        word: freq / total_adjusted_freq for word, freq in adjusted_freq.items()\n",
    "    } # THIS IS A PLACEHOLDER!\n",
    "    return negative_sampling_prob_dict"
   ]
  },
  {
   "cell_type": "markdown",
   "metadata": {},
   "source": [
    "Для удобства, преобразуем полученные словари в массивы (т.к. все слова все равно уже пронумерованы)."
   ]
  },
  {
   "cell_type": "code",
   "execution_count": 20,
   "metadata": {},
   "outputs": [],
   "source": [
    "# Иными словами, это выражение проверяет, \n",
    "# что после выполнения функции subsample_frequent_words каждый ключ (то есть, каждое слово) из исходного словаря word_count_dict присутствует и в выходном словаре keep_prob_dict.\n",
    "\n",
    "keep_prob_dict = subsample_frequent_words(word_count_dict)\n",
    "\n",
    "#assert — это оператор, который проверяет истинность утверждения, указанного справа от него. Если утверждение неверно, программа остановится и выдаст ошибку AssertionError.\n",
    "assert keep_prob_dict.keys() == word_count_dict.keys()"
   ]
  },
  {
   "cell_type": "code",
   "execution_count": 21,
   "metadata": {},
   "outputs": [],
   "source": [
    "negative_sampling_prob_dict = get_negative_sampling_prob(word_count_dict)\n",
    "assert negative_sampling_prob_dict.keys() == negative_sampling_prob_dict.keys()\n",
    "\n",
    "# Этот код проверяет, что сумма всех значений в negative_sampling_prob_dict приблизительно равна \n",
    "# Функция np.allclose из библиотеки numpy проверяет, что два числа (или массивы) близки друг к другу с учётом допустимой погрешности. \n",
    "# Это полезно в случае работы с числами с плавающей точкой, так как такие вычисления могут давать небольшие отклонения от ожидаемого значения из-за особенностей округления.\n",
    "assert np.allclose(sum(negative_sampling_prob_dict.values()), 1)\n",
    "\n",
    "# Такое утверждение проверяет, что словарь negative_sampling_prob_dict представляет корректное распределение вероятностей, где сумма всех вероятностей должна быть равна 1. \n",
    "# Это особенно важно в задачах, где требуется выборка с заданной вероятностью для каждой категории (в данном случае, слов), \n",
    "# например, для метода негативной выборки (negative sampling) в обучении моделей обработки текста."
   ]
  },
  {
   "cell_type": "code",
   "execution_count": 22,
   "metadata": {},
   "outputs": [],
   "source": [
    "keep_prob_array = np.array(\n",
    "    [keep_prob_dict[index_to_word[idx]] for idx in range(len(word_to_index))]\n",
    ")\n",
    "negative_sampling_prob_array = np.array(\n",
    "    [\n",
    "        negative_sampling_prob_dict[index_to_word[idx]]\n",
    "        for idx in range(len(word_to_index))\n",
    "    ]\n",
    ")"
   ]
  },
  {
   "cell_type": "markdown",
   "metadata": {},
   "source": [
    "Если все прошло успешно, функция ниже поможет вам с генерацией подвыборок (батчей).\n",
    "\n",
    "### Зачем нужен батч?\n",
    "Вместо того, чтобы обучать модель на всех данных сразу, что может быть медленно и требовательно к памяти, данные разделяют на батчи. Модель обновляет свои параметры после обработки каждого батча, а не всей выборки, что ускоряет обучение и снижает нагрузку на память.\n",
    "\n",
    "### Преимущества использования батчей\n",
    "*Снижение требований к памяти:* Батчи позволяют работать с частями данных, вместо всей обучающей выборки, что особенно полезно для больших наборов данных.\n",
    "\n",
    "*Ускорение обучения:* Параметры модели обновляются чаще (после каждого батча), что способствует более быстрой сходимости модели.\n",
    "\n",
    "*Улучшение обобщающей способности:* Поскольку данные разбиваются на небольшие подмножества, градиенты, вычисленные для каждого батча, имеют случайные отклонения, которые могут помочь модели избежать локальных минимумов."
   ]
  },
  {
   "cell_type": "code",
   "execution_count": 23,
   "metadata": {},
   "outputs": [],
   "source": [
    "# Функция generate_batch_with_neg_samples создаёт обучающую выборку для моделей на основе метода негативной выборки. \n",
    "# Она формирует батч из пар \"центр-контекст\" (слово и его сосед) и для каждой пары добавляет несколько негативных примеров:\n",
    "# context_pairs: список пар \"центр-контекст\" (center, context), где center — центральное слово, а context — соседнее слово.\n",
    "# batch_size: желаемый размер батча.\n",
    "# keep_prob_array: массив вероятностей сохранения для каждого слова в словаре. Вероятность указана для индекса слова, и она используется для субсемплинга частых слов.\n",
    "# word_to_index: словарь, отображающий слова на их индексы в массиве.\n",
    "# num_negatives: количество негативных примеров, которое нужно сгенерировать для каждого положительного примера.\n",
    "# negative_sampling_prob_array: массив, содержащий вероятности, с которыми каждое слово должно быть выбрано в качестве негативного примера. Сумма всех вероятностей должна быть 1. \n",
    "\n",
    "def generate_batch_with_neg_samples(\n",
    "    context_pairs,\n",
    "    batch_size,\n",
    "    keep_prob_array,\n",
    "    word_to_index,\n",
    "    num_negatives,\n",
    "    negative_sampling_prob_array,\n",
    "):\n",
    "    # Здесь batch хранит пары \"центр-контекст\", а neg_samples — негативные примеры, соответствующие каждой паре.\n",
    "    batch = []\n",
    "    neg_samples = []\n",
    "\n",
    "    # Цикл продолжается, пока размер batch не достигнет batch_size.\n",
    "    while len(batch) < batch_size:\n",
    "        center, context = random.choice(context_pairs)\n",
    "        # Для каждого центрального слова (center) проводится случайный тест на его сохранение, основанный на вероятности из keep_prob_array. \n",
    "        # Если случайное число меньше этой вероятности, пара \"центр-контекст\" добавляется в batch.\n",
    "        if random.random() < keep_prob_array[center]:\n",
    "            batch.append((center, context))\n",
    "            # Здесь np.random.choice выбирает num_negatives слов на основе массива negative_sampling_prob_array, который содержит вероятности для каждого слова. \n",
    "            # Эти негативные примеры добавляются в neg_samples.\n",
    "            neg_sample = np.random.choice(\n",
    "                range(len(negative_sampling_prob_array)),\n",
    "                size=num_negatives,\n",
    "                p=negative_sampling_prob_array,\n",
    "            )\n",
    "            neg_samples.append(neg_sample)\n",
    "    # Пары \"центр-контекст\" и негативные примеры превращаются в массивы, которые затем возвращаются.\n",
    "    batch = np.array(batch)\n",
    "    neg_samples = np.vstack(neg_samples)\n",
    "    return batch, neg_samples"
   ]
  },
  {
   "cell_type": "code",
   "execution_count": 24,
   "metadata": {},
   "outputs": [],
   "source": [
    "batch_size = 4 # это количество пар \"центр-контекст\" (положительных примеров), которые будут включены в батч.\n",
    "num_negatives = 15 # это количество негативных примеров, которое будет сгенерировано для каждой пары \"центр-контекст\" в батче.\n",
    "batch, neg_samples = generate_batch_with_neg_samples(\n",
    "    context_pairs,\n",
    "    batch_size,\n",
    "    keep_prob_array,\n",
    "    word_to_index,\n",
    "    num_negatives,\n",
    "    negative_sampling_prob_array,\n",
    ")"
   ]
  },
  {
   "cell_type": "markdown",
   "metadata": {},
   "source": [
    "Наконец, время реализовать модель. Обращаем ваше внимание, использование линейных слоев (`nn.Linear`) далеко не всегда оправданно!\n",
    "\n",
    "Напомним, что в случае negative sampling решается задача максимизации следующего функционала:\n",
    "\n",
    "$$\n",
    "\\mathcal{L} = \\log \\sigma({\\mathbf{v}'_{w_O}}^\\top \\mathbf{v}_{w_I}) + \\sum_{i=1}^{k} \\mathbb{E}_{w_i \\sim P_n(w)} \\left[ \\log \\sigma({-\\mathbf{v}'_{w_i}}^\\top \\mathbf{v}_{w_I}) \\right],\n",
    "$$\n",
    "\n",
    "где:\n",
    "- $\\mathbf{v}_{w_I}$ – вектор центрального слова $w_I$,\n",
    "- $\\mathbf{v}'_{w_O}$ – вектор слова из контекста $w_O$,\n",
    "- $k$ – число negative samplesЮ,\n",
    "- $P_n(w)$ – распределение negative samples, заданное выше,\n",
    "- $\\sigma$ – сигмоида."
   ]
  },
  {
   "cell_type": "code",
   "execution_count": 120,
   "metadata": {},
   "outputs": [],
   "source": [
    "# Этот код определяет класс SkipGramModelWithNegSampling, который реализует модель Skip-gram с негативным сэмплированием, использующую библиотеку PyTorch. \n",
    "# Модель используется для обучения векторных представлений слов (эмбеддингов) с помощью метода Skip-gram, где цель состоит в том,\n",
    "#  чтобы предсказать контекстные слова (слова, окружающие центральное слово) из центральных слов.\n",
    "class SkipGramModelWithNegSampling(nn.Module):\n",
    "    # vocab_size: размер словаря, то есть общее количество уникальных слов, которые будут использоваться в модели.\n",
    "    # embedding_dim: размерность эмбеддингов (векторных представлений) для каждого слова.\n",
    "    # nn.Embedding: это слой PyTorch, который создает матрицу эмбеддингов, где строки соответствуют индексам слов, а столбцы — значениям векторов.\n",
    "    def __init__(self, vocab_size, embedding_dim):\n",
    "        super().__init__()\n",
    "        # Инициализируем эмбеддинги для центральных и контекстных слов\n",
    "        self.center_embeddings = nn.Embedding(vocab_size, embedding_dim)  # Эмбеддинги центральных слов\n",
    "        self.context_embeddings = nn.Embedding(vocab_size, embedding_dim)  # Эмбеддинги контекстных слов\n",
    "\n",
    "    # Функция forward принимает индексы центральных и контекстных слов и вычисляет положительные и негативные оценки для этих слов. \n",
    "    # Эти оценки позже могут быть использованы для вычисления потерь в процессе обучения, что позволяет модели улучшать качество эмбеддингов, делая их более информативными для задачи предсказания. \n",
    "    \n",
    "    # center_words: индексы центральных слов в батче.\n",
    "    # pos_context_words: индексы положительных контекстных слов (правильные контексты для центральных слов).\n",
    "    # neg_context_words: индексы негативных контекстных слов (случайные слова, которые не являются контекстами для центральных слов).\n",
    "    # center_vectors: векторные представления для центральных слов.\n",
    "    # pos_context_vectors: векторные представления для положительных контекстных слов.\n",
    "    # neg_context_vectors: векторные представления для негативных контекстных слов.\n",
    "    def forward(self, center_words, pos_context_words, neg_context_words):\n",
    "\n",
    "        center_vectors = self.center_embeddings(center_words)  # [batch_size, embedding_dim]\n",
    "        pos_context_vectors = self.context_embeddings(pos_context_words)  # [batch_size, embedding_dim]\n",
    "        neg_context_vectors = self.context_embeddings(neg_context_words)  # [batch_size * num_negatives, embedding_dim]\n",
    "        \n",
    "       # Calculate positive scores (should be [batch_size], где каждый элемент представляет собой оценку для соответствующей пары \"центр-контекст)\n",
    "       # Оценка положительных пар \"центр-контекст\" вычисляется путем поэлементного умножения векторов центральных и контекстных слов, а затем суммирования по размерности векторов (размерность 1).\n",
    "        pos_scores = (center_vectors * pos_context_vectors).sum(dim=1)  \n",
    "\n",
    "        # Calculate negative scores (should be [batch_size, num_negatives], где каждый элемент в строке соответствует оценкам для негативных примеров, связанных с данным центральным словом.)\n",
    "        # center_vectors.unsqueeze(1) добавляет новую размерность, превращая тензор размера [batch_size, embedding_dim] в [batch_size, 1, embedding_dim].\n",
    "        # Затем neg_context_vectors.view(center_vectors.size(0), -1, center_vectors.size(1)) изменяет размерность негативных векторов, чтобы они соответствовали размерности центра.\n",
    "        # После этого выполняется поэлементное умножение и суммирование по размерности векторов (размерность 2).\n",
    "        neg_scores = (center_vectors.unsqueeze(1) * neg_context_vectors.view(center_vectors.size(0), -1, center_vectors.size(1))).sum(dim=2)  # Shape: [batch_size, num_negatives]\n",
    "\n",
    "        # Return scores, ensuring they are in the expected shape\n",
    "\n",
    "\n",
    "        return pos_scores, neg_scores"
   ]
  },
  {
   "cell_type": "markdown",
   "metadata": {},
   "source": [
    "### Зачем это нужно?\n",
    "\n",
    "*Переключение между устройствами:* В PyTorch часто требуется выбирать между CPU и GPU в зависимости от доступных ресурсов и требований к производительности. Если ваш код будет выполняться на GPU, вы могли бы указать \"cuda\" вместо \"cpu\".\n",
    "\n",
    "*Кроссплатформенность:* Использование torch.device позволяет писать код, который легко адаптируется для выполнения на разных устройствах. Например, вы можете проверять доступность GPU и, если он доступен, использовать его"
   ]
  },
  {
   "cell_type": "code",
   "execution_count": 122,
   "metadata": {},
   "outputs": [],
   "source": [
    "# torch.device: Это класс в PyTorch, который представляет устройство, на котором будут размещены тензоры и выполняются операции. \n",
    "# Он позволяет вам легко переключаться между различными устройствами, такими как CPU и GPU.\n",
    "# В данном случае, строка \"cpu\" указывает, что устройство, на котором будут выполняться операции, — это центральный процессор (CPU).\n",
    "# Это значит, что все тензоры и вычисления, которые используют это устройство, будут выполняться на процессоре вашего компьютера, а не на графическом процессоре (GPU).\n",
    "device = torch.device(\"cpu\")"
   ]
  },
  {
   "cell_type": "code",
   "execution_count": 123,
   "metadata": {},
   "outputs": [],
   "source": [
    "# В результате выполнения этих строк кода вы создаете модель Skip-Gram с негативной выборкой, настраиваете оптимизатор для обновления параметров модели, \n",
    "# устанавливаете планировщик скорости обучения для оптимизации процесса обучения и определяете функцию потерь, которая будет использоваться для оценки эффективности модели. \n",
    "# Все это является важными этапами подготовки к обучению нейронной сети.\n",
    "\n",
    "\n",
    "vocab_size = len(word_to_index)\n",
    "embedding_dim = 32 #Указывает размерность векторных представлений слов (эмбеддингов). В данном случае размерность равна 32, что означает, что каждое слово будет представлено вектором размером 32.\n",
    "num_negatives = 15 #Указывает количество негативных выборок, которые будут использоваться в процессе обучения модели. В данном случае вы выбираете 15 негативных примеров для каждого положительного примера.\n",
    "\n",
    "model = SkipGramModelWithNegSampling(vocab_size, embedding_dim).to(device)\n",
    "\n",
    "# model.parameters(): Получает параметры модели (включая эмбеддинги) для оптимизации.\n",
    "# lr=0.05: Устанавливает скорость обучения (learning rate) для оптимизатора. Скорость обучения контролирует, насколько сильно обновляются параметры на каждой итерации.\n",
    "optimizer = optim.Adam(model.parameters(), lr=0.05)\n",
    "\n",
    "# ReduceLROnPlateau: Инициализация планировщика изменения скорости обучения, который уменьшает скорость обучения, если модель не показывает улучшение в течение определенного количества эпох.\n",
    "# optimizer: Передает оптимизатор, который будет изменяться.\n",
    "# factor=0.5: Указывает, что скорость обучения будет уменьшаться в 2 раза, когда срабатывает условие (то есть когда нет улучшения).\n",
    "# patience=150: Определяет, сколько эпох модель может обучаться без улучшения, прежде чем сработает уменьшение скорости обучения.\n",
    "lr_scheduler = ReduceLROnPlateau(optimizer, factor=0.5, patience=150)\n",
    "\n",
    "# Инициализация функции потерь для бинарной классификации с логитами. \n",
    "# Эта функция объединяет два этапа: применение сигмоиды и расчет бинарной кросс-энтропии. Она будет использоваться для оценки качества предсказаний модели во время обучения.\n",
    "criterion = nn.BCEWithLogitsLoss()"
   ]
  },
  {
   "cell_type": "code",
   "execution_count": 124,
   "metadata": {},
   "outputs": [],
   "source": [
    "# В приведенном вами коде происходит подсчет общего числа параметров в модели Skip-Gram с негативной выборкой, а затем выполняется проверка, \n",
    "# соответствует ли это значение ожидаемому количеству параметров на основе размера словаря и размерности эмбеддингов.\n",
    "\n",
    "params_counter = 0\n",
    "for weights in model.parameters():\n",
    "    params_counter += weights.shape.numel()\n",
    "assert params_counter == len(word_to_index) * embedding_dim * 2"
   ]
  },
  {
   "cell_type": "code",
   "execution_count": 125,
   "metadata": {},
   "outputs": [],
   "source": [
    "# model: модель Skip-Gram с негативной выборкой.\n",
    "# context_pairs: список пар центральных и контекстных слов.\n",
    "# keep_prob_array: массив вероятностей, используемых для отсева слов.\n",
    "# word_to_index: словарь, сопоставляющий слова с их индексами.\n",
    "# batch_size: размер батча.\n",
    "# num_negatives: количество негативных образцов для выборки.\n",
    "# negative_sampling_prob_array: вероятности выборки негативных слов.\n",
    "# steps: количество шагов обучения.\n",
    "# optimizer: оптимизатор для обновления параметров модели (по умолчанию optimizer).\n",
    "# lr_scheduler: планировщик для изменения скорости обучения (по умолчанию lr_scheduler).\n",
    "# device: устройство для выполнения (например, CPU или GPU).\n",
    "\n",
    "def train_skipgram_with_neg_sampling(\n",
    "    model,\n",
    "    context_pairs,\n",
    "    keep_prob_array,\n",
    "    word_to_index,\n",
    "    batch_size,\n",
    "    num_negatives,\n",
    "    negative_sampling_prob_array,\n",
    "    steps,\n",
    "    optimizer=optimizer,\n",
    "    lr_scheduler=lr_scheduler,\n",
    "    device=device,\n",
    "):\n",
    "    # создается вектор меток для положительных примеров (все значения равны 1, так как это положительные примеры).\n",
    "    pos_labels = torch.ones(batch_size).to(device)\n",
    "    # создается вектор меток для негативных примеров (все значения равны 0).\n",
    "    neg_labels = torch.zeros(batch_size, num_negatives).to(device)\n",
    "    # список для хранения значений потерь на каждом шаге обучения.\n",
    "    loss_history = []\n",
    "\n",
    "    for step in tqdma(range(steps)):\n",
    "        batch, neg_samples = generate_batch_with_neg_samples(\n",
    "            context_pairs,\n",
    "            batch_size,\n",
    "            keep_prob_array,\n",
    "            word_to_index,\n",
    "            num_negatives,\n",
    "            negative_sampling_prob_array,\n",
    "        )\n",
    "\n",
    "        # Создание тензоров: центральные слова, положительные и негативные контекстные слова преобразуются в тензоры и отправляются на нужное устройство (device).\n",
    "        center_words = torch.tensor([pair[0] for pair in batch], dtype=torch.long).to(\n",
    "            device\n",
    "        )\n",
    "        pos_context_words = torch.tensor(\n",
    "            [pair[1] for pair in batch], dtype=torch.long\n",
    "        ).to(device)\n",
    "        neg_context_words = torch.tensor(neg_samples, dtype=torch.long).to(device)\n",
    "\n",
    "        # Обнуление градиентов: обнуление накопленных градиентов перед обратным проходом.\n",
    "        optimizer.zero_grad()\n",
    "        # Вычисление оценок: вызов модели для получения оценок положительных и негативных пар слов.\n",
    "        pos_scores, neg_scores = model(\n",
    "            center_words, pos_context_words, neg_context_words\n",
    "        )\n",
    "\n",
    "        # Вычисление потерь\n",
    "        loss_pos = criterion(pos_scores, pos_labels)\n",
    "        loss_neg = criterion(neg_scores, neg_labels)\n",
    "        loss = loss_pos + loss_neg\n",
    "\n",
    "        # Обратное распространение ошибки: вычисление градиентов по отношению к параметрам модели.\n",
    "        # Обновление параметров: оптимизатор обновляет параметры модели на основе вычисленных градиентов.\n",
    "        loss.backward()\n",
    "        optimizer.step()\n",
    "\n",
    "        loss_history.append(loss.item())\n",
    "        # Обновление скорости обучения: планировщик скорости обучения (lr_scheduler) обновляет скорость обучения на основе последних значений потерь.\n",
    "        lr_scheduler.step(loss_history[-1])\n",
    "\n",
    "        # каждые 100 шагов обучения выводится текущее значение шага, среднее значение потерь за последние 100 шагов и текущая скорость обучения.\n",
    "        if step % 100 == 0:\n",
    "            print(\n",
    "                f\"Step {step}, Loss: {np.mean(loss_history[-100:])}, learning rate: {lr_scheduler._last_lr}\"\n",
    "            )"
   ]
  },
  {
   "cell_type": "code",
   "execution_count": 126,
   "metadata": {},
   "outputs": [
    {
     "name": "stderr",
     "output_type": "stream",
     "text": [
      "  0%|          | 1/2500 [00:00<29:14,  1.42it/s]"
     ]
    },
    {
     "name": "stdout",
     "output_type": "stream",
     "text": [
      "Step 0, Loss: 4.6023783683776855, learning rate: [0.05]\n"
     ]
    },
    {
     "name": "stderr",
     "output_type": "stream",
     "text": [
      "  4%|▍         | 101/2500 [01:07<26:34,  1.50it/s]"
     ]
    },
    {
     "name": "stdout",
     "output_type": "stream",
     "text": [
      "Step 100, Loss: 2.6979678475856783, learning rate: [0.05]\n"
     ]
    },
    {
     "name": "stderr",
     "output_type": "stream",
     "text": [
      "  8%|▊         | 201/2500 [02:12<25:11,  1.52it/s]"
     ]
    },
    {
     "name": "stdout",
     "output_type": "stream",
     "text": [
      "Step 200, Loss: 1.8722895777225494, learning rate: [0.05]\n"
     ]
    },
    {
     "name": "stderr",
     "output_type": "stream",
     "text": [
      " 12%|█▏        | 301/2500 [03:18<24:11,  1.52it/s]"
     ]
    },
    {
     "name": "stdout",
     "output_type": "stream",
     "text": [
      "Step 300, Loss: 1.732547972202301, learning rate: [0.05]\n"
     ]
    },
    {
     "name": "stderr",
     "output_type": "stream",
     "text": [
      " 16%|█▌        | 401/2500 [04:24<22:59,  1.52it/s]"
     ]
    },
    {
     "name": "stdout",
     "output_type": "stream",
     "text": [
      "Step 400, Loss: 1.6903539681434632, learning rate: [0.05]\n"
     ]
    },
    {
     "name": "stderr",
     "output_type": "stream",
     "text": [
      " 20%|██        | 501/2500 [05:29<21:51,  1.52it/s]"
     ]
    },
    {
     "name": "stdout",
     "output_type": "stream",
     "text": [
      "Step 500, Loss: 1.6771130871772766, learning rate: [0.05]\n"
     ]
    },
    {
     "name": "stderr",
     "output_type": "stream",
     "text": [
      " 24%|██▍       | 601/2500 [06:35<20:49,  1.52it/s]"
     ]
    },
    {
     "name": "stdout",
     "output_type": "stream",
     "text": [
      "Step 600, Loss: 1.6961883699893952, learning rate: [0.05]\n"
     ]
    },
    {
     "name": "stderr",
     "output_type": "stream",
     "text": [
      " 28%|██▊       | 701/2500 [07:40<19:35,  1.53it/s]"
     ]
    },
    {
     "name": "stdout",
     "output_type": "stream",
     "text": [
      "Step 700, Loss: 1.6834213769435882, learning rate: [0.025]\n"
     ]
    },
    {
     "name": "stderr",
     "output_type": "stream",
     "text": [
      " 32%|███▏      | 801/2500 [08:46<18:29,  1.53it/s]"
     ]
    },
    {
     "name": "stdout",
     "output_type": "stream",
     "text": [
      "Step 800, Loss: 1.6335717511177064, learning rate: [0.025]\n"
     ]
    },
    {
     "name": "stderr",
     "output_type": "stream",
     "text": [
      " 36%|███▌      | 901/2500 [09:51<17:34,  1.52it/s]"
     ]
    },
    {
     "name": "stdout",
     "output_type": "stream",
     "text": [
      "Step 900, Loss: 1.5908197665214538, learning rate: [0.025]\n"
     ]
    },
    {
     "name": "stderr",
     "output_type": "stream",
     "text": [
      " 40%|████      | 1001/2500 [10:57<16:30,  1.51it/s]"
     ]
    },
    {
     "name": "stdout",
     "output_type": "stream",
     "text": [
      "Step 1000, Loss: 1.576729166507721, learning rate: [0.025]\n"
     ]
    },
    {
     "name": "stderr",
     "output_type": "stream",
     "text": [
      " 44%|████▍     | 1101/2500 [12:03<15:18,  1.52it/s]"
     ]
    },
    {
     "name": "stdout",
     "output_type": "stream",
     "text": [
      "Step 1100, Loss: 1.5395388388633728, learning rate: [0.0125]\n"
     ]
    },
    {
     "name": "stderr",
     "output_type": "stream",
     "text": [
      " 48%|████▊     | 1201/2500 [13:08<14:20,  1.51it/s]"
     ]
    },
    {
     "name": "stdout",
     "output_type": "stream",
     "text": [
      "Step 1200, Loss: 1.510932710170746, learning rate: [0.0125]\n"
     ]
    },
    {
     "name": "stderr",
     "output_type": "stream",
     "text": [
      " 52%|█████▏    | 1301/2500 [14:14<13:32,  1.48it/s]"
     ]
    },
    {
     "name": "stdout",
     "output_type": "stream",
     "text": [
      "Step 1300, Loss: 1.5078410363197328, learning rate: [0.0125]\n"
     ]
    },
    {
     "name": "stderr",
     "output_type": "stream",
     "text": [
      " 56%|█████▌    | 1401/2500 [15:20<11:59,  1.53it/s]"
     ]
    },
    {
     "name": "stdout",
     "output_type": "stream",
     "text": [
      "Step 1400, Loss: 1.495047287940979, learning rate: [0.00625]\n"
     ]
    },
    {
     "name": "stderr",
     "output_type": "stream",
     "text": [
      " 60%|██████    | 1501/2500 [16:26<10:57,  1.52it/s]"
     ]
    },
    {
     "name": "stdout",
     "output_type": "stream",
     "text": [
      "Step 1500, Loss: 1.4774551975727082, learning rate: [0.00625]\n"
     ]
    },
    {
     "name": "stderr",
     "output_type": "stream",
     "text": [
      " 64%|██████▍   | 1601/2500 [17:31<09:47,  1.53it/s]"
     ]
    },
    {
     "name": "stdout",
     "output_type": "stream",
     "text": [
      "Step 1600, Loss: 1.4626908636093139, learning rate: [0.003125]\n"
     ]
    },
    {
     "name": "stderr",
     "output_type": "stream",
     "text": [
      " 68%|██████▊   | 1701/2500 [18:37<08:44,  1.52it/s]"
     ]
    },
    {
     "name": "stdout",
     "output_type": "stream",
     "text": [
      "Step 1700, Loss: 1.447333997488022, learning rate: [0.003125]\n"
     ]
    },
    {
     "name": "stderr",
     "output_type": "stream",
     "text": [
      " 72%|███████▏  | 1801/2500 [19:42<07:35,  1.53it/s]"
     ]
    },
    {
     "name": "stdout",
     "output_type": "stream",
     "text": [
      "Step 1800, Loss: 1.445758765935898, learning rate: [0.0015625]\n"
     ]
    },
    {
     "name": "stderr",
     "output_type": "stream",
     "text": [
      " 76%|███████▌  | 1901/2500 [20:48<06:32,  1.53it/s]"
     ]
    },
    {
     "name": "stdout",
     "output_type": "stream",
     "text": [
      "Step 1900, Loss: 1.444061814546585, learning rate: [0.0015625]\n"
     ]
    },
    {
     "name": "stderr",
     "output_type": "stream",
     "text": [
      " 80%|████████  | 2001/2500 [21:53<05:26,  1.53it/s]"
     ]
    },
    {
     "name": "stdout",
     "output_type": "stream",
     "text": [
      "Step 2000, Loss: 1.4462200057506562, learning rate: [0.00078125]\n"
     ]
    },
    {
     "name": "stderr",
     "output_type": "stream",
     "text": [
      " 84%|████████▍ | 2101/2500 [22:59<04:21,  1.53it/s]"
     ]
    },
    {
     "name": "stdout",
     "output_type": "stream",
     "text": [
      "Step 2100, Loss: 1.4360248827934265, learning rate: [0.00078125]\n"
     ]
    },
    {
     "name": "stderr",
     "output_type": "stream",
     "text": [
      " 88%|████████▊ | 2201/2500 [24:05<03:15,  1.53it/s]"
     ]
    },
    {
     "name": "stdout",
     "output_type": "stream",
     "text": [
      "Step 2200, Loss: 1.4397280645370483, learning rate: [0.000390625]\n"
     ]
    },
    {
     "name": "stderr",
     "output_type": "stream",
     "text": [
      " 92%|█████████▏| 2301/2500 [25:10<02:09,  1.53it/s]"
     ]
    },
    {
     "name": "stdout",
     "output_type": "stream",
     "text": [
      "Step 2300, Loss: 1.4428039014339447, learning rate: [0.000390625]\n"
     ]
    },
    {
     "name": "stderr",
     "output_type": "stream",
     "text": [
      " 96%|█████████▌| 2401/2500 [26:15<01:04,  1.53it/s]"
     ]
    },
    {
     "name": "stdout",
     "output_type": "stream",
     "text": [
      "Step 2400, Loss: 1.4427489888668061, learning rate: [0.0001953125]\n"
     ]
    },
    {
     "name": "stderr",
     "output_type": "stream",
     "text": [
      "100%|██████████| 2500/2500 [27:20<00:00,  1.52it/s]\n"
     ]
    }
   ],
   "source": [
    "steps = 2500\n",
    "batch_size = 512\n",
    "train_skipgram_with_neg_sampling(\n",
    "    model,\n",
    "    context_pairs,\n",
    "    keep_prob_array,\n",
    "    word_to_index,\n",
    "    batch_size,\n",
    "    num_negatives,\n",
    "    negative_sampling_prob_array,\n",
    "    steps,\n",
    ")"
   ]
  },
  {
   "cell_type": "markdown",
   "metadata": {},
   "source": [
    "Наконец, используйте полученную матрицу весов в качестве матрицы в векторными представлениями слов. Рекомендуем использовать для сдачи матрицу, которая отвечала за слова из контекста (т.е. декодера)."
   ]
  },
  {
   "cell_type": "code",
   "execution_count": 127,
   "metadata": {},
   "outputs": [],
   "source": [
    "# В PyTorch у моделей есть параметры, такие как веса и смещения слоев, которые обучаются. \n",
    "# Вызов model.parameters() возвращает итератор по этим параметрам, позволяя обращаться к ним последовательно.\n",
    "_model_parameters = model.parameters()\n",
    "\n",
    "# С помощью next(_model_parameters) мы последовательно извлекаем параметры из итератора model.parameters(). \n",
    "# Эта структура позволяет отличать центральное слово от контекста, что полезно для обучения таких моделей.\n",
    "embedding_matrix_center = next(\n",
    "    _model_parameters\n",
    ").detach()  # первая матрица из model.parameters(). Она содержит вектора для \"центрального слова\". Эти вектора используются, когда слово рассматривается как целевое.\n",
    "embedding_matrix_context = next(\n",
    "    _model_parameters\n",
    ").detach()  # вторая матрица из model.parameters(). Она содержит вектора для \"контекстного слова\". Эти вектора представляют те же слова, но в роли соседних для целевого слова.\n",
    "\n",
    "# Использование detach() для отсоединения от графа вычислений\n",
    "# detach() применяется к каждому из этих тензоров (матриц), что выполняет важную роль:\n",
    "\n",
    "# Вызов .detach() отключает тензор от текущего графа вычислений (в PyTorch, он строится для автоматического дифференцирования).\n",
    "# Это значит, что мы можем использовать embedding_matrix_center и embedding_matrix_context как статичные тензоры, не влияя на обновление параметров модели и не отслеживая вычисления градиентов для них.\n",
    "# Отделение тензора от графа вычислений полезно, если мы хотим проанализировать или сохранить текущие веса эмбеддингов как отдельные данные, не изменяя их в ходе дальнейшего обучения."
   ]
  },
  {
   "cell_type": "code",
   "execution_count": 128,
   "metadata": {},
   "outputs": [],
   "source": [
    "# Эта функция извлекает векторное представление (эмбеддинг) для заданного слова, используя матрицу эмбеддингов и словарь индексов слов.\n",
    "def get_word_vector(word, embedding_matrix, word_to_index=word_to_index):\n",
    "    return embedding_matrix[word_to_index[word]]"
   ]
  },
  {
   "cell_type": "markdown",
   "metadata": {},
   "source": [
    "Простые проверки:"
   ]
  },
  {
   "cell_type": "code",
   "execution_count": 129,
   "metadata": {},
   "outputs": [
    {
     "name": "stdout",
     "output_type": "stream",
     "text": [
      "Vector for 'iPhone': tensor([ 0.1171, -0.1187, -0.1331,  0.0011,  0.1511,  0.0262,  0.3928,  0.0176,\n",
      "        -0.2136, -0.0551,  0.0358, -0.0121, -0.0725, -0.2730,  0.3475, -0.1430,\n",
      "         0.4183, -0.1028, -0.0006, -0.3810,  0.2902, -0.5154,  0.2898,  0.3048,\n",
      "        -0.2263, -0.0262,  0.2281,  0.0566,  0.3366,  0.5077,  0.1229,  0.0364])\n",
      "Vector for 'Apple': tensor([-0.3457, -0.5893, -0.4724,  0.2251,  0.5765,  0.7134, -0.1431, -0.4063,\n",
      "        -0.2447, -0.0225, -0.0106, -0.3396, -0.1376, -0.0447, -0.1014, -0.5354,\n",
      "         0.6841, -0.0521, -0.0901, -0.0536,  0.4794, -0.4706,  0.1093, -0.0758,\n",
      "         0.3781,  0.1222,  0.2602,  0.3493,  0.1864,  0.2476,  0.5047,  0.2276])\n",
      "Vector for 'Dell': tensor([ 2.0755, -0.4357, -1.1041, -1.3451,  0.4739, -0.4143, -0.5549,  0.0893,\n",
      "        -0.0075,  0.9684, -0.3060, -0.6028,  0.3119, -0.1141, -0.0195,  0.8174,\n",
      "         2.4980,  0.3135, -0.4191, -1.5256, -0.0815,  1.6965,  0.0128, -0.9906,\n",
      "         0.4787,  0.9540, -0.0181, -1.6560, -0.0502, -0.0631,  0.2027, -1.1891])\n"
     ]
    }
   ],
   "source": [
    "print(\"Vector for 'iPhone':\", get_word_vector(\"iphone\", embedding_matrix_context))\n",
    "print(\"Vector for 'Apple':\", get_word_vector(\"apple\", embedding_matrix_context))\n",
    "print(\"Vector for 'Dell':\", get_word_vector(\"dell\", embedding_matrix_context))\n"
   ]
  },
  {
   "cell_type": "code",
   "execution_count": 130,
   "metadata": {},
   "outputs": [],
   "source": [
    "# косинусные сходства между векторными представлениями\n",
    "# F.cosine_similarity(...) вычисляет косинусное сходство между векторами слов. \n",
    "# Сходство измеряет, насколько схожи два вектора, и варьируется от -1 до 1, где 1 означает полное совпадение (вектора направлены в одном направлении),\n",
    "# 0 — отсутствие сходства, а -1 — противоположные направления.\n",
    "\n",
    "\n",
    "similarity_1 = F.cosine_similarity(\n",
    "    get_word_vector(\"iphone\", embedding_matrix_context)[None, :],\n",
    "    get_word_vector(\"apple\", embedding_matrix_context)[None, :],\n",
    ")\n",
    "similarity_2 = F.cosine_similarity(\n",
    "    get_word_vector(\"iphone\", embedding_matrix_context)[None, :],\n",
    "    get_word_vector(\"dell\", embedding_matrix_context)[None, :],\n",
    ")\n",
    "assert similarity_1 > similarity_2"
   ]
  },
  {
   "cell_type": "markdown",
   "metadata": {},
   "source": [
    "### Зачем это нужно?\n",
    "\n",
    "**Оценка семантической близости:**\n",
    "\n",
    "Код помогает проверить, насколько близки значения слов \"iphone\" и \"apple\" в векторном пространстве. Это может быть полезно для оценки качества эмбеддингов: если \"iphone\" и \"apple\" являются синонимами или имеют схожие значения, их векторы должны быть ближе друг к другу.\n",
    "\n",
    "**Тестирование модели:**\n",
    "\n",
    "Это может быть частью процесса тестирования модели, обученной для генерации векторных представлений слов. Если условия не выполняются (т.е. similarity_1 <= similarity_2), это может указывать на проблемы в обучении модели или в самом процессе генерации эмбеддингов.\n",
    "\n",
    "**Использование в NLP-приложениях:**\n",
    "\n",
    "Векторные представления слов широко применяются в задачах обработки естественного языка (NLP), таких как классификация текстов, анализ тональности и создание рекомендательных систем. Сравнение сходства помогает находить синонимы, антонимы и связанные слова."
   ]
  },
  {
   "cell_type": "code",
   "execution_count": 131,
   "metadata": {},
   "outputs": [],
   "source": [
    "similarity_1 = F.cosine_similarity(\n",
    "    get_word_vector(\"windows\", embedding_matrix_context)[None, :],\n",
    "    get_word_vector(\"laptop\", embedding_matrix_context)[None, :],\n",
    ")\n",
    "similarity_2 = F.cosine_similarity(\n",
    "    get_word_vector(\"windows\", embedding_matrix_context)[None, :],\n",
    "    get_word_vector(\"macbook\", embedding_matrix_context)[None, :],\n",
    ")\n",
    "assert similarity_1 > similarity_2"
   ]
  },
  {
   "cell_type": "markdown",
   "metadata": {},
   "source": [
    "Наконец, взглянем на ближайшие по косинусной мере слова. Функция реализована ниже."
   ]
  },
  {
   "cell_type": "code",
   "execution_count": 132,
   "metadata": {
    "id": "dA0V6rOYtsLk"
   },
   "outputs": [],
   "source": [
    "# предназначена для нахождения ближайших слов к заданному слову на основе косинусного сходства векторов их эмбеддингов\n",
    "# k: Количество ближайших слов, которые нужно вернуть (по умолчанию — 10).\n",
    "def find_nearest(word, embedding_matrix, word_to_index=word_to_index, k=10):\n",
    "    word_vector = get_word_vector(word, embedding_matrix)[None, :] # Вызывается функция get_word_vector для получения вектора эмбеддинга заданного слова. \n",
    "                                                                   # None, : добавляет новую размерность, превращая вектор в 2D массив (тензор), чтобы его можно было сравнивать с другими векторами.\n",
    "    dists = F.cosine_similarity(embedding_matrix, word_vector)\n",
    "    index_sorted = torch.argsort(dists) # сортирует индексы элементов тензора dists в порядке возрастания. \n",
    "                                        # Это означает, что на первых позициях будут находиться слова с наименьшим сходством, а на последних — с наибольшим.\n",
    "    top_k = index_sorted[-k:] # получает последние k индексов из отсортированного массива. Эти индексы соответствуют словам, которые имеют наибольшее косинусное сходство с заданным словом.\n",
    "    return [(index_to_word[x], dists[x].item()) for x in top_k.numpy()] # Функция возвращает список кортежей, где каждый кортеж состоит из:\n",
    "                                                                        # слова, соответствующего индексу (из index_to_word), и\n",
    "                                                                        # значения косинусного сходства (из dists).\n",
    "                                                                        # Используется top_k.numpy(), чтобы преобразовать индексы в формат NumPy, который более удобен для итерации."
   ]
  },
  {
   "cell_type": "code",
   "execution_count": 133,
   "metadata": {},
   "outputs": [
    {
     "data": {
      "text/plain": [
       "[('mira', 0.6053881645202637),\n",
       " ('reminiscent', 0.6061620116233826),\n",
       " ('timor', 0.607374370098114),\n",
       " ('smartly', 0.6189245581626892),\n",
       " ('proved', 0.6291970014572144),\n",
       " ('prevention', 0.6299614906311035),\n",
       " ('cake', 0.6423791646957397),\n",
       " ('lightly', 0.6623252630233765),\n",
       " ('silent', 0.6768826246261597),\n",
       " ('python', 1.0000001192092896)]"
      ]
     },
     "execution_count": 133,
     "metadata": {},
     "output_type": "execute_result"
    }
   ],
   "source": [
    "find_nearest(\"python\", embedding_matrix_context, k=10)"
   ]
  },
  {
   "cell_type": "markdown",
   "metadata": {},
   "source": [
    "Также вы можете визуально проверить, как представлены в латентном пространстве часто встречающиеся слова."
   ]
  },
  {
   "cell_type": "code",
   "execution_count": 134,
   "metadata": {},
   "outputs": [],
   "source": [
    "top_k = 5000 # Здесь задаётся переменная top_k, которая определяет количество \"топовых\" слов, которые мы хотим извлечь, равное 5000.\n",
    "_top_words = sorted([x for x in word_count_dict.items()], key=lambda x: x[1])[ # Сортируем этот список по частоте (второй элемент каждой пары), то есть от наименьшей частоты к наибольшей.\n",
    "    -top_k - 100 : -100]  # -top_k - 100 означает, что мы берем элементы, начиная с позиции, которая на 5000+100=5100 от конца (то есть 5100-ное слово от наименьшей частоты) \n",
    "                          # и до -100, что означает, что мы исключаем 100 самых частых слов. Таким образом, мы получаем 4900 слов с низкой частотой, исключая 100 наиболее частых слов.\n",
    "top_words = [x[0] for x in _top_words]\n",
    "del _top_words"
   ]
  },
  {
   "cell_type": "code",
   "execution_count": 135,
   "metadata": {},
   "outputs": [],
   "source": [
    "# Здесь используется списковое включение (list comprehension) для создания списка векторов слов.\n",
    "# top_words — это список слов, которые мы извлекли ранее.\n",
    "# Для каждого слова x из top_words:\n",
    "# word_to_index[x]: Используется для получения индекса слова x в словаре word_to_index, который связывает слова с их индексами в матрице векторов.\n",
    "# embedding_matrix_context[word_to_index[x]]: Получает векторное представление слова из embedding_matrix_context по его индексу.\n",
    "# [None, :]: Добавляет новую ось в начало вектора, превращая его в 2D массив (т. е. вектор формы (1, embedding_dim)), что позволяет использовать его в операциях, требующих совместимости размерностей.\n",
    "# torch.cat(..., dim=0): Конкатенирует (объединяет) все векторы в один тензор вдоль первой оси (оси 0).\n",
    "# В результате получается 2D тензор, в котором каждый ряд соответствует векторному представлению одного слова из списка top_words. \n",
    "# Если размерность каждого вектора — embedding_dim, то итоговый тензор будет иметь форму (N, embedding_dim), где N — это количество слов в top_words.\n",
    "# В конце мы преобразуем получившийся тензор в массив NumPy, чтобы с ним можно было работать в контексте библиотек, которые требуют NumPy-массивы или для дальнейшей обработки.\n",
    "word_embeddings = torch.cat(\n",
    "    [embedding_matrix_context[word_to_index[x]][None, :] for x in top_words], dim=0\n",
    ").numpy()"
   ]
  },
  {
   "cell_type": "code",
   "execution_count": 136,
   "metadata": {},
   "outputs": [
    {
     "data": {
      "text/html": [
       "    <style>\n",
       "        .bk-notebook-logo {\n",
       "            display: block;\n",
       "            width: 20px;\n",
       "            height: 20px;\n",
       "            background-image: url(data:image/png;base64,iVBORw0KGgoAAAANSUhEUgAAABQAAAAUCAYAAACNiR0NAAAABHNCSVQICAgIfAhkiAAAAAlwSFlzAAALEgAACxIB0t1+/AAAABx0RVh0U29mdHdhcmUAQWRvYmUgRmlyZXdvcmtzIENTNui8sowAAAOkSURBVDiNjZRtaJVlGMd/1/08zzln5zjP1LWcU9N0NkN8m2CYjpgQYQXqSs0I84OLIC0hkEKoPtiH3gmKoiJDU7QpLgoLjLIQCpEsNJ1vqUOdO7ppbuec5+V+rj4ctwzd8IIbbi6u+8f1539dt3A78eXC7QizUF7gyV1fD1Yqg4JWz84yffhm0qkFqBogB9rM8tZdtwVsPUhWhGcFJngGeWrPzHm5oaMmkfEg1usvLFyc8jLRqDOMru7AyC8saQr7GG7f5fvDeH7Ej8CM66nIF+8yngt6HWaKh7k49Soy9nXurCi1o3qUbS3zWfrYeQDTB/Qj6kX6Ybhw4B+bOYoLKCC9H3Nu/leUTZ1JdRWkkn2ldcCamzrcf47KKXdAJllSlxAOkRgyHsGC/zRday5Qld9DyoM4/q/rUoy/CXh3jzOu3bHUVZeU+DEn8FInkPBFlu3+nW3Nw0mk6vCDiWg8CeJaxEwuHS3+z5RgY+YBR6V1Z1nxSOfoaPa4LASWxxdNp+VWTk7+4vzaou8v8PN+xo+KY2xsw6une2frhw05CTYOmQvsEhjhWjn0bmXPjpE1+kplmmkP3suftwTubK9Vq22qKmrBhpY4jvd5afdRA3wGjFAgcnTK2s4hY0/GPNIb0nErGMCRxWOOX64Z8RAC4oCXdklmEvcL8o0BfkNK4lUg9HTl+oPlQxdNo3Mg4Nv175e/1LDGzZen30MEjRUtmXSfiTVu1kK8W4txyV6BMKlbgk3lMwYCiusNy9fVfvvwMxv8Ynl6vxoByANLTWplvuj/nF9m2+PDtt1eiHPBr1oIfhCChQMBw6Aw0UulqTKZdfVvfG7VcfIqLG9bcldL/+pdWTLxLUy8Qq38heUIjh4XlzZxzQm19lLFlr8vdQ97rjZVOLf8nclzckbcD4wxXMidpX30sFd37Fv/GtwwhzhxGVAprjbg0gCAEeIgwCZyTV2Z1REEW8O4py0wsjeloKoMr6iCY6dP92H6Vw/oTyICIthibxjm/DfN9lVz8IqtqKYLUXfoKVMVQVVJOElGjrnnUt9T9wbgp8AyYKaGlqingHZU/uG2NTZSVqwHQTWkx9hxjkpWDaCg6Ckj5qebgBVbT3V3NNXMSiWSDdGV3hrtzla7J+duwPOToIg42ChPQOQjspnSlp1V+Gjdged7+8UN5CRAV7a5EdFNwCjEaBR27b3W890TE7g24NAP/mMDXRWrGoFPQI9ls/MWO2dWFAar/xcOIImbbpA3zgAAAABJRU5ErkJggg==);\n",
       "        }\n",
       "    </style>\n",
       "    <div>\n",
       "        <a href=\"https://bokeh.org\" target=\"_blank\" class=\"bk-notebook-logo\"></a>\n",
       "        <span id=\"e52dd9b2-4957-438c-836d-bb496f5f1b8d\">Loading BokehJS ...</span>\n",
       "    </div>\n"
      ]
     },
     "metadata": {},
     "output_type": "display_data"
    },
    {
     "data": {
      "application/javascript": "'use strict';\n(function(root) {\n  function now() {\n    return new Date();\n  }\n\n  const force = true;\n\n  if (typeof root._bokeh_onload_callbacks === \"undefined\" || force === true) {\n    root._bokeh_onload_callbacks = [];\n    root._bokeh_is_loading = undefined;\n  }\n\nconst JS_MIME_TYPE = 'application/javascript';\n  const HTML_MIME_TYPE = 'text/html';\n  const EXEC_MIME_TYPE = 'application/vnd.bokehjs_exec.v0+json';\n  const CLASS_NAME = 'output_bokeh rendered_html';\n\n  /**\n   * Render data to the DOM node\n   */\n  function render(props, node) {\n    const script = document.createElement(\"script\");\n    node.appendChild(script);\n  }\n\n  /**\n   * Handle when an output is cleared or removed\n   */\n  function handleClearOutput(event, handle) {\n    function drop(id) {\n      const view = Bokeh.index.get_by_id(id)\n      if (view != null) {\n        view.model.document.clear()\n        Bokeh.index.delete(view)\n      }\n    }\n\n    const cell = handle.cell;\n\n    const id = cell.output_area._bokeh_element_id;\n    const server_id = cell.output_area._bokeh_server_id;\n\n    // Clean up Bokeh references\n    if (id != null) {\n      drop(id)\n    }\n\n    if (server_id !== undefined) {\n      // Clean up Bokeh references\n      const cmd_clean = \"from bokeh.io.state import curstate; print(curstate().uuid_to_server['\" + server_id + \"'].get_sessions()[0].document.roots[0]._id)\";\n      cell.notebook.kernel.execute(cmd_clean, {\n        iopub: {\n          output: function(msg) {\n            const id = msg.content.text.trim()\n            drop(id)\n          }\n        }\n      });\n      // Destroy server and session\n      const cmd_destroy = \"import bokeh.io.notebook as ion; ion.destroy_server('\" + server_id + \"')\";\n      cell.notebook.kernel.execute(cmd_destroy);\n    }\n  }\n\n  /**\n   * Handle when a new output is added\n   */\n  function handleAddOutput(event, handle) {\n    const output_area = handle.output_area;\n    const output = handle.output;\n\n    // limit handleAddOutput to display_data with EXEC_MIME_TYPE content only\n    if ((output.output_type != \"display_data\") || (!Object.prototype.hasOwnProperty.call(output.data, EXEC_MIME_TYPE))) {\n      return\n    }\n\n    const toinsert = output_area.element.find(\".\" + CLASS_NAME.split(' ')[0]);\n\n    if (output.metadata[EXEC_MIME_TYPE][\"id\"] !== undefined) {\n      toinsert[toinsert.length - 1].firstChild.textContent = output.data[JS_MIME_TYPE];\n      // store reference to embed id on output_area\n      output_area._bokeh_element_id = output.metadata[EXEC_MIME_TYPE][\"id\"];\n    }\n    if (output.metadata[EXEC_MIME_TYPE][\"server_id\"] !== undefined) {\n      const bk_div = document.createElement(\"div\");\n      bk_div.innerHTML = output.data[HTML_MIME_TYPE];\n      const script_attrs = bk_div.children[0].attributes;\n      for (let i = 0; i < script_attrs.length; i++) {\n        toinsert[toinsert.length - 1].firstChild.setAttribute(script_attrs[i].name, script_attrs[i].value);\n        toinsert[toinsert.length - 1].firstChild.textContent = bk_div.children[0].textContent\n      }\n      // store reference to server id on output_area\n      output_area._bokeh_server_id = output.metadata[EXEC_MIME_TYPE][\"server_id\"];\n    }\n  }\n\n  function register_renderer(events, OutputArea) {\n\n    function append_mime(data, metadata, element) {\n      // create a DOM node to render to\n      const toinsert = this.create_output_subarea(\n        metadata,\n        CLASS_NAME,\n        EXEC_MIME_TYPE\n      );\n      this.keyboard_manager.register_events(toinsert);\n      // Render to node\n      const props = {data: data, metadata: metadata[EXEC_MIME_TYPE]};\n      render(props, toinsert[toinsert.length - 1]);\n      element.append(toinsert);\n      return toinsert\n    }\n\n    /* Handle when an output is cleared or removed */\n    events.on('clear_output.CodeCell', handleClearOutput);\n    events.on('delete.Cell', handleClearOutput);\n\n    /* Handle when a new output is added */\n    events.on('output_added.OutputArea', handleAddOutput);\n\n    /**\n     * Register the mime type and append_mime function with output_area\n     */\n    OutputArea.prototype.register_mime_type(EXEC_MIME_TYPE, append_mime, {\n      /* Is output safe? */\n      safe: true,\n      /* Index of renderer in `output_area.display_order` */\n      index: 0\n    });\n  }\n\n  // register the mime type if in Jupyter Notebook environment and previously unregistered\n  if (root.Jupyter !== undefined) {\n    const events = require('base/js/events');\n    const OutputArea = require('notebook/js/outputarea').OutputArea;\n\n    if (OutputArea.prototype.mime_types().indexOf(EXEC_MIME_TYPE) == -1) {\n      register_renderer(events, OutputArea);\n    }\n  }\n  if (typeof (root._bokeh_timeout) === \"undefined\" || force === true) {\n    root._bokeh_timeout = Date.now() + 5000;\n    root._bokeh_failed_load = false;\n  }\n\n  const NB_LOAD_WARNING = {'data': {'text/html':\n     \"<div style='background-color: #fdd'>\\n\"+\n     \"<p>\\n\"+\n     \"BokehJS does not appear to have successfully loaded. If loading BokehJS from CDN, this \\n\"+\n     \"may be due to a slow or bad network connection. Possible fixes:\\n\"+\n     \"</p>\\n\"+\n     \"<ul>\\n\"+\n     \"<li>re-rerun `output_notebook()` to attempt to load from CDN again, or</li>\\n\"+\n     \"<li>use INLINE resources instead, as so:</li>\\n\"+\n     \"</ul>\\n\"+\n     \"<code>\\n\"+\n     \"from bokeh.resources import INLINE\\n\"+\n     \"output_notebook(resources=INLINE)\\n\"+\n     \"</code>\\n\"+\n     \"</div>\"}};\n\n  function display_loaded(error = null) {\n    const el = document.getElementById(\"e52dd9b2-4957-438c-836d-bb496f5f1b8d\");\n    if (el != null) {\n      const html = (() => {\n        if (typeof root.Bokeh === \"undefined\") {\n          if (error == null) {\n            return \"BokehJS is loading ...\";\n          } else {\n            return \"BokehJS failed to load.\";\n          }\n        } else {\n          const prefix = `BokehJS ${root.Bokeh.version}`;\n          if (error == null) {\n            return `${prefix} successfully loaded.`;\n          } else {\n            return `${prefix} <b>encountered errors</b> while loading and may not function as expected.`;\n          }\n        }\n      })();\n      el.innerHTML = html;\n\n      if (error != null) {\n        const wrapper = document.createElement(\"div\");\n        wrapper.style.overflow = \"auto\";\n        wrapper.style.height = \"5em\";\n        wrapper.style.resize = \"vertical\";\n        const content = document.createElement(\"div\");\n        content.style.fontFamily = \"monospace\";\n        content.style.whiteSpace = \"pre-wrap\";\n        content.style.backgroundColor = \"rgb(255, 221, 221)\";\n        content.textContent = error.stack ?? error.toString();\n        wrapper.append(content);\n        el.append(wrapper);\n      }\n    } else if (Date.now() < root._bokeh_timeout) {\n      setTimeout(() => display_loaded(error), 100);\n    }\n  }\n\n  function run_callbacks() {\n    try {\n      root._bokeh_onload_callbacks.forEach(function(callback) {\n        if (callback != null)\n          callback();\n      });\n    } finally {\n      delete root._bokeh_onload_callbacks\n    }\n    console.debug(\"Bokeh: all callbacks have finished\");\n  }\n\n  function load_libs(css_urls, js_urls, callback) {\n    if (css_urls == null) css_urls = [];\n    if (js_urls == null) js_urls = [];\n\n    root._bokeh_onload_callbacks.push(callback);\n    if (root._bokeh_is_loading > 0) {\n      console.debug(\"Bokeh: BokehJS is being loaded, scheduling callback at\", now());\n      return null;\n    }\n    if (js_urls == null || js_urls.length === 0) {\n      run_callbacks();\n      return null;\n    }\n    console.debug(\"Bokeh: BokehJS not loaded, scheduling load and callback at\", now());\n    root._bokeh_is_loading = css_urls.length + js_urls.length;\n\n    function on_load() {\n      root._bokeh_is_loading--;\n      if (root._bokeh_is_loading === 0) {\n        console.debug(\"Bokeh: all BokehJS libraries/stylesheets loaded\");\n        run_callbacks()\n      }\n    }\n\n    function on_error(url) {\n      console.error(\"failed to load \" + url);\n    }\n\n    for (let i = 0; i < css_urls.length; i++) {\n      const url = css_urls[i];\n      const element = document.createElement(\"link\");\n      element.onload = on_load;\n      element.onerror = on_error.bind(null, url);\n      element.rel = \"stylesheet\";\n      element.type = \"text/css\";\n      element.href = url;\n      console.debug(\"Bokeh: injecting link tag for BokehJS stylesheet: \", url);\n      document.body.appendChild(element);\n    }\n\n    for (let i = 0; i < js_urls.length; i++) {\n      const url = js_urls[i];\n      const element = document.createElement('script');\n      element.onload = on_load;\n      element.onerror = on_error.bind(null, url);\n      element.async = false;\n      element.src = url;\n      console.debug(\"Bokeh: injecting script tag for BokehJS library: \", url);\n      document.head.appendChild(element);\n    }\n  };\n\n  function inject_raw_css(css) {\n    const element = document.createElement(\"style\");\n    element.appendChild(document.createTextNode(css));\n    document.body.appendChild(element);\n  }\n\n  const js_urls = [\"https://cdn.bokeh.org/bokeh/release/bokeh-3.6.0.min.js\", \"https://cdn.bokeh.org/bokeh/release/bokeh-gl-3.6.0.min.js\", \"https://cdn.bokeh.org/bokeh/release/bokeh-widgets-3.6.0.min.js\", \"https://cdn.bokeh.org/bokeh/release/bokeh-tables-3.6.0.min.js\", \"https://cdn.bokeh.org/bokeh/release/bokeh-mathjax-3.6.0.min.js\"];\n  const css_urls = [];\n\n  const inline_js = [    function(Bokeh) {\n      Bokeh.set_log_level(\"info\");\n    },\nfunction(Bokeh) {\n    }\n  ];\n\n  function run_inline_js() {\n    if (root.Bokeh !== undefined || force === true) {\n      try {\n            for (let i = 0; i < inline_js.length; i++) {\n      inline_js[i].call(root, root.Bokeh);\n    }\n\n      } catch (error) {display_loaded(error);throw error;\n      }if (force === true) {\n        display_loaded();\n      }} else if (Date.now() < root._bokeh_timeout) {\n      setTimeout(run_inline_js, 100);\n    } else if (!root._bokeh_failed_load) {\n      console.log(\"Bokeh: BokehJS failed to load within specified timeout.\");\n      root._bokeh_failed_load = true;\n    } else if (force !== true) {\n      const cell = $(document.getElementById(\"e52dd9b2-4957-438c-836d-bb496f5f1b8d\")).parents('.cell').data().cell;\n      cell.output_area.append_execute_result(NB_LOAD_WARNING)\n    }\n  }\n\n  if (root._bokeh_is_loading === 0) {\n    console.debug(\"Bokeh: BokehJS loaded, going straight to plotting\");\n    run_inline_js();\n  } else {\n    load_libs(css_urls, js_urls, function() {\n      console.debug(\"Bokeh: BokehJS plotting callback run at\", now());\n      run_inline_js();\n    });\n  }\n}(window));",
      "application/vnd.bokehjs_load.v0+json": ""
     },
     "metadata": {},
     "output_type": "display_data"
    }
   ],
   "source": [
    "import bokeh.models as bm # содержит модели, такие как источники данных, инструменты и т.д.\n",
    "import bokeh.plotting as pl # предоставляет функции для создания визуализаций.\n",
    "from bokeh.io import output_notebook # позволяет отображать графики непосредственно в Jupyter Notebook.\n",
    "\n",
    "output_notebook()\n",
    "\n",
    "# Параметры функции:\n",
    "# x: данные по оси X (например, координаты точек).\n",
    "# y: данные по оси Y (например, координаты точек).\n",
    "# radius: радиус точек на графике (по умолчанию 10).\n",
    "# alpha: прозрачность точек (по умолчанию 0.25).\n",
    "# color: цвет точек (по умолчанию \"синий\"). Если передан как строка, будет использоваться один и тот же цвет для всех точек.\n",
    "# width и height: размеры графика в пикселях.\n",
    "# show: флаг, указывающий, нужно ли сразу показывать график (по умолчанию True).\n",
    "# **kwargs: дополнительные параметры, которые будут добавлены в источник данных и могут быть использованы для отображения дополнительной информации при наведении курсора.\n",
    "def draw_vectors(\n",
    "    x,\n",
    "    y,\n",
    "    radius=10,\n",
    "    alpha=0.25,\n",
    "    color=\"blue\",\n",
    "    width=600,\n",
    "    height=400,\n",
    "    show=True,\n",
    "    **kwargs,\n",
    "):\n",
    "    \"\"\"draws an interactive plot for data points with auxilirary info on hover\"\"\"\n",
    "    if isinstance(color, str):\n",
    "        color = [color] * len(x) # Проверяет, является ли color строкой, и если да, то создает список одного цвета, длина которого равна количеству точек x.\n",
    "    data_source = bm.ColumnDataSource({\"x\": x, \"y\": y, \"color\": color, **kwargs}) # Создает объект ColumnDataSource, который будет использоваться в графике для хранения данных. \n",
    "                                                                                  # Это позволяет Bokeh эффективно обновлять график.\n",
    "\n",
    "    fig = pl.figure(active_scroll=\"wheel_zoom\", width=width, height=height) # Создает новый объект фигуры (графика) с активным инструментом прокрутки (при помощи колеса мыши) и указанными размерами.\n",
    "    fig.scatter(\"x\", \"y\", size=radius, color=\"color\", alpha=alpha, source=data_source) # Рисует разбросанные точки на графике, используя данные из data_source. \n",
    "                                                                                       # Размер, цвет и прозрачность определяются соответствующими параметрами.\n",
    "\n",
    "    fig.add_tools(bm.HoverTool(tooltips=[(key, \"@\" + key) for key in kwargs.keys()])) # Добавляет инструмент наведения (HoverTool), \n",
    "                                                                                      # который будет отображать подсказки (tooltips) с дополнительной информацией при наведении курсора на точки. \n",
    "                                                                                      # Подсказки будут включать все ключи из kwargs.\n",
    "    if show:\n",
    "        pl.show(fig)\n",
    "    return fig"
   ]
  },
  {
   "cell_type": "markdown",
   "metadata": {},
   "source": [
    "Объект UMAP (Uniform Manifold Approximation and Projection) представляет собой экземпляр класса, который используется для понижения размерности данных с помощью алгоритма UMAP. Давайте разберем, что это такое более подробно.\n",
    "\n",
    "Что такое UMAP?\n",
    "UMAP — это алгоритм машинного обучения, предназначенный для уменьшения размерности данных. Он позволяет представлять высокоразмерные данные в более низкоразмерном пространстве (например, в 2D или 3D) с сохранением их структурных и топологических свойств. Это делает его особенно полезным для визуализации и анализа данных.\n",
    "\n",
    "Основные характеристики UMAP\n",
    "Топологическая структура:\n",
    "\n",
    "UMAP стремится сохранить глобальные и локальные структуры данных. Он сохраняет расстояния между точками, так что близкие точки в высокоразмерном пространстве остаются близкими и в пониженном пространстве.\n",
    "Скорость и масштабируемость:\n",
    "\n",
    "UMAP более быстр и эффективен по сравнению с другими методами понижения размерности, такими как t-SNE, что делает его подходящим для работы с большими наборами данных.\n",
    "Настраиваемость:\n",
    "\n",
    "UMAP предлагает различные параметры, которые можно настраивать, такие как n_neighbors, который определяет количество ближайших соседей, и min_dist, который определяет минимальное расстояние между точками в пониженном пространстве.\n",
    "Как работает объект UMAP\n",
    "Когда вы создаете объект UMAP, вы определяете его параметры, а затем можете использовать его для обучения и преобразования данных.\n",
    "\n",
    "Применение UMAP\n",
    "Визуализация: Позволяет визуализировать сложные структуры данных, что может помочь в их интерпретации.\n",
    "Предобработка для других алгоритмов: Пониженные представления могут быть использованы в других алгоритмах машинного обучения (например, для кластеризации).\n",
    "Изучение семантики: Особенно полезно в NLP (обработке естественного языка) для изучения семантических связей между словами.\n",
    "Заключение\n",
    "Таким образом, объект UMAP представляет собой средство для выполнения понижения размерности с использованием алгоритма UMAP. Он позволяет легко настраивать параметры, обучать модель на ваших данных и преобразовывать их в более низкое пространство, сохраняя важные характеристики исходных данных."
   ]
  },
  {
   "cell_type": "code",
   "execution_count": 137,
   "metadata": {},
   "outputs": [
    {
     "name": "stderr",
     "output_type": "stream",
     "text": [
      "OMP: Info #276: omp_set_nested routine deprecated, please use omp_set_max_active_levels instead.\n"
     ]
    }
   ],
   "source": [
    "# Здесь создается объект UMAP, в котором задается параметр n_neighbors.\n",
    "# n_neighbors: этот параметр определяет, сколько соседних точек учитывать при построении графа. \n",
    "# Уменьшая это значение, вы делаете модель более чувствительной к локальным структурам данных. \n",
    "# При значении 5, UMAP будет учитывать 5 ближайших соседей для каждой точки при оценке ее положения в пониженном пространстве.\n",
    "# .fit_transform(word_embeddings):\n",
    "# Этот метод одновременно обучает модель UMAP и преобразует входные данные в пониженное пространство.\n",
    "# word_embeddings: это входные данные (векторы слов), которые вы хотите понизить в размерности. \n",
    "# Обычно это многомерные векторы, полученные из предварительно обученных эмбеддингов (например, Word2Vec, GloVe или других моделей).\n",
    "# embedding: переменная, в которую сохраняются результаты. \n",
    "# После выполнения этого кода embedding будет содержать пониженные представления ваших векторов слов в 2D или 3D пространстве (в зависимости от того, как UMAP настроен).\n",
    "\n",
    "embedding = umap.UMAP(n_neighbors=5).fit_transform(word_embeddings)\n",
    "\n",
    "# Зачем это нужно?\n",
    "# Понижение размерности позволяет визуализировать высокоразмерные данные, например, вектора слов, чтобы понять их семантические отношения.\n",
    "# Это полезно для кластеризации, визуализации и анализа данных, так как вы можете увидеть, какие слова (или их векторы) находятся ближе друг к другу, \n",
    "# а какие — дальше, что может помочь в интерпретации семантической близости между словами.\n",
    "\n"
   ]
  },
  {
   "cell_type": "code",
   "execution_count": 138,
   "metadata": {},
   "outputs": [
    {
     "data": {
      "text/html": [
       "\n",
       "  <div id=\"ba824115-f27b-491b-9436-d4399ee70181\" data-root-id=\"p1004\" style=\"display: contents;\"></div>\n"
      ]
     },
     "metadata": {},
     "output_type": "display_data"
    },
    {
     "data": {
      "application/javascript": "(function(root) {\n  function embed_document(root) {\n  const docs_json = {\"9fea2a18-603f-482a-b480-2a64cc5ccd73\":{\"version\":\"3.6.0\",\"title\":\"Bokeh Application\",\"roots\":[{\"type\":\"object\",\"name\":\"Figure\",\"id\":\"p1004\",\"attributes\":{\"height\":400,\"x_range\":{\"type\":\"object\",\"name\":\"DataRange1d\",\"id\":\"p1005\"},\"y_range\":{\"type\":\"object\",\"name\":\"DataRange1d\",\"id\":\"p1006\"},\"x_scale\":{\"type\":\"object\",\"name\":\"LinearScale\",\"id\":\"p1013\"},\"y_scale\":{\"type\":\"object\",\"name\":\"LinearScale\",\"id\":\"p1014\"},\"title\":{\"type\":\"object\",\"name\":\"Title\",\"id\":\"p1011\"},\"renderers\":[{\"type\":\"object\",\"name\":\"GlyphRenderer\",\"id\":\"p1044\",\"attributes\":{\"data_source\":{\"type\":\"object\",\"name\":\"ColumnDataSource\",\"id\":\"p1001\",\"attributes\":{\"selected\":{\"type\":\"object\",\"name\":\"Selection\",\"id\":\"p1002\",\"attributes\":{\"indices\":[],\"line_indices\":[]}},\"selection_policy\":{\"type\":\"object\",\"name\":\"UnionRenderers\",\"id\":\"p1003\"},\"data\":{\"type\":\"map\",\"entries\":[[\"x\",{\"type\":\"ndarray\",\"array\":{\"type\":\"bytes\",\"data\":\"kIccQK9bgUDzkcBASVEDQRpnqUATsbFAHfDHQFYlA0GCoJlAoeRnQLmbs0BGOR9A1C6HQPi13UCZ/ihA/8QUQNTf1ECijydA/iDfPxCL9EDvBD9Ag1e5QDunW0CKhVhAh+yrQBPh80Djo+FAXJOwQLdPnEDlfiJApCDJQIvj4kAG3YZA3NKEQBOaEkBh1dFAJw0LQXaP+EBs0L9Awpl2QHHRtEDu4wZBYkSmQE1uzUAivvtA8abVQBT63EAJx5FAfrKLQPTMYEANiIhA8j3sQLlenECUV7JA+RncQH4gZ0BD+JdAe3C6QLut/EBo1fNAdFoIQAApBkHp8NtAZAf7QJ1wj0DtwSlAFcbaQBJtGUBCd5VAM1i7QNPbzkDGj8pABEFlQPJrjEBbSs9Ag8H7QHgOq0A3JNRAaZq3QOy3hUA7GttAXtp/QOFOs0DVYixA0RvCQC6rhEAIfm9ANBEVQLzdmUAMGrJAxt0GQYZaf0B0JwZBnPmvQCSs00A9h8RAHR4LQZrmBkCE0oBAB8OnQOtzO0Bo68xARwAEQNPyUUBUL6xAOXZOQAk7vECfdF5AFVCTQOLMfkD2GIJAIX6GQNdePEADf+9AyT9JQFRffUBCkdNAJhd4QF49IEBj4glAG8HLQMOJakBkmc1AefyIQDjBA0Fr9w1BKc7rPwvPxUCCG1BAxWycQGw4c0D20MFAE+jmQLbdpUCo0IlAlJwgQJTwCkBabalA10UuQKwW9D8Fbw1AgMadQHCJkUAqA9lAWsVAQONaF0A7Y7ZAhca8QKkZdkCvxqxAiOnwQHig8UAYrpBAXAPaQJAqBEFFoOxAKWGGQK+MZkAiC5VAc6L5QH8owED0+NlAoe3oQKWx2EC4wgZAYkp/QF2HbED1mSZArDJZQAypEUAoroRASDWWQPlgtUBHGLJAl93yQKIHmkDPrAZBEfteQKym3UDf9y1AYQVsQMGGmEAbO8lAuxh+QC0yrUCGJ6BARTxYQKGI1kAdynhAPsikQAkG7j8nq41AFUC+QB746kAi3wZBN671QI1UEkBFnPJAKgWXQIiVjUCSngZBqPqTQICrmkAY+LdAEsW7QLNTmUD0eFVAWjphQNoac0CV9JZAl2IPQe6htUCwIPlAKJr5QLVmhUBcU3tA7jUEQV6JsUD5wOhA6TyZQACzqUCZqsVAgQKOQFYExUC1cj9APMVJQAY8tkBy9JdAZ331QFQ+qEAjW/5ADBD6PyZcskA1PYFAYLYBQc1Eq0CkZfpAs00DQfvTq0COHmxA6+HNQBJFvkB3DjhApiXVQLKmn0Cbt6lAMiUHQWSRvkBx0dBA8GaqQCRADUDng45A38+eQEcvyEBVK+lA0eDTQNCLBUGgiVtARme6QDM+o0D94D5ARlGdQECHvEAnuoBAMM/UQLKCk0D51gpACCIdQFq1zEDDHGxAbn6GQFrbC0G4ybxAGV2HQCNaSkC/1vdArEguQGvy3EDB2ehAYj3gQHp4ekDXmOVAYIoJQdw26UBUU/hAKIPQQGebpEBHb0FAbFyrQNDEiUBD7mBAVyC3QG13xUA85ANBeLmyQIAgGECG9cxAKg3FQCpTjUCU1NRAvVfoQHTPpkBoqstAqxfiQO8t90A5lCJACVcOQMLzrEDNnudAXlHeQOU9lEBOc7hAtCHRQI0BTkBuV7NArucMQbLrNkDkqddAB/y5QEjaykDG1hdA8WqDQGVhnEAFbRtANms+QEvf10DXMH1AyQ5LQEqsj0Bsv+ZA4toLQN6O70CTWFhAJztTQO6MoUD+NwBB26+gQCjaJ0DzAulAsXDsQL/tuEB97HNAso/0QO9rwkBb7ZxAoXBcQA6+40D1tuVAINStQCyM9kAEQ6hA71qkQAjowECM4otA5swdQIE1mUBECdNAI6KmQIcos0DHlg1BZaKeQB6lYkCI7IZAhCNFQFcOSECSuElAoKRrQJVaBEHa8QNB86bNQJ6SDEGctK1A9a4tQMgUxkDPBI1AUP27QOh730AOZbdAHEwRQHpkeEAOBghB9OUqQJQTpUBdSCBA1H7lQNVlWEBaXthAc6GuQC+j0kDp/ZlAZJDKQBUo0kCJ3dRA0U6EQMWEukCkL+ZA4P+SQHROlEAhJBZANiYNQeEElUA0MI1AhCPEQA4ygUDwQfZAw12hQJXvpUCUTXZAdEeOQKFd+0AuyrxAqz/vQPy+wkDhTL9Ay5S7QDCU/kB6Ao9AdB/kQGFkIkCFlhlAN53qQOLmDUBYZspARtqFQKxeXkDXBw5Bd8v5QOoYQECHTP5Aau48QNxynECw2gpB0vwBQWIirEAVf2ZAy0ysQH3EnEAA8w5AJAc0QGKh/UD+bLBAA1uQQLCvbkAL1gVBq1efQC0+0EBnka1AKiVAQIo6/EBp6r9AKuuEQGg55UAlg+FAAuHlQMI0V0DacQJB3CZbQLSpPEBl0rxAEb+8QHKjOEAN2NdAXRaQQI3RZkA/JuxASC/2QMOsvkAHuppAGbr7P+vxnEC5fcBAnDGUQOa2M0DDj7dAZNYzQHHL5EAqpK1AxrudQPptWkDbVtVAMNr/QPvXfEAsCEBAoSDpQGLixEDYc4FAcfrLQNURBEH8jPBAaO0DQVhBZkCdQ8lAqjldQBZ5BkH6Et1AK2+WQHIBDEC5BJ1AlgsKQVmH5EBt9JJAoa5wQPXx+EBFl7hAfEr7QGKwPkCjkZNAJniQQJAvpkDTVKhAza69QMwgp0A0uJ5A0xlOQGcd4UA5frZA6s7ZQJBDX0DkbJhAwU1PQDn2b0D6rNBAwOmmQDTHAkFvgp1ANhG1QAdSj0AgVpdA4l/cQLBP2UCJBgRBbJRYQMZ1ykAvcEpAAv67QHgDpUC0n/9A1GvcQAQaq0AjlaxAfzgmQNkigUD5QoJARCamQOaqhkDR8ahAJ/CUQA0gAEEDtBtAwVP7QIRRhkC0Un1AXHrbQM3WzUB3/MBAGzaUQKqYv0ATP8hAJ+ZlQGQUDkFWBfJAMn+uQDyHE0BS5n9AOg3cQIyoRECoOFhAMx+eQHcCgkArVfVAoYvWQM0skEDn+d1AhsCrQIb8H0AFJrxAI045QK1HK0BQaP9AAW2hQItiP0AuZqBAIynCQEfyYUB9YJFAd2yvQNhHykC6I+xAg1kYQEHDlEDgssRAtNdaQAR9sECPkp9AZib9P4ftxUA8vI9AkQEwQEdKk0As+b5ADRGnQEyGBUFwOYhAQZ/eQIFO00ABfcdA4+DAQO4fSUA4zqRAB2jjP5qFx0AzMvlAnBK+QPmLy0DZeMNA/38DQXfrpkDpCuxAVgnUQBg58kCqbvpA87iOQK//qkBMj7NA/pBYQJ8+fUCQ+uBAROXuQASyq0CQD/FAvFAEQUs0wEC+Pt9A/zOwQE2DiEBXiEFAE2A2QGILd0DnPARBIDf+QMEHgUAU6SFAJ3pUQAwsjkAz+f5AzQpBQAQYgUDqsNRAp2TRQLnlv0Brs9JA/NTkQMll4kBiFM5AFgfpQHCYUkC0X7pAS8T4QMphk0BGP9lAx4/EQE7WgUDxf7ZA1nfxQBuHlkBZSPdAz8iIQLL7nkCZSapAkOXmQGLEzEC4/gRBPp9BQDk6CUGoTN9ANqbaQEx2DUFa7gFB7Rt+QEVqY0BnMoRAJjZdQNv7g0D1JsNAFvwMQZxlwkCrN6BACrPeQMmWAUGCLshABJCLQNeL2kDT2gtBWEj0QJ8F2UA2CadAA9AUQJbonUA7CWhAqALVQCFl/UC0nxZAGm2eQOk3mECwJ/ZAMHmTQDMUlEB4uoNAXCn3QHW2J0CegmFAHsYiQPwxF0BzTtBA1urYQG2nokAD3AJBJ+OTQJHy1EDHwMNANdaxQLMojEDD/cdA1b2hQJBLmUB4VhtAy1iVQCvkx0D3o7VATG3GQAdL5EB3GwNBH54rQFIlj0BWFbhAHT7GQCE5j0DdhpdA8VoiQOnDDkEqA2hAzB4NQNYEukBB6NVASuStQGTlmEAnSOJASlarQI3dsEC5A1hAgcePQLzUPUDYIsxA1EOUQH9rHEBIDDFAZSQ7QIeSm0D1eSlArXDmQDzKA0Bh4ZNAtcqrQHn02UBGu91AqVjJQB6ZO0BZZIdAz3GCQC+vwkCr8LNAHK04QAoFgkBvm3xAlflUQBVwREDrJDpABfpqQCX7KkDyhMhASZc6QF3r0kDsiMJAKndBQAJ9UkCMgddAcTW/QOHDykDOe59AQWwOQAyKL0BAi6tAzwGMQIQTz0CaWZNA2mB+QJYORkCtz0BAilCMQB7m7UDDZEBAReaHQAOMsUAcUORAWkbPQCRUpEDouY1AScn5P+IeRUB1kppAtE6CQFWc5EDMM/NA2A6LQPSa3EDjJrVAVrFRQN+Ql0Dq3LZA4NaDQFfnC0CJHwpBJ1r/QG1ZJUCieIVAZ/LoQO68BUFuMOZAa9rhQKSMvUBnO/tAMYXXQJGOAUH034pAFzWDQNrvTkDvF8tAU3DnQJCej0A2xBNAxCGdQIMF0kA27VVAgNiMQJc8TUDkVa1AaASzQEa2WkDccMdAXH66QD4NKUDedbNAqZsAQfyfs0CCmAxBzdoCQfo/AUAyedpA1ybSQD/I4UA/K8lAWJpUQJjobUA6lmFAQSsIQG8FgkDUfy1AkTnYQEfQ/EAPappAVYxkQHfWA0EvC5BA9zymQPgPx0BrwPxAHrzPQL1JsUCL/axABmX4P/53BUECGH5A/BKFQCO6hkAfhU1AV7kKQS0zlUBeZpZAhjmPQC/up0Bi0QhBu4XWQBXiZ0D3UTVAJb8/QHQn8kC6SM1ARiB3QBoh9kBoUX5AfKPeQI3QaECvZbJA5A2FQL9Gh0C/PG9At6yFQNwIM0CW2FBA7wraQLr6yECLv+JAYJTfQJIR6UBmewBBI8fjQJN8zEAZztJA6c7YQIlnPECPouFAPaKMQG3ekUALbw5AgCV5QOb2fkCOJyFAWUXaQEoTw0CZV/9A+BlBQBhl9kCmJwdBbx8/QM+H7kCU7URARJwDQQuIkECwL1hAeJaIQP4QpECY4FhAu0DKQOWnSkCPAw5BKz+sQOExKkBkjAVBvBnvQPYKbkBxNtBAK3YBQcbJlUCnNgZAFOWuQG3DkEA/YstAIqgCQdLowEDxfbdAwLJZQP/LwUDWIplAzKjaQDQbVkCxF8xALLqZQIpu90D6iq9AqSDmQJSphUDqTsFA7krsQEDc90AVSrFAbySHQOVvB0HMsPBAUuaZQKvc0UCRD/lAAY8jQBv80UCOJmBABHmOQNEyy0CTJhZAggLvQOamt0DqZflA6RLgQMl8hkB7rEpAe/quQNGBy0AG+hFA5zYPQECVX0CfRr1AwkMQQD26BkBBq91ABJQNQaKHk0BOr6NApsOfQNGwg0DgH9hAEr+hQG9ZSkCNNWlASmm1QJf+mECeQblAm//WQP+23kC8Y/0/axcTQCf88kCf4Y5AkL/0QBPspkD7jdFAEoa7QFzapECeqNhAe/PwQEx2AUHf7ORABMJBQNL+qUD+4PlA8PvHQCtd8UAgoO5ACqezQPbPLkAQSVZAozMPQURFzUBUNn5AsACCQM6pqUDbV95AVBaoQEE/DUCZL7pAeuW1QJZtpkB6HPJA5VAIQc5To0CU0DFAwCRjQNECuUBYCL9Ao4eUQBRCjUCtHtNAqE6mQO4YRUCof85AAsvmQCKMwEAbhcFA2D+rQFlK20AjpQNB8nkGQVRVt0AMmMBA0A1PQLjbiECzdtpAJ3+MQBb0h0DAAnFAB1T/QHLQIEAus8xAB6PzQB+5lUDUMrFAIAPZQHFt6EBvGU1AVBGmQAXlr0AD0vZAtgzaQBVWhUABJKJArvtjQPFf/UDtTdBAzZDKQIOi2UBzC6JAsoTTQGxVq0CEng1A+0CDQLwFlUDkLeVAEgDOQJzxiEC9BrNAJVaxQKSUhUCKooRAjfM5QI5RqUAJKNVARf7CQGdsxECy3LZAQ4LHQGw71UAZlAJB0GTbQOzHb0B4BntAnvr7QJfFZEAkQpRAqdVLQOCQpUBNBG1Awe0sQP7p80AnvuRA4oIGQcJfCUHSSIJAnLyBQHf2sEAXbbtA+2/tQIHw+UDfAchAqRzXQNW6j0AEmMtABlXXQO1tgkB8MlpAUIunQOiGnECajeg/2ZPeQB843UBxoKlAKSAOQH03rkDB9tdAVdynQDgLp0BeMdNAIL2cQBDgsUA5V05A2DOfQEOXA0FHYzxAwBOZQM8bYUDdbI5A/kuPQJVDpEDgOvFAZCGcQHNTm0DYuylA/sfzQMriHECJMINACs4CQFav0UDFVapAiMYAQe+vSkDLCAxAtUD0QM4wrED/H7BAtjqmQFCnlEAJrpdAVovLQNBdoUCW/tFAOUYGQTblk0CBf/tASRV+QJ7Tg0AEAfVAm0+fQBBcxUAYt5hAkq22QBCB9D++lKJA+okRQLWI8UCF3oNAfVqFQJWRyUDc9IlA19PWQAkFB0HFh8hAkTlyQDUz30Aazk5Aa+ovQMr1y0AT42hAVnzgQKqfS0BgDipAcF+DQDV1jEDZa/hA25WnQNSOZEC3We1AEvz1QM7evkDXwLBAvuKVQL9FKUDS6LVAsVLCQG17/0AjsKhAIJLXQMSwk0B29thAuiwFQW+/5UCwYKtAUwnAQKwYdkC2mtFAPHIDQZ2bqkAGJ6pAJeZeQNqyiUAvdfQ/V1GWQP+XkUAxeh9A2j/+QFZQ80B56uVABaCGQB1sukC5xKpAPgbtP9c7/D95axVAVXDoQK2WiUAC2f1AeH+OQMuYXEBs3/tAACmzQBxEkEBoRaxAYUq5QPFpTUAMbjZAPz6bQKR030Dsod1AQXybQFZmKkBPENxA+M9YQHbA/kD8cNFAwLnbQIWBVECwYA5BTJ+hQO7ZTkCAGrVAQ4jRQPCxu0DUWpdAbSLAQLM2EkCdVchAI3t4QOl5rEBvcXFAaFWdQPnXMkA3OdRAmPg2QIOSdEDVCr1ADYFdQEJQokD/xAJAzAE0QDQQW0As6ppAQxHiQEKb9z/Pl8xAZgZiQD7Iu0BM9GNAkfKGQMiPkUBcdJVAtHQ8QETfXEDFbeBAKSvHQB2Ld0Bkr5dA4hK1QBMS1EDi6W1A30o5QFFroECMbaRAaE0OQfUeNECt2JpAP+HVQF5DtUBtIRhA07DcQGeSakBHApdAt/nHQP3/JUDFT6pA1TfBQLogskDgMk9AX1mPQEoxoEArqa9A8KnYQHxe4UBF+85ArhHuQKbZvkBqMM5AyzfoQFg7wkBmg5JA5ekrQFhWh0BDvthAgq9DQCX+Y0Arm7ZAKTv7P2Cuy0C+ivhA9FlKQDVVhUBHrnBAYdetQHvupEB2SHlAt+XiQO95tkBf1JFA0ExtQH55SkAOWZFAeebEQOrRpEDGU45AxCiJQLoPcUDD/5hAbwacQEjMuUB2KLZAbcaIQCv4AEGYntRA9cjPQJ5Hl0ACt5RAsVXqQEQeu0DXeW9A8Jl7QLTHrkDNq+1AbaBfQKaAkkCcTLdAFvDnQFIgk0A/xSZAywESQEoESEBgQMJAgib4QMnuoED8SmdAoMvZQIlHk0DjHLFAGqkhQJu3okDBmgBBUyKfQBSY1EC2d8JA4PGgQIDBakAfTaBAD+AKQRtTB0B6hChAHY3bQMVztUBArxNAbX3eQAcjUkAICc5ALPXHQD0viUBTgaVAlD7DQHEDAEEiaQRBvFnYQKUV5EBKOAdAMZTFQAwf1UAL+NFAX7iiQBs5IUBbUq1A61vhQLcYd0BbZy1AVwSfQEoPskCFK2tAhYb6QLBCrkCNSQxBzyeiQAT6BUGky/ZADeDoQAFfZ0DcUQRAz+euQAFH5UD+kuZA23i0QGCaCkEOMadAADF4QDwVhUAYFQVBeVKjQBN6l0CCo6RAZMT7QN9g6kAWUZdAunABQWp+2kCYvU5A1Ei/QOfm2UAuIolAmaQNQWMH70DoZe1AYK9qQDkCi0A4SOJAPoPRQF9J4kCdwqBAbP+QQKes0UCnQ61ArGDLQPc8OECdPoJA3ws8QDgZLkBG1/JAJOStQNm0h0B9KC9A/kANQAPqhUCOdZtAwicEQXd6qEA4Do9AKqisQBYPfkD+VaZArhPQQKZn8kBJuutAVxmGQB4iyECiI7hAXLGhQHkbq0AnL6lAZE6GQDieAUF3B2RA5MSFQLZ6BUFaiANBYBuZQAg6CkHZA8RA113EQDiKtUC4SNBA6oPPQOJEkEAQ88lATqrJQMqK+0AB/N1At5GaQGxwJ0Ches1AnbK0QKjMjkA+3+tAa937QPKA9kCgJsZArUudQLljU0AIgL1A+m6MQETE8UC9iwpBoPLZQFFKt0Cx9TtAm8XlQFQBmUCRXhlAc5mkQANiQEAZF6NAiN0yQKyfoUDG2exAoTMxQHGs9kAcaddAePS6QNI9pUCxOyZAwayTQIvz20DQFalAAASdQCF6bUBpg6pAatKiQCydfUCCSItAcLm6QNFop0A/hqdAwICfQFtlXkA/0SVAyQpdQMXHb0CmTcpAKEV5QC02gkBZpcJANPzSQPhnp0CsbvVAKVOmQOn2p0DPzTJALciYQO7lx0AmiCRAKjxfQJbIUUA0+wBBDv84QHH3mEArS6hAduofQJYl3ECTa31Ah+QMQRpaqkD7WOlAzCO/QOQc3UAvaIpATrGZQHe+CkHQCaBAGXinQMgZ6kBt99RA7l+YQJOXrUCEdONAlMpLQHAhvkDdRL1AyGeOQJtg+EACi6dAOfqAQKJdfkAt6aVAhyqFQCletkC3zQBB/FymQEzJ60ACPdRASCf1QHccKkCydLhABS+/QKceUUCCPLRA4O1QQFKFtEArEbFANNSPQMm0ukA950ZAXSlHQLDCs0AUeMFAaaCuQFuRDEHPX41AuyzeQHQytEAn82NASUrGQO9V0kD6SaJACtdDQMqVzUD1hZJAr1eSQEkvgkAnwY9AGtuzQER+qEB27YNAvZuGQM2eZUCePRFA+2RsQGSCkkBlqq5ASR6lQFGrkkC44CtAtx8AQZnx/UAxwvhAFPN2QDK92kAzwPRAAiLXQLhcxECakMpAGg7lQKMF0kDvee9A6+uMQHR+V0ALzBZA1A7EQBtomUAHbwBBO0LkQNsnPkDMWwJBpLWjQH0VCEBuXQJBbpuuQD94dEB7la5A1KbOQK5jgkCrnJZAbowCQWsM+UBDG9xADz77QH8CvEDZaoZA5Cr/QH9dAEEieJVAaN7RQNLOUED4xuFAvD2lQLC720AyzAVBVEjGQOWx4EDXRY5AXkIKQTuTpEBBHGlASbMZQBWVe0CZMqdAM3txQEtmQ0BZv/dAflWNQESWt0BGvNVAieA9QIPrbkCutNJA7SKAQF8YpUCriAVBUbFTQD6f9EBwRAVBA8rSQHRVrUD1gHtAChToQL1LKUBKibhA9XLDQIBGkkA3hqRAqok+QAOJ5kA9YNtAvC8DQQKhPkAr+2lAaaLpQJTRiEAFyIJAy6C7QGDN6UDk7hpA0lMHQX/z4UA7OKNAcEyUQB2tc0BxVoFA64WvQG2hykAw5uRAycuJQMaoB0EtvvA/ZuPDQJj3wkBvKI1AEwa1QLMdokAq6aZAB1aFQMBntkBIHrJAaeYVQPhQvkDkG45AmNGiQObr/0Bq8C9AALiUQEZMxEA2qWtA1zJVQMETw0BivtFAiWihQIc0BEHsST1AFyWsQIMU80Bc3h1A/vgBQa05sEDKJ79AhLcuQF2WsEBJUBtAiqIMQSy8QEB/PrZAn8zEQIak10CbhKdA3emFQF+TB0EPLVxA7dsBQbSotUA5k7lARMIgQDz2BkG0qL1AwdaXQBjZxUBYEN9ALDGYQIJZyEB1kMJAZrwfQBhO+T+G6MBA7ALCQMmQVUDWMfVAYO2qQNg/wECVbg5AUAkAQeoVRUBaZWpAjczmQFc2mUByG89APuvQQMkv8UBSycpAYOjXQC0ookAAM8FAYt95QDOnC0HSq7pAw0CqQOOKkUDyXDBANoG3QJpabEBYiL9AS27gQLnW1UB+sGlAv8uqQEN6n0A1entA7CPUQLaBmUDw5sBAGk+LQBkt20A8/fVA6DkIQbJmaUBu0+JAv2TVQF5UdECzmN5ApMTzQEyfskBqy6JA6sCJQFthAUGYbJpAKxa5QOjurUAnyaVA2sWrQNmBAUFF9ldAiWynQBzXv0Cye5hAAbveQEVhP0CBX/9AH+2sQM7i4UBYOqpAyuk3QEgcekA1n7NAu2eaQOPTs0BYdmVAP5DDQDBND0AcB7JA118KQczBDUGwenJAY6CeQNZU90Bnc6hANMzgQF+Qh0DFI9ZAGWqhQCNzm0C2649A44HLQNfUdUDMVYFAmudxQPhlhUCOg6JAmUHWQJW2wEALJrtA4G2mQDSEt0BLFclAm5KdQAIQBEEhcgxALRfMQE5QrkDtTuVAHgUIQVEV4ECR3bRAN+91QM/4rEAko7tAMBrfQJ/3bUBTqo1ApHCZQCp/aEAIIm9AVdVWQDWPaEDrd4RAZD+WQBbpgkDaRtFARAoCQWz+TkAa1exA6MZvQBXBkkB+q5pA7KpPQKQYC0GbJdxA0wTVQJBAikBNo5dA5A2XQJQrl0BDDD9AYtkpQAU5hkCWX8lA85LTQNFXiEBI7C1AhBDoQDjRDUBKbrRA5E2iQIPDbkD8HNFAriy3QPoh4kDBkv8/xKSnQMSUskCSLtFAg6u0QMVShUDEn59AFT3vQLbs+EDHJJVAxAOlQM+g90Ctdf9AXA7uQP4iBkHBoz5AakLOQFX3nUA5yrJA/StAQPRS80DeYwFBUA2zQGiTe0AghuVAb6FjQEmF4UCEp09A7+YUQEKI0EDRDbtAnFuWQLmnAkETKaxAjoKoQDgDvkBHAGpA3HeHQCqK+0BihLxAMSufQKsBqkAlf8VABEuGQAQO9EDRiOZABNCsQMWKV0DnhE1AzO4zQBeaJkAq+8lAVAuVQJOsvkBfKElAEIAyQEMMTUDuwXNAEgNPQCuK6kBUbKhAQlE3QIcxmkCWzPJAiWwXQE27tUAkMM9AxszCQBh9mEChNIRAu9VyQNrtzECRRslAMrQBQRccsUDQjrZAjLzeQG8FK0DInCBAyDmrQMC5A0F0C01AtzGCQAeWuUABrfRAJtwNQIgw2EB8oYJA3s3DQOQSy0AHY4RAaqS3QOo5nEABSgJA8hT0QDCN6ECy9CxAzJ5IQIlTy0CbzvlAnZTXQPvhl0DDF8JADawUQLMlKkBSm8JAIhiyQKITq0C49LBAI8DTQJoaAUGxwJNAoyqQQBWbfUBoSrZAYCOlQKaop0A+tJtArK9WQNNuR0Bfeq9AFDPdQJ9h8kD7TVZAujt+QCLKykBWB3JAlYU7QJ7rokB/3DZAWWHPQMVHM0BOiL5AY47dQJCdpEA9LeBAbb+yQGgLB0HEVrlAKuM+QOCtlUCpesNArjqtQOuax0B4yWVAR5PqP3jBx0BCn99AQEbtP076wUDuRRdA8QXEQFfPkkBA32BAX+i3QHJ5bECvwdRAPoP/QBuq2kCY0qJABA8eQE00A0FQ1DRAgyeLQFSmFkBQk4dAX7q3QMdY1UD7NRtA45XzQC2cp0B18OBAtkGGQPcp0EBJbLZAacqQQAROxkDrfMhAGHLeQMlQnUBvJ51AuJeSQN6zqUDzqYNAriuXQBY2t0A6XplAONq6QDw3jEDhvJ5Ay8F1QNansEBqiMJAHavOQDFGNEBJvtpA72/ZQHTwWkA457xA3GcFQef+EkA6/YJAbn6+QBsir0ACBkxACdLmP9mytED2I2ZATaGeQOjx6kCqj/9AGkxUQDqEqEDMtbtAvUxuQMj72EBPMOw/SAOZQCY8QkCbqLdAH/W2QBPk3kA6XQRB9MblQAyUzkAaK9pAQOGJQP2yg0DRDqpAbTZEQC9uwkAE6eFA06wyQFG7h0DKIOJACHkCQeQvqUA04XxAuLrfQIS9AUG07/NA6Ui+QFk/xUDL34JAPYcBQABq+EDNLlRAwLR1QE0JukDWC3tA2TnyQJD4wEBN/xFA2kfKQDNP10Bu5J5Av0/pQJNK4kDA6s1AsWbJQPcKqEBjlfhAuVGwQODd7UCMY45AGAGbQN39rkCbTeBA7DAkQAzILkAXFDpAm8P7QIblnEBM5MRAusznQB9W9EC+fr1AypHXQGkhwEAP459AHXdsQJehBkEPGedAcXxvQBn+kEAiItxAqZAxQJvpnEDO7eBAN/OdQN9xskBhEthAJl99QEvlA0H3Wj9AIMn9QNW4s0D3IG9A6OSoQCfC8ED2XvBAR+fwQJMihUDOKMFAInguQGcrDkBs9QFBebF6QGaR8UAyjKdASZffQFhamEBnZwBBiHn0QNzXYEBP7ZhAm505QMRWxUCt121AEcRUQAYzzUAYan5AUvuWQKaMpkAj149ADCCoQJRu+UBw67tAjUmrQAaQNEBjbKVAB1bdQKXg9EDNS8JAwkHmQDj3ZkDgp3JAiz6LQFLiYUB6WwFBEwuyQOhBcUD3HphAj9/JQBky4EAG1s1A+/TPQPvvlkDBe5JA45pKQBq23kDkjVBAkD23QJ67BkFpbJ9Abe/FQOO100CzucFAPN1OQOiB6UDu4EhA62OEQJBpsEBGtWJAu186QNKP80DNlglAHhqqQHuOgkD8IuhAAs7RQMFq5UBXeeZAWwWCQD+dgkAG1+xAtGvRQN0wd0ApspJAOIq/QAtsWEDLEZFAX/jFQE+QqEDwfJ1AOceUQKgLmUB1XMdApk9FQCCYU0B486FAoDR2QF+OAEHYNd5AUoGlQDDD6EDpupBACY7bQGUMLUDEZw5AmJAEQTkan0DUarNAKr8ZQCfdK0BgMytA2n00QHxVmUCBGZZAxmrQQJG4ukBQcmtAHsHaQElOrUCm8G5AUP0JQcRKF0A/MMNAmVKZQFK/kUA3vpJApLe4QLESkUDIqTRAcSmtQKXV60Bir5ZAnivkQJi1N0Aph7VAQzyXQIFNbkD3POpAatkqQHOE8EA28L9A6aOcQABb9EBAPaVAHo2pQGZ+i0DxTo9AS6W7QOlBA0E1vHtASBRzQO49nECwgd1ABuWQQAObtkBNHu5AezaaQPivsUDAHJ1A91WjQEgfzEDvk6tA4KzPQCQri0DpqfRAmx/XQK+20kDa3OFAKCa/QHQe60Cq6f9AmPRxQFUtCEEv+T5ArM/TQB7Lv0BQh71Ani3lQCNVs0AKP1lAyRojQHC+7ECDLopAQQ0nQIY0kEB01NNAUFr/QMyRYEBobsNAd+H2QML1zUDxuppATtOoQNSo8EBZ1bpAV7z2QDNKB0H9uANB0HFqQJJECEHHu5ZAroPWQMjsvkDr9btAeCyCQB8jtEDXxsFAZdOwQLJ19kDsbJVAyZfFQDqpoUAVKy1ABGY9QEtaDUGjEtNAyZDTQJmk2kCriANBs02cQDtjDEAYA0VAraNzQO2Y4kCE3ZlAtKDAQMFdf0DwYx5AyLgNQFls2UD046JA883mQJOE+kDbCLZAAIWmQMDoo0CmTqhASyoAQUtU40DAiepA6BfvP+qjAUFz8uBAVKrGQAjdYUBUILdAtb65QGmR0EAyBeJAE1XCQFtckUA+YZpAbCq4QFRHDEAKEgdBsVsDQctQKUB1mYtAV587QNhUuUDjCvJAG4JgQK+x4EAxZvNApzGpQLiKukCf1tRAyYfXQBBvskDFAolAKbwCQY1Z4UCTIttAzKhWQOG/nkA29PJAUie4QLkQr0DDAWZAV0GrQM/sIUAj1IxAhMf7QGvbcEAkgAZBwun3QFgxQkD8voZA7YIqQINK+UB6HqdAdmuIQG71+0Ang/hANLq9QKMc5UDytcZA6mZZQBHqX0Ds5JxAYkmPQPzDlECjTuJAMiqAQM423kA+XuFAKdLPQCzSnkAKa2VAIXjsQLstU0CeIOlAH7W2QGEICkFEvDhAPTt2QHRbtUAZPyJAJ+gDQdYP3UC3TPVA1OO6QA0OrECgS99Aqm5VQOeRxUDXxt9AgjDFQGsmi0AgaYNA0c2eQElMgUAy+udAyJ8EQeT4ZECpK9pAYibPQPtbvkD8SgVBZZ/eQDdaK0CJpMJAutfbQHcn8UB3JvRAyoCEQMjhbUCS5M5A57guQMaj40CNKVBAAKPxQE81lEDOWulA4bv0QBylyUCaddVAysGKQEtlKkBV4sBAOGmOQNBpOEAJRAtBsBRiQENT1UClaVtAKOuSQNiDLEB9jPdAfVDOQDfPikBtyrpARI+0QEE810BRVolABV6VQBc+BkHrVW1AK9fDQE+3t0C4iKFARmbzQJWF4kD/0PM/Gb6RQO0ybUAXNfVADdmJQLFdl0DS5gxBAk3aQNyqi0ASBilA6hzAQOtZxkB+ANJAOj4AQU1nmECVKKRA8ZnOQIkdrUAr3ctAMhMmQHjSBUGQ/39AsOnHQByU8UCsNZFAuTqtQBoHXUAY/ipAh47ZQAFd9kDG2eVANCaTQHI8iEAXOs9AEq7fQDvl6kCOcI9AJMvkQJVSsUADLPU/v/ujQMHmXkA5i6NA9BuoQDgc10CUGgRBaoDWQKe1uECJFbFAZVgOQI/PiEAzG6hA2u2zQPWg0kC9JSFAVxfBQImjwUAYNPFArsboQM3EqkDhItZADQrUQBnp1ECgsNJA0IyLQOYUl0DJtZlAF1G8QM/gOUDGyAhB7zbtQLdO1UADEsRAmZgEQDaxU0B5YV9AW7nKQEk5NUCPTm9AblGbQKLLtUDTv5VAf+PcQJ1PpkAnw/xAx72kQL972EA+OO5ALKHdQIEQ30B6wQNBYZh3QKUli0Au2k9ARUi1QISGhkAtbmRApe6kQHe9eUAnkr1AB03BQEsNj0Dv1PpAaMWVQKNqvUCF7LRAMKO3QKAmu0De/RJAufhXQI9510ANjNpA7xH6QHzyRkDUuslAltDCQL7N7EAVOvhAtPu/QKuvsUDj7zRAMom1QHGKpkD3IPxA2IpDQIiV9j/sIChAK9O5QGX6sUAiQt1A/es2QAaIqECVTChAGQ+xQB6z4EBIJo1A82OjQJAikEBTSsRAlyKrQFepCEHhR7lAx1eZQPKKwkCEpNpAclMDQTKtmEACxS9AA0HVQHrZy0AdwJJAKiBxQDMJ6EC5nc9AAuW2QLBSg0BAOkZANdGQQEf/20AtQMtAIjKMQLYBwkDynbBAtq5KQJY4VUB+odxA/yrbQFMHPECZU/5AVaL/QJuppEAgCsRAFD9qQEDCHECzIrZAF+5DQBerwkB1PYxACwvjQC3VgUAv1wJBxfChQJA4/0CMERpA/7RYQBQK6UDKeT9ATMTDQJEXxUBKnIBAR3CqQORO40BCWtNAaPLlQB6GzkAdRdtAjXbuQLGuyUC+795Aj1+xQJ61t0ABZ7ZAnNbkQAt5r0Du7qBAnAAMQNVgwkCzqvxAJu6LQMPVMUBJ3O5AhyVgQG3gn0BGEqRAqxQIQUXN0EC/zDdACggHQR6MwkCcVvVAIOqqQOBUAkGsZZxAZsLdQLFSokDJPKhAsqKhQJQSL0Aa0MhA8aaMQI1uskC4O25A93ryQJViIED2KddA7sXbQINtyEDoDJhAMhOnQBq/zEBeFI9ARd8AQfX6AUFN9pxA3gDXQFgMsECThKpAxt7AQH1GuUBed+RABR+pQF9hiUBjKVVA0DPpQNbeikAxXqFA2YKnQNiT5UANh5tAhdzHQLZZZ0B8SadAu3x2QL/Zp0DYK9pAln21QJCeaEAbVOhA3a7WQHkB8kCbK6hA4pOPQKL4kEAk2SVAOb+SQAfTxUDQpeFAwSZMQMgb0kAUAfVAO8TmQJWnqUBQ1sdAJi5oQK267UDn8+9AeLMpQCBip0DnpetApcXpQA39vUCgkDFAZot6QDS9iECAFahAFGmkQC/gAUFWrKlAwOvpQJ+1h0AC1bdAsJ6iQBKg0UBB1wFBPa3TQAAX30CVYptAz79MQHOJL0B3NS9A8rPDQI0um0AcDvRAnjKLQHqyTkDbZalAKobCQJdwa0Cblz1Av9LCQP5CUUCmjsBAQosBQUzjfUCtD9ZAvzQPQC602UDwPtRAwG3pQJDYyUCD+EZAC7qFQC/HBUGAp3VAWOPJQJD2BUGod95AmBnWQCG/10DzpYJAYIkcQGvenUBqDKNA4Z4bQJSYsUBSqUtAGFOYQB9AyUB5jcRAg9hNQFWVZkDKzKhAoNHdQCMZ1EBTDNtAOhpaQA3U8EAbKQJBoQrjQAfu7EBOauJAtmb5QGkK1UCaZcdAYYLfQFoZoEAQNNNAHsvyQJjx4kBNlKFAPxZXQBdE3UArdBhAdGT2QD7Jx0DVrE9AE7I2QAZ3OUBUH6RAbXogQBYgekD5PPJAAMavQLvW/EBilbdAOGPYQMqABkCddL5AdkLsQEWmlkDzMepA5SnpQMo1cECAbgNBYdG/QHrQU0DWI+xAh+mTQFLlGEAKPvZAdZbfQMk4+0CkK45AEvZDQAMQEkDNopdAnfPHQHe4Q0BIYcJAW7kCQKrl0kCTjcVAmxP7QI5Cx0B8CoVALqifQFbIV0D1i/xASyZ4QBifW0BtU/1A33F4QIDGvUC4Ov9AOVXtQJIbCUFA5HNAxLyBQFmqkkD39ppAjS6mQAjti0CxeMpARaDnQE7gjUBZB4lAKkEGQXnVykBMecVARHMLQfjFoUBpyNhAYP6YQMnj7kA1IaFAd0rSQPM48EBguzlA1pSTQGM+skAc9fNAEU3lQNFq2UCKbNJALE6HQNmJ8T8Gx8lAHhXOQD6sAkE3XONAYB2uQInV/0Dn0etAKvcSQFUJF0D8u89AK8mcQHsj5kBatRxASiMBQVUxX0CccrJASA7EQFeBVkDBTmZABhi5QATBTkDHqOxADH7RQImFnUCtYOlAbNeHQCLIYED6YqNADVdnQH/GZ0BdcK1AvlePQCAL9kCRWpJAGu3PQIHA0ECCH5lAwfvMQI51gEBo1YlAqTqKQGlkbEDNlc9Adkl3QAfwuEBAW/dAERHPQMbyx0A8AYNAJNXtQLYC/kC1osNArVZrQOy3lEBYebtAEzmnQNf3CECxS75A8C4XQHu+OUDJueRAYEOaQAcLiUAdNXxAUhK9QNePq0Bv64pAOdLSQBiw8EDzhVJANJXZQLSqW0BaGM5AVlhWQDS1LUB7M0BAouDqQCj/x0A7zuZA2R+ZQEmyhUAVHwVBGmH3QMqXzkDqxcpAEnL5QNOMO0DFM99AvcvyQFSV6UDjk9NA7B7QQDGfakBbl11ABvxiQCMrvEBZP+ZA4+9VQMjsOUBASZZAIEibQHlrgEDrP6RAmR3VQD+25UBiLthAcaLIQC3O1EDlL+xAbk+QQD2N50CNUP9AOBN6QOnKrUCVr39AA+ngQJPAqkDmyNRAYp0qQGkImkAQ4OxAKg6rQIeAf0BbdO5AbhHdQCKln0DMmZVAd7HGQMdd70Ap64ZAP/glQGg18ECsaC9Ab42vQDZclUDRkWhADKCKQCKO4UCNqPpAGOt1QFCLNUA1dqtAnFsEQes17ECL491AcYzxQKec5EAzGLRAOiufQBeXxkASq8pA+37zQLRD0EAeDd5A3qOyQN2nxED4V09AOZWlQMS3A0EBN2VAif55QCNi0UBxnOdAthCZQFUzXkDAhaNATXnDQNwvQ0BP4qVAIM2gQHH25kCBzL5AEo/9QILWw0BPs9VAFEA9QPXIoUDAXsZA/mfgQOFOxkCN5rBAfEr4PzSxtUBLiqJAQE4YQNfoxEBRo9xAtpKuQBSt/UB8KKhAyARmQJBZNEAYY2FA08aZQFT3YkDeBpNAA+25QHksBEEMgDtA1A3yQHal6UC+FeJANW2qQAjj0EAYzeFADFeLQGnPVUAnIf1AoEueQKmX5kChNKtAY4jFQEiAs0DT/sJAW3h9QNnQGkDpz/JAC6fEQONE9kAmW7JA0QfsQJVrBEEhNF1AJtSVQN5ZukCZlZhAWTNFQJF3vkBA+AZBu6osQPdP4kBVBOFAJk+SQP23j0DstKJAvqC1QPbUSUCjHNZAtqGpQHK4rkAZvchAzlHqQMHzW0A0/M9AzzDdQIjEo0DfMKhAyelIQNs660Cd/JdABWOgQG86y0AICZtAcV+KQOE06UBKuK9A419dQI0B8ECjQ85AdFpUQFQ4vUDvGZBAQH2tQPTMq0BWIoJANC7TQALT90CwOFJABNfCQMlRh0BvD/FAuiaFQLoJjUBMJD9AOk/DQGtur0BSAZVAV+aoQPyqgkCj3LtACzhmQDNGf0BmtWVAQJOxQE0U4EDyP+VAKHF4QMzLckCWfLBA0+etQG/rlkDvjXRA5IKAQHxbxUC/nspAfhS4QMfN1kAdGbZATZPQQALEaED9NqlA+dH9QJTQOEBdE6FASCGLQKbmuEB0VqJAJFj7QJ1540BNobZAVKmgQDfTe0BTCHpADdKKQKXE20AwcpNA+BWmQL1k/UD90KJAQUzTQOBa10BfNpdAoHEAQdcZ6kAvhbpAEq+SQM+C4UCeNaFAHsflQGpXgkDYrK5A+iGEQLew4kBy0pRAEoaEQOHErEBlPPZAm+PVQGpVxkA2O75Ax+CYQInQr0AyKIFAsRv4QKSr2UDS7xpA0UztQGklkUAooshAfU+TQFhDDkAotalAuvW5QP6i3EDWI35Aag3LQOJedUCl87JAwJnQQAKNtEAJF49Ap0iBQI5//0Dqb4xALc3rQNHJYUAlZdVAxnvAQH+Bp0CFD6lAASzOQMPB9EBhpE9Al6esQH6Y0ECUyaxAa2GTQPz7IUBKGoZAchuqQIrgoEBRTVpAEEVIQA0O60Dt2ElAqdH7QK/lPkBMyE9AMEuCQJFBdUBOH4ZA66cJQBOKwkC2XsVA1anGQChTdUBqdp5A6vTFQDxtakDYZBFAX+6cQOo3wUBb4l5A/U7YQNTQpkCezstAseGdQFxdqECwfZhAtyOxQAGLk0CX9wRBAJa5QJGW90AU0rBAYJ4gQC5T0UAWyddAymLOQPThLUA3BOxAsWByQLlwskA/XclAGBIiQMUfDUC7ShtAUCjgQGc8hUBA095AXfnUQG/H/UALRoFAWSKqQApen0CgvWJAklDtQCG0hkBvadZAOUO3QJr2bUC6iKNARYyeQMT4fUBnHlBAlbS3QBMSskBwKQRBvpHHQMCW2UCJcu1AaHqUQMhlj0AnI/JAwLD5QFzTzkCUorBAGpWCQONOwEBeCZlAEesZQNNIQUDP+txAlEpoQJi4Q0AmcbxAy9p3QG6AAEHCbHBAkJwsQB8Z8kBBUOFAFaPGQO+eqUArspFAQz9lQE84V0BCck9AxeSCQMRSDUCDSFdAyTeSQGmnrkAboc5AxEB/QEZ6mkAA3fBAAE68QNVApkBX9KhASUyYQNwjAkHii5FATjjUQPd3p0BrZC1AZW9eQOl3q0DnD3NAZ9aIQPVrwUCr+/FAru2fQN+1lEBA/8xAQAKZQHDqy0AIFEZAe9esQMHq0kCujPxAEZGbQI4lmEC7vGRAQHuaQHPRQUAf3KlA3iSlQBwzyEBb2WhArmmsQLfGuED8Jq5A3n6qQPqqJkD98UxAxx2SQPnnM0CR5OdAbHFoQLhnbkCrNyVAXpLyQBHYqEA6rttAYUnSQI3M6kDbuNxARGaeQNpKtkC5T9dAkn71QLeLyUBQRNJA8afyQBn/zEDaMuhATsDIQMob4kAfLQVB3tCaQBOvZ0B3MDZACqbsQA38+0BXiYlATe2IQA3trUAI7qJASoPoQJ2IrEDjSYdASqr7QP3VokCoqgxAMuz6QB9o/UBA2z9AKnlOQDXEzkB1Ca9AcQGJQAwfikDBV8NAm1+TQAILj0Cjd8JAvDSGQCTITEBwftxA0IrJQOMls0CetsBAeYOCQJtE/T+TIdpAYEyFQOVbjEA3HqVA2xPnQCnY40BY88hAy3wFQZgmtECS2sBA0XGpQBOTzECZHYtAoBaMQGbP9kA2Fs5AG+XOQAtNMkBymU1AkleDQA0xnUAAGq5At0PkQKH91kCjaMVAXf98QAW+hUDz1JNAXt2iQNOSi0C7YvlAyPHiQEZ2qkBlWjZAzqIJQa6/GkDoAo5Ah7jCQIklwUAQWHJApXngQG1tekB7D8xAJhHfQGUUMEDYQ7FA3/juQFC130CDOs9AzpVYQKAXoUCcd4xAU6SpQNnEvkBHP+ZA+yVtQMTSMUAKpsFAD/iEQJdSyEBP1UFAdptAQCCUDkAhHpZAvWmSQHnus0B4NLhAIpG3QOE1AEHe9LRAvXwcQPFbzECyrtBAkqsZQPp8rUA5ZJ9AzdewQGH7oUAzidBAVA2iQIPMoUB2xdJATAf0QFhp4kBjAZ1A+33JQDWr70DngslA5KqfQLB68j8XF2pAF6ekQIvbv0AI3O1AsshIQLoJIEA6PytAyOq7QPD1hUBLmptAWs2fQJN7qkDFN71AL/j4QHPqxEA2FK1AvXnnQGtL7UApXptAPmicQJBwfUC0swFBmlPxQGutw0B2xYVAtTnmQDZsxECHktpAFdCbQIs59kDjQQNB7q4DQX4VoUCqpqhArHyzQEtgx0CLjrJA7JyvQBNxpUD3MeNAWFYFQZmUcEBI+ddA/9T3QGTRA0Eux7dARGnOQDzd6kAPKbpASCqoQOpv9kAaT7VAkV2JQNHJxkDtvZNAoNb4QANbAEF7aqlAkGbCQOusqECD37ZAGQDTQJoOoEAp05NA3FK2QIj4nkDr189AKznWQBfjhkAvBXpAIvekQPix5EDB8GNA4rnzQMNx5kB0Ft1AJHjDQC22aEBb4tVAtYuqQNTErUBYWx9ARVb+QEj7NECoLZ1AC9ezQBDZikAsjDhAg4amQPvUiUDALMRA5Y1ZQD9TxECxMNRAzR+MQLYs2kDLxPpAdxfeQGkyoUBdPfpAapB4QIp+pUA0wLpAwKDIQFVSk0CKKq5A7zimQHHDdUAM6l1A9FnyQBPCAkFtBWFAHDeBQHxHT0CH0LpA3nGaQGBOjED3oyBALz6PQDLHn0C2VVRAka6TQDY9rEBqJOxAoD9/QCOKcEA+btRAq/jGQDxpr0BJt7dAv//wQEnGwUBUxYdAcieXQNl/9kCkTYdAx75NQBRc3kBRK9xA6VTCQF4p7ECWVZFA6nK2QOlxAkHWOONA5dPsQObk00BcHl9AHQpyQAsJhUAQBoxAbMPBQBvpzkCGfspAGczEQBEZ70CG2ZlA0BnhQHB4Z0CKQrdAiZ/4QGy8P0AUW6FAXyrvQIjUX0BLobxAgPPVQGwqxkBMjeJAvlvGQBW2kkB9dZNATkzmQEV/6EAqDANByZlbQBJf70C+FrhAo97tQE5KO0DT2L5AdzuLQKUgd0C8jhNAA7WEQKUn0kAEDOJAwx4DQd9EpEBb/iJAZudTQPBbhEA/EbFAxHtOQOgjoUD3O6pAOic3QJxE9UBlhvJA2BW7QHJlvECIv8NAk1WbQIDeAEGdBttA9ueCQNfzcUAD1MFAnY1RQOYyokDJDKlAoK7gQF70ZECEzKdACrvxQGvPt0CKcj1AwQ+hQN0xuEDAydBANOyIQCUA0EAc38FAQab0QDmFj0BjukdAvwIrQNNv0kCoEmdAVKmsQLAWskA+25VAb9ifQIl9+ECYTtdAgCBqQGeWkEB7kCFAUiutQLqs5EA4tNRA3fvUQIKkskBVENRAA5/oQLJ6nkCTDABB85GfQA/uyUD968VAER+JQLQm6ED+Ve9AaAxUQCTXsECWskxAt5uCQCunmUDS2LRAgJkCQWowwkDxkcdAlcftQH8Q3kA5UlFAu23VQNO/y0APfPFA/NkwQC6PtEC0FH9A70gGQcdQO0AkDnZAuK2cQKiQAUEIgCZAw2hOQK5fg0CCFIxALfluQOYKo0D5X2VAcjnzQOJZvkBrbOVAaMSkQNSc3EBwrJxAVZReQFc2vkCvhO9A2s/iQAiJmEDCaNFAyLmCQECX/0CF6KhA6bNXQHSJjEBJNgBAxcM3QCVk9EDuQ2lAJzcCQdLGgUC9K6tAog64QNHH2UDE4etAd8rrQNulokDYL/RAyDqEQDbnzkDcI/lAXz/GQBKWzUAWAsFANU77QNG6UkA9oZVAwWixQKfea0DsAPxAN3CuQLpmqEAZR0hA0r6RQI+K2kD0XtRAFVW/QG1sskDfamdAXi9vQGKMmUC4UAVA73vyQKQYV0CWCmpAn07wQCXn4kD1E79Au2L0QFWzhUDMi9dAon1lQGDur0AF9a1AO39PQIANpEBc/dZAWrPUQB8q9UAOEoxAHzf3QBoZykCgknBAgGzNQHH+kEAthNZASfHCQJTAi0CIeepAjX6xQB4aeEDC9+tAKt20QFR8nUATepRAb1y8QPPFjkC6XrFAQ/2KQHHLjEDiDo9AsIOpQFxHxEDJfIhAYoXMQJ6cjEAKENNAEeXYQKVmikB/EFFAMrHSQBcOskCkcqpAJMqLQPs6z0AfKM5A66qgQHAOwUAEXsFAVCIlQJMIC0C9WDNAo/7JQNamH0A85M1AvkNhQEXEq0ALp4NABzjxQBfCZkAAEudAGLGcQPit5kA2PaVA1KyyQIZfkECdPbNAzwWiQGVoT0BUGZ9AX0qGQAQ98kDB2cBAXiTqQF20n0CVFFRAHZa9QO+tn0Bv0mlA2rAtQO3hAkG3NMRAjxtPQC/ZsEAhGZtAQ5rZQAmVvkAdyIRAC0t3QDu190DUH9RAODhQQLZl10Ar6H5A/Wv0QCFLNED8y6tAhx8nQJ4gf0Bke6tAtOd5QKJ4wkBpeKdAolV5QFmC20DSzrdAPgDPQGZ9rUA9QSpAKWC0QDkH80CX0+RA2k5BQKfVdUAIMMhAaSSfQAf7qUCgrQFBOKzjQIkryEC77rJAqY/OQLMjpEBFpGBAZp+gQKIMzEC5gohAJt1zQAzugEAewodAjS3bQEWfRkDObVhA5wqLQLJtKEABeCBAgEC+QAh8EkCbEchAHWwIQOqa60C3lKNAWQCbQBsr8UBVgMNAW/HVQIqx10CJE4JA5IWjQCJUp0Ayfo1AxYHTQO3QeED02F5A7HI5QFzOTEDHbotAocOyQFTUo0CnA2dASgBCQKnGgEAv0dVA8yXzQEc8TUBabgJBz8SBQMJ1UEAwwLtAinNfQKguc0AfNqBADCOpQEtbsUDnHn5ASHoAQWrLUEDaJu9AsqpjQKGocUBKe6pAlRwdQJGZxkBeaPJAywC0QMWygEBAUe5AkpqBQCRht0ACGzRA/eC3QDrEi0C8wbRAVepdQLzjOEABlLZAieHIQDYDAkGvAqpAE8H+QOjDMUB7s49AV0dJQB2360DsNHBAZDukQGD2xkAXLLJAll3NQM7OmEAqudtAtOrkQJU9mECjQ4hARou9QIP28EDsHaNAXQ3VQKJv30Bs/MdA7JqtQJC640D4YolA4UxEQAQivkA4fWxA5qH5QIXRyUBpJ/FAiAsYQBTuBEHVBqNARlCQQFACyUBetulAmCLDQEvyvEAnbLBAb56FQGjw+UB2lcdA0IWZQKQbtEDvskZAMcQuQIi960DEofVAKs1YQErp4UBhQoJAMONFQMt2TUBo3kRAahZDQEijYUB8GedAPmzSQDyY0kDuLPZA5LWIQFS630AydedANl7BQKgPkUDQPe5A4lPYQEvfhUDnB45AHUA5QLEStUBUMplAcDUmQCYM40D+/b5AJzzUQH5ehUAN+oRAG226QB96kUDNjZ9AsmOiQNGTzEChr2hAxMqmQNM9PkD87rxA35PvQH5ovED1lNxA5Vv2QLE5P0DV2YJA8xffQEmz0UCfx4pAlq7rQJ1N10CE0blAMqPdQHmj6kB722xAiWmWQEu00UDNBYJA4A+bQCWXbkCg6KNAKnw4QDPGwkCNx5hAKCd8QLDak0CkDhxAr8bLQB4G3kC+gIlAOETTQNjn5UDjZ6BAQw2PQLqM80DqjNxAA88uQMdtKkAut9tAPfDhQMznT0AfW3NAL8hsQIjUKkCbH5hAPYZ+QMqIS0DyxttA4dBAQCrU7EAPvKtArtugQGkokEC0hOpALI+PQN04o0Dsn6pADzjDQBsIsUAaBrdA/ZawQM1Vy0Chmz5APQHCQGOrukAVPrBAovPKQGQp5kDQebFAG+fiQLH1z0BRd7NAurCqQOIB/EAgn9tAFPzNQAVo10Cuz+NAGkG6QK0n00CVuhVAxyGuQJtweUAO+uNA+h9IQNiXtkDPP+RAztLIQP1J3EBsS8FAMGqHQF2ElUC2At1AzEznQE1jkEBlwF1AweeXQLAXq0A9Mf1A4TmVQDPs0kDxr/JA5PcRQFc67ECQUqNA/3mNQGVrX0DJmtlAGobrQIz+/kBCeOZAiN+HQHXjQkACxb9AScKGQJ6QpUAYsvxALpfHQNvt4UDSgslA0lObQIaHqUBAHRtA0BH2QHb5uEB73rZATwq+QBMTpUCYUpRAVNSrQK3xr0A3cENA7IHIQAhEwUCl5PhANtdbQIVIYkDpmblA8bKWQPqDxkB1EftAY4aFQOiB8ECKE9ZALURGQDqGdkA8v5tAgra6QJwLwUBsyXZA54vGQPqAZUAn4/9AIF/rQN23k0C1uK5ARdigQDo+3kCmf3tA57LXQGmfjEDf+dFAEijwQOosgkCtlk9As0mDQLxU9UDPscxANFh9QFXa7UBuZcNAoa07QFupu0DydOpAtLRIQOOP0EAwaNRAMc6BQG75wEBTX7BAUJbPQKxBy0AWxb5AxPDMQESNfUB5MbxAcjPHQMB+nkCzjc5Ai1ZXQDVp10DInIVAZizaQAY0mEBRw1tASJuNQPv6DECXwElA10X0QBYj1kDGNPFAnK14QLs39kBlaq9AjkWzQBMApkCghs9AElxWQKEnvEA+muZABm/SQIEpuEB3TNhADb/oQKaf8ECzi2ZAtA2jQAxX2EBTNIFAcMzbQIhJTUDQEZZAMnuhQDqv60Bv5thA8imrQFJ3rED4KtFA8Cq8QPEmnkCva7JAr8yWQMQNskCjDuNAPVjfQOpAl0BcpVRAltPDQCNTs0A3OflAtx1/QEPUikAi1OxAO/OgQIG/vUDycWhAbhjvQPM2zEDsUnhAFtivQC6yqkCH5nlAnLanQMNMw0A+HOxATleUQAI3Z0CNsOFATSwEQS5NtkAUsbdA0IihQEsR5kBulGNAPGKRQLKG90B4J+JAmcaFQBNmoUDLzNhAp46CQE6c0kA8K9dAsFRnQCuI2kADWpJA2O7bQJ5/WkAsK51AA/i1QCtb4kBhBJ5AzGjsQFYYqEDWnCBAzEyLQFpJGUDGS/JAzFbFQELBpkCH+KZAXvjUQHye3EAuuntAOuTBQLwDsUBkc+xAlgeVQKowuEDZr/lAdUGxQNxmVkBI2M9ACFKrQBG700DIdbpAYsnXQP/xmUAdIIFAja78QDVtL0AHdudA6keoQPsvg0CPNOZAOekwQNuWjkDVVc5Ag786QP5v9kC4VnlAO1WqQDF7UUBruadAFhHfQJVcAEGi/VNATuiWQGVJwEDdpilA+EiFQDT3wkDYT+xALYvOQJ7B70DMM4hA+MWPQG5BYkDQ5vJAbma0QBN/mEDDA6hAvZDJQEeZe0AwO7hAXXvIQCtJ60CcOMZAsiC0QDWW2kCFUFJAHwCYQKtxvUDNXMBA0h6aQJ2oTEATUc9ADNXyQKiKhUAEm+VAAoKpQDzRy0A9P5tAcl+6QIxSckCnGcNAQ9mOQMnvfEBMfZpADMNwQO1lgUBkDOtANaEDQHhWzEBfKPJANE7KQCwzmkCNu4lAoiz2QKHEe0BMUMdAmyhuQGRgiUCRROBAzad4QOrhzUBhhqFAC3VeQAax4kDyHvlAEXxjQLiXkUDB1slA5TPMQLsGz0BxCKpA1d+2QPGE3UC7pJFAJOnJQKhN20DiclNAzjRaQGdQ4EDSBMxASEIQQJlzk0A1QodAOGK/QNYkckA1cJ1Aco5SQKe3vEAvs39ArIzZQCrkKkCALMVARSO5QOf8R0DDY4xAOqazQBk3z0DqhaZACVajQCw/fkCzhMBAlVt3QLR/3UCHzcdA43YmQEshpkA9TaFANSNQQNtTuEBLBcNAOBatQGjUm0B+aE1A1/jUQAIKX0B8efFAUXygQDgQ6EBPO4VAG0HKQDWus0AAS6NAQJ+CQEU90kAmx6BA4J5eQKE3tUCn6ZJAKQfqQFgkuEBj/q1AbiOXQLPm50A6n6lAJ3RPQGH1m0A8NcdAeQ3oQOC8okC7D7tAK5CdQJIktkA6l39AXqjgQL0bl0AXRspA60i4QNQfjUD7wJ5A6vbIQCb3gUAKI+xA6gSwQAw7TEBQA65AxtU/QMl35kAFeWZArSaAQGBTtUBB92pApKKhQGQmhUCSDdtAPnPXQNMxhkCZ0LlAFFvDQJUQ8UCGZo9A4MQZQOXZJUCnUsNAtuCNQG+epECle8lAA5fUQCRP70DsRH9AfcvUQBZOjUCTMpVAb5DtQIqSsEB/qWpA4HxYQBKP3kCaC99AXoHJQAHBeECUJMhAVTSeQKUhy0Cwi81AoNGlQPaZfUDGg4dAFVSQQHawrkDV69xA6JunQF0YgkAKBYZAX8aQQLfkn0Blp0NAl7TeQPRxNkCJ6ptAZkcwQPc5YUDv55VA8q6IQNL4n0B3ObNALptpQBLOjkCb4q5AOJqgQIHXd0AzQtJA5unPQJirV0CJZLlA7CivQAkLQ0BpAfFAGkBeQFtir0ChedJAMCV+QEI6qkAoCSpAuch/QOSoLUDrDT1ASZioQNAobkA=\"},\"shape\":[5000],\"dtype\":\"float32\",\"order\":\"little\"}],[\"y\",{\"type\":\"ndarray\",\"array\":{\"type\":\"bytes\",\"data\":\"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\"},\"shape\":[5000],\"dtype\":\"float32\",\"order\":\"little\"}],[\"color\",[\"blue\",\"blue\",\"blue\",\"blue\",\"blue\",\"blue\",\"blue\",\"blue\",\"blue\",\"blue\",\"blue\",\"blue\",\"blue\",\"blue\",\"blue\",\"blue\",\"blue\",\"blue\",\"blue\",\"blue\",\"blue\",\"blue\",\"blue\",\"blue\",\"blue\",\"blue\",\"blue\",\"blue\",\"blue\",\"blue\",\"blue\",\"blue\",\"blue\",\"blue\",\"blue\",\"blue\",\"blue\",\"blue\",\"blue\",\"blue\",\"blue\",\"blue\",\"blue\",\"blue\",\"blue\",\"blue\",\"blue\",\"blue\",\"blue\",\"blue\",\"blue\",\"blue\",\"blue\",\"blue\",\"blue\",\"blue\",\"blue\",\"blue\",\"blue\",\"blue\",\"blue\",\"blue\",\"blue\",\"blue\",\"blue\",\"blue\",\"blue\",\"blue\",\"blue\",\"blue\",\"blue\",\"blue\",\"blue\",\"blue\",\"blue\",\"blue\",\"blue\",\"blue\",\"blue\",\"blue\",\"blue\",\"blue\",\"blue\",\"blue\",\"blue\",\"blue\",\"blue\",\"blue\",\"blue\",\"blue\",\"blue\",\"blue\",\"blue\",\"blue\",\"blue\",\"blue\",\"blue\",\"blue\",\"blue\",\"blue\",\"blue\",\"blue\",\"blue\",\"blue\",\"blue\",\"blue\",\"blue\",\"blue\",\"blue\",\"blue\",\"blue\",\"blue\",\"blue\",\"blue\",\"blue\",\"blue\",\"blue\",\"blue\",\"blue\",\"blue\",\"blue\",\"blue\",\"blue\",\"blue\",\"blue\",\"blue\",\"blue\",\"blue\",\"blue\",\"blue\",\"blue\",\"blue\",\"blue\",\"blue\",\"blue\",\"blue\",\"blue\",\"blue\",\"blue\",\"blue\",\"blue\",\"blue\",\"blue\",\"blue\",\"blue\",\"blue\",\"blue\",\"blue\",\"blue\",\"blue\",\"blue\",\"blue\",\"blue\",\"blue\",\"blue\",\"blue\",\"blue\",\"blue\",\"blue\",\"blue\",\"blue\",\"blue\",\"blue\",\"blue\",\"blue\",\"blue\",\"blue\",\"blue\",\"blue\",\"blue\",\"blue\",\"blue\",\"blue\",\"blue\",\"blue\",\"blue\",\"blue\",\"blue\",\"blue\",\"blue\",\"blue\",\"blue\",\"blue\",\"blue\",\"blue\",\"blue\",\"blue\",\"blue\",\"blue\",\"blue\",\"blue\",\"blue\",\"blue\",\"blue\",\"blue\",\"blue\",\"blue\",\"blue\",\"blue\",\"blue\",\"blue\",\"blue\",\"blue\",\"blue\",\"blue\",\"blue\",\"blue\",\"blue\",\"blue\",\"blue\",\"blue\",\"blue\",\"blue\",\"blue\",\"blue\",\"blue\",\"blue\",\"blue\",\"blue\",\"blue\",\"blue\",\"blue\",\"blue\",\"blue\",\"blue\",\"blue\",\"blue\",\"blue\",\"blue\",\"blue\",\"blue\",\"blue\",\"blue\",\"blue\",\"blue\",\"blue\",\"blue\",\"blue\",\"blue\",\"blue\",\"blue\",\"blue\",\"blue\",\"blue\",\"blue\",\"blue\",\"blue\",\"blue\",\"blue\",\"blue\",\"blue\",\"blue\",\"blue\",\"blue\",\"blue\",\"blue\",\"blue\",\"blue\",\"blue\",\"blue\",\"blue\",\"blue\",\"blue\",\"blue\",\"blue\",\"blue\",\"blue\",\"blue\",\"blue\",\"blue\",\"blue\",\"blue\",\"blue\",\"blue\",\"blue\",\"blue\",\"blue\",\"blue\",\"blue\",\"blue\",\"blue\",\"blue\",\"blue\",\"blue\",\"blue\",\"blue\",\"blue\",\"blue\",\"blue\",\"blue\",\"blue\",\"blue\",\"blue\",\"blue\",\"blue\",\"blue\",\"blue\",\"blue\",\"blue\",\"blue\",\"blue\",\"blue\",\"blue\",\"blue\",\"blue\",\"blue\",\"blue\",\"blue\",\"blue\",\"blue\",\"blue\",\"blue\",\"blue\",\"blue\",\"blue\",\"blue\",\"blue\",\"blue\",\"blue\",\"blue\",\"blue\",\"blue\",\"blue\",\"blue\",\"blue\",\"blue\",\"blue\",\"blue\",\"blue\",\"blue\",\"blue\",\"blue\",\"blue\",\"blue\",\"blue\",\"blue\",\"blue\",\"blue\",\"blue\",\"blue\",\"blue\",\"blue\",\"blue\",\"blue\",\"blue\",\"blue\",\"blue\",\"blue\",\"blue\",\"blue\",\"blue\",\"blue\",\"blue\",\"blue\",\"blue\",\"blue\",\"blue\",\"blue\",\"blue\",\"blue\",\"blue\",\"blue\",\"blue\",\"blue\",\"blue\",\"blue\",\"blue\",\"blue\",\"blue\",\"blue\",\"blue\",\"blue\",\"blue\",\"blue\",\"blue\",\"blue\",\"blue\",\"blue\",\"blue\",\"blue\",\"blue\",\"blue\",\"blue\",\"blue\",\"blue\",\"blue\",\"blue\",\"blue\",\"blue\",\"blue\",\"blue\",\"blue\",\"blue\",\"blue\",\"blue\",\"blue\",\"blue\",\"blue\",\"blue\",\"blue\",\"blue\",\"blue\",\"blue\",\"blue\",\"blue\",\"blue\",\"blue\",\"blue\",\"blue\",\"blue\",\"blue\",\"blue\",\"blue\",\"blue\",\"blue\",\"blue\",\"blue\",\"blue\",\"blue\",\"blue\",\"blue\",\"blue\",\"blue\",\"blue\",\"blue\",\"blue\",\"blue\",\"blue\",\"blue\",\"blue\",\"blue\",\"blue\",\"blue\",\"blue\",\"blue\",\"blue\",\"blue\",\"blue\",\"blue\",\"blue\",\"blue\",\"blue\",\"blue\",\"blue\",\"blue\",\"blue\",\"blue\",\"blue\",\"blue\",\"blue\",\"blue\",\"blue\",\"blue\",\"blue\",\"blue\",\"blue\",\"blue\",\"blue\",\"blue\",\"blue\",\"blue\",\"blue\",\"blue\",\"blue\",\"blue\",\"blue\",\"blue\",\"blue\",\"blue\",\"blue\",\"blue\",\"blue\",\"blue\",\"blue\",\"blue\",\"blue\",\"blue\",\"blue\",\"blue\",\"blue\",\"blue\",\"blue\",\"blue\",\"blue\",\"blue\",\"blue\",\"blue\",\"blue\",\"blue\",\"blue\",\"blue\",\"blue\",\"blue\",\"blue\",\"blue\",\"blue\",\"blue\",\"blue\",\"blue\",\"blue\",\"blue\",\"blue\",\"blue\",\"blue\",\"blue\",\"blue\",\"blue\",\"blue\",\"blue\",\"blue\",\"blue\",\"blue\",\"blue\",\"blue\",\"blue\",\"blue\",\"blue\",\"blue\",\"blue\",\"blue\",\"blue\",\"blue\",\"blue\",\"blue\",\"blue\",\"blue\",\"blue\",\"blue\",\"blue\",\"blue\",\"blue\",\"blue\",\"blue\",\"blue\",\"blue\",\"blue\",\"blue\",\"blue\",\"blue\",\"blue\",\"blue\",\"blue\",\"blue\",\"blue\",\"blue\",\"blue\",\"blue\",\"blue\",\"blue\",\"blue\",\"blue\",\"blue\",\"blue\",\"blue\",\"blue\",\"blue\",\"blue\",\"blue\",\"blue\",\"blue\",\"blue\",\"blue\",\"blue\",\"blue\",\"blue\",\"blue\",\"blue\",\"blue\",\"blue\",\"blue\",\"blue\",\"blue\",\"blue\",\"blue\",\"blue\",\"blue\",\"blue\",\"blue\",\"blue\",\"blue\",\"blue\",\"blue\",\"blue\",\"blue\",\"blue\",\"blue\",\"blue\",\"blue\",\"blue\",\"blue\",\"blue\",\"blue\",\"blue\",\"blue\",\"blue\",\"blue\",\"blue\",\"blue\",\"blue\",\"blue\",\"blue\",\"blue\",\"blue\",\"blue\",\"blue\",\"blue\",\"blue\",\"blue\",\"blue\",\"blue\",\"blue\",\"blue\",\"blue\",\"blue\",\"blue\",\"blue\",\"blue\",\"blue\",\"blue\",\"blue\",\"blue\",\"blue\",\"blue\",\"blue\",\"blue\",\"blue\",\"blue\",\"blue\",\"blue\",\"blue\",\"blue\",\"blue\",\"blue\",\"blue\",\"blue\",\"blue\",\"blue\",\"blue\",\"blue\",\"blue\",\"blue\",\"blue\",\"blue\",\"blue\",\"blue\",\"blue\",\"blue\",\"blue\",\"blue\",\"blue\",\"blue\",\"blue\",\"blue\",\"blue\",\"blue\",\"blue\",\"blue\",\"blue\",\"blue\",\"blue\",\"blue\",\"blue\",\"blue\",\"blue\",\"blue\",\"blue\",\"blue\",\"blue\",\"blue\",\"blue\",\"blue\",\"blue\",\"blue\",\"blue\",\"blue\",\"blue\",\"blue\",\"blue\",\"blue\",\"blue\",\"blue\",\"blue\",\"blue\",\"blue\",\"blue\",\"blue\",\"blue\",\"blue\",\"blue\",\"blue\",\"blue\",\"blue\",\"blue\",\"blue\",\"blue\",\"blue\",\"blue\",\"blue\",\"blue\",\"blue\",\"blue\",\"blue\",\"blue\",\"blue\",\"blue\",\"blue\",\"blue\",\"blue\",\"blue\",\"blue\",\"blue\",\"blue\",\"blue\",\"blue\",\"blue\",\"blue\",\"blue\",\"blue\",\"blue\",\"blue\",\"blue\",\"blue\",\"blue\",\"blue\",\"blue\",\"blue\",\"blue\",\"blue\",\"blue\",\"blue\",\"blue\",\"blue\",\"blue\",\"blue\",\"blue\",\"blue\",\"blue\",\"blue\",\"blue\",\"blue\",\"blue\",\"blue\",\"blue\",\"blue\",\"blue\",\"blue\",\"blue\",\"blue\",\"blue\",\"blue\",\"blue\",\"blue\",\"blue\",\"blue\",\"blue\",\"blue\",\"blue\",\"blue\",\"blue\",\"blue\",\"blue\",\"blue\",\"blue\",\"blue\",\"blue\",\"blue\",\"blue\",\"blue\",\"blue\",\"blue\",\"blue\",\"blue\",\"blue\",\"blue\",\"blue\",\"blue\",\"blue\",\"blue\",\"blue\",\"blue\",\"blue\",\"blue\",\"blue\",\"blue\",\"blue\",\"blue\",\"blue\",\"blue\",\"blue\",\"blue\",\"blue\",\"blue\",\"blue\",\"blue\",\"blue\",\"blue\",\"blue\",\"blue\",\"blue\",\"blue\",\"blue\",\"blue\",\"blue\",\"blue\",\"blue\",\"blue\",\"blue\",\"blue\",\"blue\",\"blue\",\"blue\",\"blue\",\"blue\",\"blue\",\"blue\",\"blue\",\"blue\",\"blue\",\"blue\",\"blue\",\"blue\",\"blue\",\"blue\",\"blue\",\"blue\",\"blue\",\"blue\",\"blue\",\"blue\",\"blue\",\"blue\",\"blue\",\"blue\",\"blue\",\"blue\",\"blue\",\"blue\",\"blue\",\"blue\",\"blue\",\"blue\",\"blue\",\"blue\",\"blue\",\"blue\",\"blue\",\"blue\",\"blue\",\"blue\",\"blue\",\"blue\",\"blue\",\"blue\",\"blue\",\"blue\",\"blue\",\"blue\",\"blue\",\"blue\",\"blue\",\"blue\",\"blue\",\"blue\",\"blue\",\"blue\",\"blue\",\"blue\",\"blue\",\"blue\",\"blue\",\"blue\",\"blue\",\"blue\",\"blue\",\"blue\",\"blue\",\"blue\",\"blue\",\"blue\",\"blue\",\"blue\",\"blue\",\"blue\",\"blue\",\"blue\",\"blue\",\"blue\",\"blue\",\"blue\",\"blue\",\"blue\",\"blue\",\"blue\",\"blue\",\"blue\",\"blue\",\"blue\",\"blue\",\"blue\",\"blue\",\"blue\",\"blue\",\"blue\",\"blue\",\"blue\",\"blue\",\"blue\",\"blue\",\"blue\",\"blue\",\"blue\",\"blue\",\"blue\",\"blue\",\"blue\",\"blue\",\"blue\",\"blue\",\"blue\",\"blue\",\"blue\",\"blue\",\"blue\",\"blue\",\"blue\",\"blue\",\"blue\",\"blue\",\"blue\",\"blue\",\"blue\",\"blue\",\"blue\",\"blue\",\"blue\",\"blue\",\"blue\",\"blue\",\"blue\",\"blue\",\"blue\",\"blue\",\"blue\",\"blue\",\"blue\",\"blue\",\"blue\",\"blue\",\"blue\",\"blue\",\"blue\",\"blue\",\"blue\",\"blue\",\"blue\",\"blue\",\"blue\",\"blue\",\"blue\",\"blue\",\"blue\",\"blue\",\"blue\",\"blue\",\"blue\",\"blue\",\"blue\",\"blue\",\"blue\",\"blue\",\"blue\",\"blue\",\"blue\",\"blue\",\"blue\",\"blue\",\"blue\",\"blue\",\"blue\",\"blue\",\"blue\",\"blue\",\"blue\",\"blue\",\"blue\",\"blue\",\"blue\",\"blue\",\"blue\",\"blue\",\"blue\",\"blue\",\"blue\",\"blue\",\"blue\",\"blue\",\"blue\",\"blue\",\"blue\",\"blue\",\"blue\",\"blue\",\"blue\",\"blue\",\"blue\",\"blue\",\"blue\",\"blue\",\"blue\",\"blue\",\"blue\",\"blue\",\"blue\",\"blue\",\"blue\",\"blue\",\"blue\",\"blue\",\"blue\",\"blue\",\"blue\",\"blue\",\"blue\",\"blue\",\"blue\",\"blue\",\"blue\",\"blue\",\"blue\",\"blue\",\"blue\",\"blue\",\"blue\",\"blue\",\"blue\",\"blue\",\"blue\",\"blue\",\"blue\",\"blue\",\"blue\",\"blue\",\"blue\",\"blue\",\"blue\",\"blue\",\"blue\",\"blue\",\"blue\",\"blue\",\"blue\",\"blue\",\"blue\",\"blue\",\"blue\",\"blue\",\"blue\",\"blue\",\"blue\",\"blue\",\"blue\",\"blue\",\"blue\",\"blue\",\"blue\",\"blue\",\"blue\",\"blue\",\"blue\",\"blue\",\"blue\",\"blue\",\"blue\",\"blue\",\"blue\",\"blue\",\"blue\",\"blue\",\"blue\",\"blue\",\"blue\",\"blue\",\"blue\",\"blue\",\"blue\",\"blue\",\"blue\",\"blue\",\"blue\",\"blue\",\"blue\",\"blue\",\"blue\",\"blue\",\"blue\",\"blue\",\"blue\",\"blue\",\"blue\",\"blue\",\"blue\",\"blue\",\"blue\",\"blue\",\"blue\",\"blue\",\"blue\",\"blue\",\"blue\",\"blue\",\"blue\",\"blue\",\"blue\",\"blue\",\"blue\",\"blue\",\"blue\",\"blue\",\"blue\",\"blue\",\"blue\",\"blue\",\"blue\",\"blue\",\"blue\",\"blue\",\"blue\",\"blue\",\"blue\",\"blue\",\"blue\",\"blue\",\"blue\",\"blue\",\"blue\",\"blue\",\"blue\",\"blue\",\"blue\",\"blue\",\"blue\",\"blue\",\"blue\",\"blue\",\"blue\",\"blue\",\"blue\",\"blue\",\"blue\",\"blue\",\"blue\",\"blue\",\"blue\",\"blue\",\"blue\",\"blue\",\"blue\",\"blue\",\"blue\",\"blue\",\"blue\",\"blue\",\"blue\",\"blue\",\"blue\",\"blue\",\"blue\",\"blue\",\"blue\",\"blue\",\"blue\",\"blue\",\"blue\",\"blue\",\"blue\",\"blue\",\"blue\",\"blue\",\"blue\",\"blue\",\"blue\",\"blue\",\"blue\",\"blue\",\"blue\",\"blue\",\"blue\",\"blue\",\"blue\",\"blue\",\"blue\",\"blue\",\"blue\",\"blue\",\"blue\",\"blue\",\"blue\",\"blue\",\"blue\",\"blue\",\"blue\",\"blue\",\"blue\",\"blue\",\"blue\",\"blue\",\"blue\",\"blue\",\"blue\",\"blue\",\"blue\",\"blue\",\"blue\",\"blue\",\"blue\",\"blue\",\"blue\",\"blue\",\"blue\",\"blue\",\"blue\",\"blue\",\"blue\",\"blue\",\"blue\",\"blue\",\"blue\",\"blue\",\"blue\",\"blue\",\"blue\",\"blue\",\"blue\",\"blue\",\"blue\",\"blue\",\"blue\",\"blue\",\"blue\",\"blue\",\"blue\",\"blue\",\"blue\",\"blue\",\"blue\",\"blue\",\"blue\",\"blue\",\"blue\",\"blue\",\"blue\",\"blue\",\"blue\",\"blue\",\"blue\",\"blue\",\"blue\",\"blue\",\"blue\",\"blue\",\"blue\",\"blue\",\"blue\",\"blue\",\"blue\",\"blue\",\"blue\",\"blue\",\"blue\",\"blue\",\"blue\",\"blue\",\"blue\",\"blue\",\"blue\",\"blue\",\"blue\",\"blue\",\"blue\",\"blue\",\"blue\",\"blue\",\"blue\",\"blue\",\"blue\",\"blue\",\"blue\",\"blue\",\"blue\",\"blue\",\"blue\",\"blue\",\"blue\",\"blue\",\"blue\",\"blue\",\"blue\",\"blue\",\"blue\",\"blue\",\"blue\",\"blue\",\"blue\",\"blue\",\"blue\",\"blue\",\"blue\",\"blue\",\"blue\",\"blue\",\"blue\",\"blue\",\"blue\",\"blue\",\"blue\",\"blue\",\"blue\",\"blue\",\"blue\",\"blue\",\"blue\",\"blue\",\"blue\",\"blue\",\"blue\",\"blue\",\"blue\",\"blue\",\"blue\",\"blue\",\"blue\",\"blue\",\"blue\",\"blue\",\"blue\",\"blue\",\"blue\",\"blue\",\"blue\",\"blue\",\"blue\",\"blue\",\"blue\",\"blue\",\"blue\",\"blue\",\"blue\",\"blue\",\"blue\",\"blue\",\"blue\",\"blue\",\"blue\",\"blue\",\"blue\",\"blue\",\"blue\",\"blue\",\"blue\",\"blue\",\"blue\",\"blue\",\"blue\",\"blue\",\"blue\",\"blue\",\"blue\",\"blue\",\"blue\",\"blue\",\"blue\",\"blue\",\"blue\",\"blue\",\"blue\",\"blue\",\"blue\",\"blue\",\"blue\",\"blue\",\"blue\",\"blue\",\"blue\",\"blue\",\"blue\",\"blue\",\"blue\",\"blue\",\"blue\",\"blue\",\"blue\",\"blue\",\"blue\",\"blue\",\"blue\",\"blue\",\"blue\",\"blue\",\"blue\",\"blue\",\"blue\",\"blue\",\"blue\",\"blue\",\"blue\",\"blue\",\"blue\",\"blue\",\"blue\",\"blue\",\"blue\",\"blue\",\"blue\",\"blue\",\"blue\",\"blue\",\"blue\",\"blue\",\"blue\",\"blue\",\"blue\",\"blue\",\"blue\",\"blue\",\"blue\",\"blue\",\"blue\",\"blue\",\"blue\",\"blue\",\"blue\",\"blue\",\"blue\",\"blue\",\"blue\",\"blue\",\"blue\",\"blue\",\"blue\",\"blue\",\"blue\",\"blue\",\"blue\",\"blue\",\"blue\",\"blue\",\"blue\",\"blue\",\"blue\",\"blue\",\"blue\",\"blue\",\"blue\",\"blue\",\"blue\",\"blue\",\"blue\",\"blue\",\"blue\",\"blue\",\"blue\",\"blue\",\"blue\",\"blue\",\"blue\",\"blue\",\"blue\",\"blue\",\"blue\",\"blue\",\"blue\",\"blue\",\"blue\",\"blue\",\"blue\",\"blue\",\"blue\",\"blue\",\"blue\",\"blue\",\"blue\",\"blue\",\"blue\",\"blue\",\"blue\",\"blue\",\"blue\",\"blue\",\"blue\",\"blue\",\"blue\",\"blue\",\"blue\",\"blue\",\"blue\",\"blue\",\"blue\",\"blue\",\"blue\",\"blue\",\"blue\",\"blue\",\"blue\",\"blue\",\"blue\",\"blue\",\"blue\",\"blue\",\"blue\",\"blue\",\"blue\",\"blue\",\"blue\",\"blue\",\"blue\",\"blue\",\"blue\",\"blue\",\"blue\",\"blue\",\"blue\",\"blue\",\"blue\",\"blue\",\"blue\",\"blue\",\"blue\",\"blue\",\"blue\",\"blue\",\"blue\",\"blue\",\"blue\",\"blue\",\"blue\",\"blue\",\"blue\",\"blue\",\"blue\",\"blue\",\"blue\",\"blue\",\"blue\",\"blue\",\"blue\",\"blue\",\"blue\",\"blue\",\"blue\",\"blue\",\"blue\",\"blue\",\"blue\",\"blue\",\"blue\",\"blue\",\"blue\",\"blue\",\"blue\",\"blue\",\"blue\",\"blue\",\"blue\",\"blue\",\"blue\",\"blue\",\"blue\",\"blue\",\"blue\",\"blue\",\"blue\",\"blue\",\"blue\",\"blue\",\"blue\",\"blue\",\"blue\",\"blue\",\"blue\",\"blue\",\"blue\",\"blue\",\"blue\",\"blue\",\"blue\",\"blue\",\"blue\",\"blue\",\"blue\",\"blue\",\"blue\",\"blue\",\"blue\",\"blue\",\"blue\",\"blue\",\"blue\",\"blue\",\"blue\",\"blue\",\"blue\",\"blue\",\"blue\",\"blue\",\"blue\",\"blue\",\"blue\",\"blue\",\"blue\",\"blue\",\"blue\",\"blue\",\"blue\",\"blue\",\"blue\",\"blue\",\"blue\",\"blue\",\"blue\",\"blue\",\"blue\",\"blue\",\"blue\",\"blue\",\"blue\",\"blue\",\"blue\",\"blue\",\"blue\",\"blue\",\"blue\",\"blue\",\"blue\",\"blue\",\"blue\",\"blue\",\"blue\",\"blue\",\"blue\",\"blue\",\"blue\",\"blue\",\"blue\",\"blue\",\"blue\",\"blue\",\"blue\",\"blue\",\"blue\",\"blue\",\"blue\",\"blue\",\"blue\",\"blue\",\"blue\",\"blue\",\"blue\",\"blue\",\"blue\",\"blue\",\"blue\",\"blue\",\"blue\",\"blue\",\"blue\",\"blue\",\"blue\",\"blue\",\"blue\",\"blue\",\"blue\",\"blue\",\"blue\",\"blue\",\"blue\",\"blue\",\"blue\",\"blue\",\"blue\",\"blue\",\"blue\",\"blue\",\"blue\",\"blue\",\"blue\",\"blue\",\"blue\",\"blue\",\"blue\",\"blue\",\"blue\",\"blue\",\"blue\",\"blue\",\"blue\",\"blue\",\"blue\",\"blue\",\"blue\",\"blue\",\"blue\",\"blue\",\"blue\",\"blue\",\"blue\",\"blue\",\"blue\",\"blue\",\"blue\",\"blue\",\"blue\",\"blue\",\"blue\",\"blue\",\"blue\",\"blue\",\"blue\",\"blue\",\"blue\",\"blue\",\"blue\",\"blue\",\"blue\",\"blue\",\"blue\",\"blue\",\"blue\",\"blue\",\"blue\",\"blue\",\"blue\",\"blue\",\"blue\",\"blue\",\"blue\",\"blue\",\"blue\",\"blue\",\"blue\",\"blue\",\"blue\",\"blue\",\"blue\",\"blue\",\"blue\",\"blue\",\"blue\",\"blue\",\"blue\",\"blue\",\"blue\",\"blue\",\"blue\",\"blue\",\"blue\",\"blue\",\"blue\",\"blue\",\"blue\",\"blue\",\"blue\",\"blue\",\"blue\",\"blue\",\"blue\",\"blue\",\"blue\",\"blue\",\"blue\",\"blue\",\"blue\",\"blue\",\"blue\",\"blue\",\"blue\",\"blue\",\"blue\",\"blue\",\"blue\",\"blue\",\"blue\",\"blue\",\"blue\",\"blue\",\"blue\",\"blue\",\"blue\",\"blue\",\"blue\",\"blue\",\"blue\",\"blue\",\"blue\",\"blue\",\"blue\",\"blue\",\"blue\",\"blue\",\"blue\",\"blue\",\"blue\",\"blue\",\"blue\",\"blue\",\"blue\",\"blue\",\"blue\",\"blue\",\"blue\",\"blue\",\"blue\",\"blue\",\"blue\",\"blue\",\"blue\",\"blue\",\"blue\",\"blue\",\"blue\",\"blue\",\"blue\",\"blue\",\"blue\",\"blue\",\"blue\",\"blue\",\"blue\",\"blue\",\"blue\",\"blue\",\"blue\",\"blue\",\"blue\",\"blue\",\"blue\",\"blue\",\"blue\",\"blue\",\"blue\",\"blue\",\"blue\",\"blue\",\"blue\",\"blue\",\"blue\",\"blue\",\"blue\",\"blue\",\"blue\",\"blue\",\"blue\",\"blue\",\"blue\",\"blue\",\"blue\",\"blue\",\"blue\",\"blue\",\"blue\",\"blue\",\"blue\",\"blue\",\"blue\",\"blue\",\"blue\",\"blue\",\"blue\",\"blue\",\"blue\",\"blue\",\"blue\",\"blue\",\"blue\",\"blue\",\"blue\",\"blue\",\"blue\",\"blue\",\"blue\",\"blue\",\"blue\",\"blue\",\"blue\",\"blue\",\"blue\",\"blue\",\"blue\",\"blue\",\"blue\",\"blue\",\"blue\",\"blue\",\"blue\",\"blue\",\"blue\",\"blue\",\"blue\",\"blue\",\"blue\",\"blue\",\"blue\",\"blue\",\"blue\",\"blue\",\"blue\",\"blue\",\"blue\",\"blue\",\"blue\",\"blue\",\"blue\",\"blue\",\"blue\",\"blue\",\"blue\",\"blue\",\"blue\",\"blue\",\"blue\",\"blue\",\"blue\",\"blue\",\"blue\",\"blue\",\"blue\",\"blue\",\"blue\",\"blue\",\"blue\",\"blue\",\"blue\",\"blue\",\"blue\",\"blue\",\"blue\",\"blue\",\"blue\",\"blue\",\"blue\",\"blue\",\"blue\",\"blue\",\"blue\",\"blue\",\"blue\",\"blue\",\"blue\",\"blue\",\"blue\",\"blue\",\"blue\",\"blue\",\"blue\",\"blue\",\"blue\",\"blue\",\"blue\",\"blue\",\"blue\",\"blue\",\"blue\",\"blue\",\"blue\",\"blue\",\"blue\",\"blue\",\"blue\",\"blue\",\"blue\",\"blue\",\"blue\",\"blue\",\"blue\",\"blue\",\"blue\",\"blue\",\"blue\",\"blue\",\"blue\",\"blue\",\"blue\",\"blue\",\"blue\",\"blue\",\"blue\",\"blue\",\"blue\",\"blue\",\"blue\",\"blue\",\"blue\",\"blue\",\"blue\",\"blue\",\"blue\",\"blue\",\"blue\",\"blue\",\"blue\",\"blue\",\"blue\",\"blue\",\"blue\",\"blue\",\"blue\",\"blue\",\"blue\",\"blue\",\"blue\",\"blue\",\"blue\",\"blue\",\"blue\",\"blue\",\"blue\",\"blue\",\"blue\",\"blue\",\"blue\",\"blue\",\"blue\",\"blue\",\"blue\",\"blue\",\"blue\",\"blue\",\"blue\",\"blue\",\"blue\",\"blue\",\"blue\",\"blue\",\"blue\",\"blue\",\"blue\",\"blue\",\"blue\",\"blue\",\"blue\",\"blue\",\"blue\",\"blue\",\"blue\",\"blue\",\"blue\",\"blue\",\"blue\",\"blue\",\"blue\",\"blue\",\"blue\",\"blue\",\"blue\",\"blue\",\"blue\",\"blue\",\"blue\",\"blue\",\"blue\",\"blue\",\"blue\",\"blue\",\"blue\",\"blue\",\"blue\",\"blue\",\"blue\",\"blue\",\"blue\",\"blue\",\"blue\",\"blue\",\"blue\",\"blue\",\"blue\",\"blue\",\"blue\",\"blue\",\"blue\",\"blue\",\"blue\",\"blue\",\"blue\",\"blue\",\"blue\",\"blue\",\"blue\",\"blue\",\"blue\",\"blue\",\"blue\",\"blue\",\"blue\",\"blue\",\"blue\",\"blue\",\"blue\",\"blue\",\"blue\",\"blue\",\"blue\",\"blue\",\"blue\",\"blue\",\"blue\",\"blue\",\"blue\",\"blue\",\"blue\",\"blue\",\"blue\",\"blue\",\"blue\",\"blue\",\"blue\",\"blue\",\"blue\",\"blue\",\"blue\",\"blue\",\"blue\",\"blue\",\"blue\",\"blue\",\"blue\",\"blue\",\"blue\",\"blue\",\"blue\",\"blue\",\"blue\",\"blue\",\"blue\",\"blue\",\"blue\",\"blue\",\"blue\",\"blue\",\"blue\",\"blue\",\"blue\",\"blue\",\"blue\",\"blue\",\"blue\",\"blue\",\"blue\",\"blue\",\"blue\",\"blue\",\"blue\",\"blue\",\"blue\",\"blue\",\"blue\",\"blue\",\"blue\",\"blue\",\"blue\",\"blue\",\"blue\",\"blue\",\"blue\",\"blue\",\"blue\",\"blue\",\"blue\",\"blue\",\"blue\",\"blue\",\"blue\",\"blue\",\"blue\",\"blue\",\"blue\",\"blue\",\"blue\",\"blue\",\"blue\",\"blue\",\"blue\",\"blue\",\"blue\",\"blue\",\"blue\",\"blue\",\"blue\",\"blue\",\"blue\",\"blue\",\"blue\",\"blue\",\"blue\",\"blue\",\"blue\",\"blue\",\"blue\",\"blue\",\"blue\",\"blue\",\"blue\",\"blue\",\"blue\",\"blue\",\"blue\",\"blue\",\"blue\",\"blue\",\"blue\",\"blue\",\"blue\",\"blue\",\"blue\",\"blue\",\"blue\",\"blue\",\"blue\",\"blue\",\"blue\",\"blue\",\"blue\",\"blue\",\"blue\",\"blue\",\"blue\",\"blue\",\"blue\",\"blue\",\"blue\",\"blue\",\"blue\",\"blue\",\"blue\",\"blue\",\"blue\",\"blue\",\"blue\",\"blue\",\"blue\",\"blue\",\"blue\",\"blue\",\"blue\",\"blue\",\"blue\",\"blue\",\"blue\",\"blue\",\"blue\",\"blue\",\"blue\",\"blue\",\"blue\",\"blue\",\"blue\",\"blue\",\"blue\",\"blue\",\"blue\",\"blue\",\"blue\",\"blue\",\"blue\",\"blue\",\"blue\",\"blue\",\"blue\",\"blue\",\"blue\",\"blue\",\"blue\",\"blue\",\"blue\",\"blue\",\"blue\",\"blue\",\"blue\",\"blue\",\"blue\",\"blue\",\"blue\",\"blue\",\"blue\",\"blue\",\"blue\",\"blue\",\"blue\",\"blue\",\"blue\",\"blue\",\"blue\",\"blue\",\"blue\",\"blue\",\"blue\",\"blue\",\"blue\",\"blue\",\"blue\",\"blue\",\"blue\",\"blue\",\"blue\",\"blue\",\"blue\",\"blue\",\"blue\",\"blue\",\"blue\",\"blue\",\"blue\",\"blue\",\"blue\",\"blue\",\"blue\",\"blue\",\"blue\",\"blue\",\"blue\",\"blue\",\"blue\",\"blue\",\"blue\",\"blue\",\"blue\",\"blue\",\"blue\",\"blue\",\"blue\",\"blue\",\"blue\",\"blue\",\"blue\",\"blue\",\"blue\",\"blue\",\"blue\",\"blue\",\"blue\",\"blue\",\"blue\",\"blue\",\"blue\",\"blue\",\"blue\",\"blue\",\"blue\",\"blue\",\"blue\",\"blue\",\"blue\",\"blue\",\"blue\",\"blue\",\"blue\",\"blue\",\"blue\",\"blue\",\"blue\",\"blue\",\"blue\",\"blue\",\"blue\",\"blue\",\"blue\",\"blue\",\"blue\",\"blue\",\"blue\",\"blue\",\"blue\",\"blue\",\"blue\",\"blue\",\"blue\",\"blue\",\"blue\",\"blue\",\"blue\",\"blue\",\"blue\",\"blue\",\"blue\",\"blue\",\"blue\",\"blue\",\"blue\",\"blue\",\"blue\",\"blue\",\"blue\",\"blue\",\"blue\",\"blue\",\"blue\",\"blue\",\"blue\",\"blue\",\"blue\",\"blue\",\"blue\",\"blue\",\"blue\",\"blue\",\"blue\",\"blue\",\"blue\",\"blue\",\"blue\",\"blue\",\"blue\",\"blue\",\"blue\",\"blue\",\"blue\",\"blue\",\"blue\",\"blue\",\"blue\",\"blue\",\"blue\",\"blue\",\"blue\",\"blue\",\"blue\",\"blue\",\"blue\",\"blue\",\"blue\",\"blue\",\"blue\",\"blue\",\"blue\",\"blue\",\"blue\",\"blue\",\"blue\",\"blue\",\"blue\",\"blue\",\"blue\",\"blue\",\"blue\",\"blue\",\"blue\",\"blue\",\"blue\",\"blue\",\"blue\",\"blue\",\"blue\",\"blue\",\"blue\",\"blue\",\"blue\",\"blue\",\"blue\",\"blue\",\"blue\",\"blue\",\"blue\",\"blue\",\"blue\",\"blue\",\"blue\",\"blue\",\"blue\",\"blue\",\"blue\",\"blue\",\"blue\",\"blue\",\"blue\",\"blue\",\"blue\",\"blue\",\"blue\",\"blue\",\"blue\",\"blue\",\"blue\",\"blue\",\"blue\",\"blue\",\"blue\",\"blue\",\"blue\",\"blue\",\"blue\",\"blue\",\"blue\",\"blue\",\"blue\",\"blue\",\"blue\",\"blue\",\"blue\",\"blue\",\"blue\",\"blue\",\"blue\",\"blue\",\"blue\",\"blue\",\"blue\",\"blue\",\"blue\",\"blue\",\"blue\",\"blue\",\"blue\",\"blue\",\"blue\",\"blue\",\"blue\",\"blue\",\"blue\",\"blue\",\"blue\",\"blue\",\"blue\",\"blue\",\"blue\",\"blue\",\"blue\",\"blue\",\"blue\",\"blue\",\"blue\",\"blue\",\"blue\",\"blue\",\"blue\",\"blue\",\"blue\",\"blue\",\"blue\",\"blue\",\"blue\",\"blue\",\"blue\",\"blue\",\"blue\",\"blue\",\"blue\",\"blue\",\"blue\",\"blue\",\"blue\",\"blue\",\"blue\",\"blue\",\"blue\",\"blue\",\"blue\",\"blue\",\"blue\",\"blue\",\"blue\",\"blue\",\"blue\",\"blue\",\"blue\",\"blue\",\"blue\",\"blue\",\"blue\",\"blue\",\"blue\",\"blue\",\"blue\",\"blue\",\"blue\",\"blue\",\"blue\",\"blue\",\"blue\",\"blue\",\"blue\",\"blue\",\"blue\",\"blue\",\"blue\",\"blue\",\"blue\",\"blue\",\"blue\",\"blue\",\"blue\",\"blue\",\"blue\",\"blue\",\"blue\",\"blue\",\"blue\",\"blue\",\"blue\",\"blue\",\"blue\",\"blue\",\"blue\",\"blue\",\"blue\",\"blue\",\"blue\",\"blue\",\"blue\",\"blue\",\"blue\",\"blue\",\"blue\",\"blue\",\"blue\",\"blue\",\"blue\",\"blue\",\"blue\",\"blue\",\"blue\",\"blue\",\"blue\",\"blue\",\"blue\",\"blue\",\"blue\",\"blue\",\"blue\",\"blue\",\"blue\",\"blue\",\"blue\",\"blue\",\"blue\",\"blue\",\"blue\",\"blue\",\"blue\",\"blue\",\"blue\",\"blue\",\"blue\",\"blue\",\"blue\",\"blue\",\"blue\",\"blue\",\"blue\",\"blue\",\"blue\",\"blue\",\"blue\",\"blue\",\"blue\",\"blue\",\"blue\",\"blue\",\"blue\",\"blue\",\"blue\",\"blue\",\"blue\",\"blue\",\"blue\",\"blue\",\"blue\",\"blue\",\"blue\",\"blue\",\"blue\",\"blue\",\"blue\",\"blue\",\"blue\",\"blue\",\"blue\",\"blue\",\"blue\",\"blue\",\"blue\",\"blue\",\"blue\",\"blue\",\"blue\",\"blue\",\"blue\",\"blue\",\"blue\",\"blue\",\"blue\",\"blue\",\"blue\",\"blue\",\"blue\",\"blue\",\"blue\",\"blue\",\"blue\",\"blue\",\"blue\",\"blue\",\"blue\",\"blue\",\"blue\",\"blue\",\"blue\",\"blue\",\"blue\",\"blue\",\"blue\",\"blue\",\"blue\",\"blue\",\"blue\",\"blue\",\"blue\",\"blue\",\"blue\",\"blue\",\"blue\",\"blue\",\"blue\",\"blue\",\"blue\",\"blue\",\"blue\",\"blue\",\"blue\",\"blue\",\"blue\",\"blue\",\"blue\",\"blue\",\"blue\",\"blue\",\"blue\",\"blue\",\"blue\",\"blue\",\"blue\",\"blue\",\"blue\",\"blue\",\"blue\",\"blue\",\"blue\",\"blue\",\"blue\",\"blue\",\"blue\",\"blue\",\"blue\",\"blue\",\"blue\",\"blue\",\"blue\",\"blue\",\"blue\",\"blue\",\"blue\",\"blue\",\"blue\",\"blue\",\"blue\",\"blue\",\"blue\",\"blue\",\"blue\",\"blue\",\"blue\",\"blue\",\"blue\",\"blue\",\"blue\",\"blue\",\"blue\",\"blue\",\"blue\",\"blue\",\"blue\",\"blue\",\"blue\",\"blue\",\"blue\",\"blue\",\"blue\",\"blue\",\"blue\",\"blue\",\"blue\",\"blue\",\"blue\",\"blue\",\"blue\",\"blue\",\"blue\",\"blue\",\"blue\",\"blue\",\"blue\",\"blue\",\"blue\",\"blue\",\"blue\",\"blue\",\"blue\",\"blue\",\"blue\",\"blue\",\"blue\",\"blue\",\"blue\",\"blue\",\"blue\",\"blue\",\"blue\",\"blue\",\"blue\",\"blue\",\"blue\",\"blue\",\"blue\",\"blue\",\"blue\",\"blue\",\"blue\",\"blue\",\"blue\",\"blue\",\"blue\",\"blue\",\"blue\",\"blue\",\"blue\",\"blue\",\"blue\",\"blue\",\"blue\",\"blue\",\"blue\",\"blue\",\"blue\",\"blue\",\"blue\",\"blue\",\"blue\",\"blue\",\"blue\",\"blue\",\"blue\",\"blue\",\"blue\",\"blue\",\"blue\",\"blue\",\"blue\",\"blue\",\"blue\",\"blue\",\"blue\",\"blue\",\"blue\",\"blue\",\"blue\",\"blue\",\"blue\",\"blue\",\"blue\",\"blue\",\"blue\",\"blue\",\"blue\",\"blue\",\"blue\",\"blue\",\"blue\",\"blue\",\"blue\",\"blue\",\"blue\",\"blue\",\"blue\",\"blue\",\"blue\",\"blue\",\"blue\",\"blue\",\"blue\",\"blue\",\"blue\",\"blue\",\"blue\",\"blue\",\"blue\",\"blue\",\"blue\",\"blue\",\"blue\",\"blue\",\"blue\",\"blue\",\"blue\",\"blue\",\"blue\",\"blue\",\"blue\",\"blue\",\"blue\",\"blue\",\"blue\",\"blue\",\"blue\",\"blue\",\"blue\",\"blue\",\"blue\",\"blue\",\"blue\",\"blue\",\"blue\",\"blue\",\"blue\",\"blue\",\"blue\",\"blue\",\"blue\",\"blue\",\"blue\",\"blue\",\"blue\",\"blue\",\"blue\",\"blue\",\"blue\",\"blue\",\"blue\",\"blue\",\"blue\",\"blue\",\"blue\",\"blue\",\"blue\",\"blue\",\"blue\",\"blue\",\"blue\",\"blue\",\"blue\",\"blue\",\"blue\",\"blue\",\"blue\",\"blue\",\"blue\",\"blue\",\"blue\",\"blue\",\"blue\",\"blue\",\"blue\",\"blue\",\"blue\",\"blue\",\"blue\",\"blue\",\"blue\",\"blue\",\"blue\",\"blue\",\"blue\",\"blue\",\"blue\",\"blue\",\"blue\",\"blue\",\"blue\",\"blue\",\"blue\",\"blue\",\"blue\",\"blue\",\"blue\",\"blue\",\"blue\",\"blue\",\"blue\",\"blue\",\"blue\",\"blue\",\"blue\",\"blue\",\"blue\",\"blue\",\"blue\",\"blue\",\"blue\",\"blue\",\"blue\",\"blue\",\"blue\",\"blue\",\"blue\",\"blue\",\"blue\",\"blue\",\"blue\",\"blue\",\"blue\",\"blue\",\"blue\",\"blue\",\"blue\",\"blue\",\"blue\",\"blue\",\"blue\",\"blue\",\"blue\",\"blue\",\"blue\",\"blue\",\"blue\",\"blue\",\"blue\",\"blue\",\"blue\",\"blue\",\"blue\",\"blue\",\"blue\",\"blue\",\"blue\",\"blue\",\"blue\",\"blue\",\"blue\",\"blue\",\"blue\",\"blue\",\"blue\",\"blue\",\"blue\",\"blue\",\"blue\",\"blue\",\"blue\",\"blue\",\"blue\",\"blue\",\"blue\",\"blue\",\"blue\",\"blue\",\"blue\",\"blue\",\"blue\",\"blue\",\"blue\",\"blue\",\"blue\",\"blue\",\"blue\",\"blue\",\"blue\",\"blue\",\"blue\",\"blue\",\"blue\",\"blue\",\"blue\",\"blue\",\"blue\",\"blue\",\"blue\",\"blue\",\"blue\",\"blue\",\"blue\",\"blue\",\"blue\",\"blue\",\"blue\",\"blue\",\"blue\",\"blue\",\"blue\",\"blue\",\"blue\",\"blue\",\"blue\",\"blue\",\"blue\",\"blue\",\"blue\",\"blue\",\"blue\",\"blue\",\"blue\",\"blue\",\"blue\",\"blue\",\"blue\",\"blue\",\"blue\",\"blue\",\"blue\",\"blue\",\"blue\",\"blue\",\"blue\",\"blue\",\"blue\",\"blue\",\"blue\",\"blue\",\"blue\",\"blue\",\"blue\",\"blue\",\"blue\",\"blue\",\"blue\",\"blue\",\"blue\",\"blue\",\"blue\",\"blue\",\"blue\",\"blue\",\"blue\",\"blue\",\"blue\",\"blue\",\"blue\",\"blue\",\"blue\",\"blue\",\"blue\",\"blue\",\"blue\",\"blue\",\"blue\",\"blue\",\"blue\",\"blue\",\"blue\",\"blue\",\"blue\",\"blue\",\"blue\",\"blue\",\"blue\",\"blue\",\"blue\",\"blue\",\"blue\",\"blue\",\"blue\",\"blue\",\"blue\",\"blue\",\"blue\",\"blue\",\"blue\",\"blue\",\"blue\",\"blue\",\"blue\",\"blue\",\"blue\",\"blue\",\"blue\",\"blue\",\"blue\",\"blue\",\"blue\",\"blue\",\"blue\",\"blue\",\"blue\",\"blue\",\"blue\",\"blue\",\"blue\",\"blue\",\"blue\",\"blue\",\"blue\",\"blue\",\"blue\",\"blue\",\"blue\",\"blue\",\"blue\",\"blue\",\"blue\",\"blue\",\"blue\",\"blue\",\"blue\",\"blue\",\"blue\",\"blue\",\"blue\",\"blue\",\"blue\",\"blue\",\"blue\",\"blue\",\"blue\",\"blue\",\"blue\",\"blue\",\"blue\",\"blue\",\"blue\",\"blue\",\"blue\",\"blue\",\"blue\",\"blue\",\"blue\",\"blue\",\"blue\",\"blue\",\"blue\",\"blue\",\"blue\",\"blue\",\"blue\",\"blue\",\"blue\",\"blue\",\"blue\",\"blue\",\"blue\",\"blue\",\"blue\",\"blue\",\"blue\",\"blue\",\"blue\",\"blue\",\"blue\",\"blue\",\"blue\",\"blue\",\"blue\",\"blue\",\"blue\",\"blue\",\"blue\",\"blue\",\"blue\",\"blue\",\"blue\",\"blue\",\"blue\",\"blue\",\"blue\",\"blue\",\"blue\",\"blue\",\"blue\",\"blue\",\"blue\",\"blue\",\"blue\",\"blue\",\"blue\",\"blue\",\"blue\",\"blue\",\"blue\",\"blue\",\"blue\",\"blue\",\"blue\",\"blue\",\"blue\",\"blue\",\"blue\",\"blue\",\"blue\",\"blue\",\"blue\",\"blue\",\"blue\",\"blue\",\"blue\",\"blue\",\"blue\",\"blue\",\"blue\",\"blue\",\"blue\",\"blue\",\"blue\",\"blue\",\"blue\",\"blue\",\"blue\",\"blue\",\"blue\",\"blue\",\"blue\",\"blue\",\"blue\",\"blue\",\"blue\",\"blue\",\"blue\",\"blue\",\"blue\",\"blue\",\"blue\",\"blue\",\"blue\",\"blue\",\"blue\",\"blue\",\"blue\",\"blue\",\"blue\",\"blue\",\"blue\",\"blue\",\"blue\",\"blue\",\"blue\",\"blue\",\"blue\",\"blue\",\"blue\",\"blue\",\"blue\",\"blue\",\"blue\",\"blue\",\"blue\",\"blue\",\"blue\",\"blue\",\"blue\",\"blue\",\"blue\",\"blue\",\"blue\",\"blue\",\"blue\",\"blue\",\"blue\",\"blue\",\"blue\",\"blue\",\"blue\",\"blue\",\"blue\",\"blue\",\"blue\",\"blue\",\"blue\",\"blue\",\"blue\",\"blue\",\"blue\",\"blue\",\"blue\",\"blue\",\"blue\",\"blue\",\"blue\",\"blue\",\"blue\",\"blue\",\"blue\",\"blue\",\"blue\",\"blue\",\"blue\",\"blue\",\"blue\",\"blue\",\"blue\",\"blue\",\"blue\",\"blue\",\"blue\",\"blue\",\"blue\",\"blue\",\"blue\",\"blue\",\"blue\",\"blue\",\"blue\",\"blue\",\"blue\",\"blue\",\"blue\",\"blue\",\"blue\",\"blue\",\"blue\",\"blue\",\"blue\",\"blue\",\"blue\",\"blue\",\"blue\",\"blue\",\"blue\",\"blue\",\"blue\",\"blue\",\"blue\",\"blue\",\"blue\",\"blue\",\"blue\",\"blue\",\"blue\",\"blue\",\"blue\",\"blue\",\"blue\",\"blue\",\"blue\",\"blue\",\"blue\",\"blue\",\"blue\",\"blue\",\"blue\",\"blue\",\"blue\",\"blue\",\"blue\",\"blue\",\"blue\",\"blue\",\"blue\",\"blue\",\"blue\",\"blue\",\"blue\",\"blue\",\"blue\",\"blue\",\"blue\",\"blue\",\"blue\",\"blue\",\"blue\",\"blue\",\"blue\",\"blue\",\"blue\",\"blue\",\"blue\",\"blue\",\"blue\",\"blue\",\"blue\",\"blue\",\"blue\",\"blue\",\"blue\",\"blue\",\"blue\",\"blue\",\"blue\",\"blue\",\"blue\",\"blue\",\"blue\",\"blue\",\"blue\",\"blue\",\"blue\",\"blue\",\"blue\",\"blue\",\"blue\",\"blue\",\"blue\",\"blue\",\"blue\",\"blue\",\"blue\",\"blue\",\"blue\",\"blue\",\"blue\",\"blue\",\"blue\",\"blue\",\"blue\",\"blue\",\"blue\",\"blue\",\"blue\",\"blue\",\"blue\",\"blue\",\"blue\",\"blue\",\"blue\",\"blue\",\"blue\",\"blue\",\"blue\",\"blue\",\"blue\",\"blue\",\"blue\",\"blue\",\"blue\",\"blue\",\"blue\",\"blue\",\"blue\",\"blue\",\"blue\",\"blue\",\"blue\",\"blue\",\"blue\",\"blue\",\"blue\",\"blue\",\"blue\",\"blue\",\"blue\",\"blue\",\"blue\",\"blue\",\"blue\",\"blue\",\"blue\",\"blue\",\"blue\",\"blue\",\"blue\",\"blue\",\"blue\",\"blue\",\"blue\",\"blue\",\"blue\",\"blue\",\"blue\",\"blue\",\"blue\",\"blue\",\"blue\",\"blue\",\"blue\",\"blue\",\"blue\",\"blue\",\"blue\",\"blue\",\"blue\",\"blue\",\"blue\",\"blue\",\"blue\",\"blue\",\"blue\",\"blue\",\"blue\",\"blue\",\"blue\",\"blue\",\"blue\",\"blue\",\"blue\",\"blue\",\"blue\",\"blue\",\"blue\",\"blue\",\"blue\",\"blue\",\"blue\",\"blue\",\"blue\",\"blue\",\"blue\",\"blue\",\"blue\",\"blue\",\"blue\",\"blue\",\"blue\",\"blue\",\"blue\",\"blue\",\"blue\",\"blue\",\"blue\",\"blue\",\"blue\",\"blue\",\"blue\",\"blue\",\"blue\",\"blue\",\"blue\",\"blue\",\"blue\",\"blue\",\"blue\",\"blue\",\"blue\",\"blue\",\"blue\",\"blue\",\"blue\",\"blue\",\"blue\",\"blue\",\"blue\",\"blue\",\"blue\",\"blue\",\"blue\",\"blue\",\"blue\",\"blue\",\"blue\",\"blue\",\"blue\",\"blue\",\"blue\",\"blue\",\"blue\",\"blue\",\"blue\",\"blue\",\"blue\",\"blue\",\"blue\",\"blue\",\"blue\",\"blue\",\"blue\",\"blue\",\"blue\",\"blue\",\"blue\",\"blue\",\"blue\",\"blue\",\"blue\",\"blue\",\"blue\",\"blue\",\"blue\",\"blue\",\"blue\",\"blue\",\"blue\",\"blue\",\"blue\",\"blue\",\"blue\",\"blue\",\"blue\",\"blue\",\"blue\",\"blue\",\"blue\",\"blue\",\"blue\",\"blue\",\"blue\",\"blue\",\"blue\",\"blue\",\"blue\",\"blue\",\"blue\",\"blue\",\"blue\",\"blue\",\"blue\",\"blue\",\"blue\",\"blue\",\"blue\",\"blue\",\"blue\",\"blue\",\"blue\",\"blue\",\"blue\",\"blue\",\"blue\",\"blue\",\"blue\",\"blue\",\"blue\",\"blue\",\"blue\",\"blue\",\"blue\",\"blue\",\"blue\",\"blue\",\"blue\",\"blue\",\"blue\",\"blue\",\"blue\",\"blue\",\"blue\",\"blue\",\"blue\",\"blue\",\"blue\",\"blue\",\"blue\",\"blue\",\"blue\",\"blue\",\"blue\",\"blue\",\"blue\",\"blue\",\"blue\",\"blue\",\"blue\",\"blue\",\"blue\",\"blue\",\"blue\",\"blue\",\"blue\",\"blue\",\"blue\",\"blue\",\"blue\",\"blue\",\"blue\",\"blue\",\"blue\",\"blue\",\"blue\",\"blue\",\"blue\",\"blue\",\"blue\",\"blue\",\"blue\",\"blue\",\"blue\",\"blue\",\"blue\",\"blue\",\"blue\",\"blue\",\"blue\",\"blue\",\"blue\",\"blue\",\"blue\",\"blue\",\"blue\",\"blue\",\"blue\",\"blue\",\"blue\",\"blue\",\"blue\",\"blue\",\"blue\",\"blue\",\"blue\",\"blue\",\"blue\",\"blue\",\"blue\",\"blue\",\"blue\",\"blue\",\"blue\",\"blue\",\"blue\",\"blue\",\"blue\",\"blue\",\"blue\",\"blue\",\"blue\",\"blue\",\"blue\",\"blue\",\"blue\",\"blue\",\"blue\",\"blue\",\"blue\",\"blue\",\"blue\",\"blue\",\"blue\",\"blue\",\"blue\",\"blue\",\"blue\",\"blue\",\"blue\",\"blue\",\"blue\",\"blue\",\"blue\",\"blue\",\"blue\",\"blue\",\"blue\",\"blue\",\"blue\",\"blue\",\"blue\",\"blue\",\"blue\",\"blue\",\"blue\",\"blue\",\"blue\",\"blue\",\"blue\",\"blue\",\"blue\",\"blue\",\"blue\",\"blue\",\"blue\",\"blue\",\"blue\",\"blue\",\"blue\",\"blue\",\"blue\",\"blue\",\"blue\",\"blue\",\"blue\",\"blue\",\"blue\",\"blue\",\"blue\",\"blue\",\"blue\",\"blue\",\"blue\",\"blue\",\"blue\",\"blue\",\"blue\",\"blue\",\"blue\",\"blue\",\"blue\",\"blue\",\"blue\",\"blue\",\"blue\",\"blue\",\"blue\",\"blue\",\"blue\",\"blue\",\"blue\",\"blue\",\"blue\",\"blue\",\"blue\",\"blue\",\"blue\",\"blue\",\"blue\",\"blue\",\"blue\",\"blue\",\"blue\",\"blue\",\"blue\",\"blue\",\"blue\",\"blue\",\"blue\",\"blue\",\"blue\",\"blue\",\"blue\",\"blue\",\"blue\",\"blue\",\"blue\",\"blue\",\"blue\",\"blue\",\"blue\",\"blue\",\"blue\",\"blue\",\"blue\",\"blue\",\"blue\",\"blue\",\"blue\",\"blue\",\"blue\",\"blue\",\"blue\",\"blue\",\"blue\",\"blue\",\"blue\",\"blue\",\"blue\",\"blue\",\"blue\",\"blue\",\"blue\",\"blue\",\"blue\",\"blue\",\"blue\",\"blue\",\"blue\",\"blue\",\"blue\",\"blue\",\"blue\",\"blue\",\"blue\",\"blue\",\"blue\",\"blue\",\"blue\",\"blue\",\"blue\",\"blue\",\"blue\",\"blue\",\"blue\",\"blue\",\"blue\",\"blue\",\"blue\",\"blue\",\"blue\",\"blue\",\"blue\",\"blue\",\"blue\",\"blue\",\"blue\",\"blue\",\"blue\",\"blue\",\"blue\",\"blue\",\"blue\",\"blue\",\"blue\",\"blue\",\"blue\",\"blue\",\"blue\",\"blue\",\"blue\",\"blue\",\"blue\",\"blue\",\"blue\",\"blue\",\"blue\",\"blue\",\"blue\",\"blue\",\"blue\",\"blue\",\"blue\",\"blue\",\"blue\",\"blue\",\"blue\",\"blue\",\"blue\",\"blue\",\"blue\",\"blue\",\"blue\",\"blue\",\"blue\",\"blue\",\"blue\",\"blue\",\"blue\",\"blue\",\"blue\",\"blue\",\"blue\",\"blue\",\"blue\",\"blue\",\"blue\",\"blue\",\"blue\",\"blue\",\"blue\",\"blue\",\"blue\",\"blue\",\"blue\",\"blue\",\"blue\",\"blue\",\"blue\",\"blue\",\"blue\",\"blue\",\"blue\",\"blue\",\"blue\",\"blue\",\"blue\",\"blue\",\"blue\",\"blue\",\"blue\",\"blue\",\"blue\",\"blue\",\"blue\",\"blue\",\"blue\",\"blue\",\"blue\",\"blue\",\"blue\",\"blue\",\"blue\",\"blue\",\"blue\",\"blue\",\"blue\",\"blue\",\"blue\",\"blue\",\"blue\",\"blue\",\"blue\",\"blue\",\"blue\",\"blue\",\"blue\",\"blue\",\"blue\",\"blue\",\"blue\",\"blue\",\"blue\",\"blue\",\"blue\",\"blue\",\"blue\",\"blue\",\"blue\",\"blue\",\"blue\",\"blue\",\"blue\",\"blue\",\"blue\",\"blue\",\"blue\",\"blue\",\"blue\",\"blue\",\"blue\",\"blue\",\"blue\",\"blue\",\"blue\",\"blue\",\"blue\",\"blue\",\"blue\",\"blue\",\"blue\",\"blue\",\"blue\",\"blue\",\"blue\",\"blue\",\"blue\",\"blue\",\"blue\",\"blue\",\"blue\",\"blue\",\"blue\",\"blue\",\"blue\",\"blue\",\"blue\",\"blue\",\"blue\",\"blue\",\"blue\",\"blue\",\"blue\",\"blue\",\"blue\",\"blue\",\"blue\",\"blue\",\"blue\",\"blue\",\"blue\",\"blue\",\"blue\",\"blue\",\"blue\",\"blue\",\"blue\",\"blue\",\"blue\",\"blue\",\"blue\",\"blue\",\"blue\",\"blue\",\"blue\",\"blue\",\"blue\",\"blue\",\"blue\",\"blue\",\"blue\",\"blue\",\"blue\",\"blue\",\"blue\",\"blue\",\"blue\",\"blue\",\"blue\",\"blue\",\"blue\",\"blue\",\"blue\",\"blue\",\"blue\",\"blue\",\"blue\",\"blue\",\"blue\",\"blue\",\"blue\",\"blue\",\"blue\",\"blue\",\"blue\",\"blue\",\"blue\",\"blue\",\"blue\",\"blue\",\"blue\",\"blue\",\"blue\",\"blue\",\"blue\",\"blue\",\"blue\",\"blue\",\"blue\",\"blue\",\"blue\",\"blue\",\"blue\",\"blue\",\"blue\",\"blue\",\"blue\",\"blue\",\"blue\",\"blue\",\"blue\",\"blue\",\"blue\",\"blue\",\"blue\",\"blue\",\"blue\",\"blue\",\"blue\",\"blue\",\"blue\",\"blue\",\"blue\",\"blue\",\"blue\",\"blue\",\"blue\",\"blue\",\"blue\",\"blue\",\"blue\",\"blue\",\"blue\",\"blue\",\"blue\",\"blue\",\"blue\",\"blue\",\"blue\",\"blue\",\"blue\",\"blue\",\"blue\",\"blue\",\"blue\",\"blue\",\"blue\",\"blue\",\"blue\",\"blue\",\"blue\",\"blue\",\"blue\",\"blue\",\"blue\",\"blue\",\"blue\",\"blue\",\"blue\",\"blue\",\"blue\",\"blue\",\"blue\",\"blue\",\"blue\",\"blue\",\"blue\",\"blue\",\"blue\",\"blue\",\"blue\",\"blue\",\"blue\",\"blue\",\"blue\",\"blue\",\"blue\",\"blue\",\"blue\",\"blue\",\"blue\",\"blue\",\"blue\",\"blue\",\"blue\",\"blue\",\"blue\",\"blue\",\"blue\",\"blue\",\"blue\",\"blue\",\"blue\",\"blue\",\"blue\",\"blue\",\"blue\",\"blue\",\"blue\",\"blue\",\"blue\",\"blue\",\"blue\",\"blue\",\"blue\",\"blue\",\"blue\",\"blue\",\"blue\",\"blue\",\"blue\",\"blue\",\"blue\",\"blue\",\"blue\",\"blue\",\"blue\",\"blue\",\"blue\",\"blue\",\"blue\",\"blue\",\"blue\",\"blue\",\"blue\",\"blue\",\"blue\",\"blue\",\"blue\",\"blue\",\"blue\",\"blue\",\"blue\",\"blue\",\"blue\",\"blue\",\"blue\",\"blue\",\"blue\",\"blue\",\"blue\",\"blue\",\"blue\",\"blue\",\"blue\",\"blue\",\"blue\",\"blue\",\"blue\",\"blue\",\"blue\",\"blue\",\"blue\",\"blue\",\"blue\",\"blue\",\"blue\",\"blue\",\"blue\",\"blue\",\"blue\",\"blue\",\"blue\",\"blue\",\"blue\",\"blue\",\"blue\",\"blue\",\"blue\",\"blue\",\"blue\",\"blue\",\"blue\",\"blue\",\"blue\",\"blue\",\"blue\",\"blue\",\"blue\",\"blue\",\"blue\",\"blue\",\"blue\",\"blue\",\"blue\",\"blue\",\"blue\",\"blue\",\"blue\",\"blue\",\"blue\",\"blue\",\"blue\",\"blue\",\"blue\",\"blue\",\"blue\",\"blue\",\"blue\",\"blue\",\"blue\",\"blue\",\"blue\",\"blue\",\"blue\",\"blue\",\"blue\",\"blue\",\"blue\",\"blue\",\"blue\",\"blue\",\"blue\",\"blue\",\"blue\",\"blue\",\"blue\",\"blue\",\"blue\",\"blue\",\"blue\",\"blue\",\"blue\",\"blue\",\"blue\",\"blue\",\"blue\",\"blue\",\"blue\",\"blue\",\"blue\",\"blue\",\"blue\",\"blue\",\"blue\",\"blue\",\"blue\",\"blue\",\"blue\",\"blue\",\"blue\",\"blue\",\"blue\",\"blue\",\"blue\",\"blue\",\"blue\",\"blue\",\"blue\",\"blue\",\"blue\",\"blue\",\"blue\",\"blue\",\"blue\",\"blue\",\"blue\",\"blue\",\"blue\",\"blue\",\"blue\",\"blue\",\"blue\",\"blue\",\"blue\",\"blue\",\"blue\",\"blue\",\"blue\",\"blue\",\"blue\",\"blue\",\"blue\",\"blue\",\"blue\",\"blue\",\"blue\",\"blue\",\"blue\",\"blue\",\"blue\",\"blue\",\"blue\",\"blue\",\"blue\",\"blue\",\"blue\",\"blue\",\"blue\",\"blue\",\"blue\",\"blue\",\"blue\",\"blue\",\"blue\",\"blue\",\"blue\",\"blue\",\"blue\",\"blue\",\"blue\",\"blue\",\"blue\",\"blue\",\"blue\",\"blue\",\"blue\",\"blue\",\"blue\",\"blue\",\"blue\",\"blue\",\"blue\",\"blue\",\"blue\",\"blue\",\"blue\",\"blue\",\"blue\",\"blue\",\"blue\",\"blue\",\"blue\",\"blue\",\"blue\",\"blue\",\"blue\",\"blue\",\"blue\",\"blue\",\"blue\",\"blue\",\"blue\",\"blue\",\"blue\",\"blue\",\"blue\",\"blue\",\"blue\",\"blue\",\"blue\",\"blue\",\"blue\",\"blue\",\"blue\",\"blue\",\"blue\",\"blue\",\"blue\",\"blue\",\"blue\",\"blue\",\"blue\",\"blue\",\"blue\",\"blue\",\"blue\",\"blue\",\"blue\",\"blue\",\"blue\",\"blue\",\"blue\",\"blue\",\"blue\",\"blue\",\"blue\",\"blue\",\"blue\",\"blue\",\"blue\",\"blue\",\"blue\",\"blue\",\"blue\",\"blue\",\"blue\",\"blue\",\"blue\",\"blue\",\"blue\",\"blue\",\"blue\",\"blue\",\"blue\",\"blue\",\"blue\",\"blue\",\"blue\",\"blue\",\"blue\",\"blue\",\"blue\",\"blue\",\"blue\",\"blue\",\"blue\",\"blue\",\"blue\",\"blue\",\"blue\",\"blue\",\"blue\",\"blue\",\"blue\",\"blue\",\"blue\",\"blue\",\"blue\",\"blue\",\"blue\",\"blue\",\"blue\",\"blue\",\"blue\",\"blue\",\"blue\",\"blue\",\"blue\",\"blue\",\"blue\",\"blue\",\"blue\",\"blue\",\"blue\",\"blue\",\"blue\",\"blue\",\"blue\",\"blue\",\"blue\",\"blue\",\"blue\",\"blue\",\"blue\",\"blue\",\"blue\",\"blue\",\"blue\",\"blue\",\"blue\",\"blue\",\"blue\",\"blue\",\"blue\",\"blue\",\"blue\",\"blue\",\"blue\",\"blue\",\"blue\",\"blue\",\"blue\",\"blue\",\"blue\",\"blue\",\"blue\",\"blue\",\"blue\",\"blue\",\"blue\",\"blue\",\"blue\",\"blue\",\"blue\",\"blue\",\"blue\",\"blue\",\"blue\",\"blue\",\"blue\",\"blue\",\"blue\",\"blue\",\"blue\",\"blue\",\"blue\",\"blue\",\"blue\",\"blue\",\"blue\",\"blue\",\"blue\",\"blue\",\"blue\",\"blue\",\"blue\",\"blue\",\"blue\",\"blue\",\"blue\",\"blue\",\"blue\",\"blue\",\"blue\",\"blue\",\"blue\",\"blue\",\"blue\",\"blue\",\"blue\",\"blue\",\"blue\",\"blue\",\"blue\",\"blue\",\"blue\",\"blue\",\"blue\",\"blue\",\"blue\",\"blue\",\"blue\",\"blue\",\"blue\",\"blue\",\"blue\",\"blue\",\"blue\",\"blue\",\"blue\",\"blue\",\"blue\",\"blue\",\"blue\",\"blue\",\"blue\",\"blue\",\"blue\",\"blue\",\"blue\",\"blue\",\"blue\",\"blue\",\"blue\",\"blue\",\"blue\",\"blue\",\"blue\",\"blue\",\"blue\",\"blue\",\"blue\",\"blue\",\"blue\",\"blue\",\"blue\",\"blue\",\"blue\",\"blue\",\"blue\",\"blue\",\"blue\",\"blue\",\"blue\",\"blue\",\"blue\",\"blue\",\"blue\",\"blue\",\"blue\",\"blue\",\"blue\",\"blue\",\"blue\",\"blue\",\"blue\",\"blue\",\"blue\",\"blue\",\"blue\",\"blue\",\"blue\",\"blue\",\"blue\",\"blue\",\"blue\",\"blue\",\"blue\",\"blue\",\"blue\",\"blue\",\"blue\",\"blue\",\"blue\",\"blue\",\"blue\",\"blue\",\"blue\",\"blue\",\"blue\",\"blue\",\"blue\",\"blue\",\"blue\",\"blue\",\"blue\",\"blue\",\"blue\",\"blue\",\"blue\",\"blue\",\"blue\",\"blue\",\"blue\",\"blue\",\"blue\",\"blue\",\"blue\",\"blue\",\"blue\",\"blue\",\"blue\",\"blue\",\"blue\",\"blue\",\"blue\",\"blue\",\"blue\",\"blue\",\"blue\",\"blue\",\"blue\",\"blue\",\"blue\",\"blue\",\"blue\",\"blue\",\"blue\",\"blue\",\"blue\",\"blue\",\"blue\",\"blue\",\"blue\",\"blue\",\"blue\",\"blue\",\"blue\",\"blue\",\"blue\",\"blue\",\"blue\",\"blue\",\"blue\",\"blue\",\"blue\",\"blue\",\"blue\",\"blue\",\"blue\",\"blue\",\"blue\",\"blue\",\"blue\",\"blue\",\"blue\",\"blue\",\"blue\",\"blue\",\"blue\",\"blue\",\"blue\",\"blue\",\"blue\",\"blue\",\"blue\",\"blue\",\"blue\",\"blue\",\"blue\",\"blue\",\"blue\",\"blue\",\"blue\",\"blue\",\"blue\",\"blue\",\"blue\",\"blue\",\"blue\",\"blue\",\"blue\",\"blue\",\"blue\",\"blue\",\"blue\",\"blue\",\"blue\",\"blue\",\"blue\",\"blue\",\"blue\",\"blue\",\"blue\",\"blue\",\"blue\",\"blue\",\"blue\",\"blue\",\"blue\",\"blue\",\"blue\",\"blue\",\"blue\",\"blue\",\"blue\",\"blue\",\"blue\",\"blue\",\"blue\",\"blue\",\"blue\",\"blue\",\"blue\",\"blue\",\"blue\",\"blue\",\"blue\",\"blue\",\"blue\",\"blue\",\"blue\",\"blue\",\"blue\",\"blue\",\"blue\",\"blue\",\"blue\",\"blue\",\"blue\",\"blue\",\"blue\",\"blue\",\"blue\",\"blue\",\"blue\",\"blue\",\"blue\",\"blue\",\"blue\",\"blue\",\"blue\",\"blue\",\"blue\",\"blue\",\"blue\",\"blue\",\"blue\",\"blue\",\"blue\",\"blue\",\"blue\",\"blue\",\"blue\",\"blue\",\"blue\",\"blue\",\"blue\",\"blue\",\"blue\",\"blue\",\"blue\",\"blue\",\"blue\",\"blue\",\"blue\",\"blue\",\"blue\",\"blue\",\"blue\",\"blue\",\"blue\",\"blue\",\"blue\",\"blue\",\"blue\",\"blue\",\"blue\",\"blue\",\"blue\",\"blue\",\"blue\",\"blue\",\"blue\",\"blue\",\"blue\",\"blue\",\"blue\",\"blue\",\"blue\",\"blue\",\"blue\",\"blue\",\"blue\",\"blue\",\"blue\",\"blue\",\"blue\",\"blue\",\"blue\",\"blue\",\"blue\",\"blue\",\"blue\",\"blue\",\"blue\",\"blue\",\"blue\",\"blue\",\"blue\",\"blue\",\"blue\",\"blue\",\"blue\",\"blue\"]],[\"token\",[\"verified\",\"2gb\",\"illinois\",\"jazz\",\"checking\",\"telescope\",\"seasons\",\"astrologer\",\"contribution\",\"homemade\",\"heroes\",\"warcraft\",\"kumar\",\"tester\",\"politically\",\"conquer\",\"columbia\",\"quiet\",\"repeat\",\"kapil\",\"involve\",\"mckinsey\",\"switched\",\"att\",\"instance\",\"innocent\",\"portuguese\",\"subscribers\",\"cabinet\",\"terror\",\"85\",\"rotation\",\"shirts\",\"drawn\",\"bi\",\"aspergers\",\"inspiration\",\"beats\",\"\\u00a3\",\"approximately\",\"asset\",\"empathy\",\"rooting\",\"ia\",\"dandruff\",\"slab\",\"operator\",\"horrible\",\"dominant\",\"ocd\",\"spacetime\",\"blow\",\"installing\",\"learnt\",\"separation\",\"institution\",\"temples\",\"hons\",\"pound\",\"removing\",\"unemployment\",\"greenlit\",\"audit\",\"supplement\",\"roller\",\"dota\",\"tiny\",\"equally\",\"braces\",\"aggressive\",\"corn\",\"camps\",\"additional\",\"consent\",\"granted\",\"welfare\",\"myths\",\"stations\",\"timeline\",\"psychologist\",\"nagpur\",\"herself\",\"cooper\",\"exgirlfriend\",\"intercourse\",\"flip\",\"hurts\",\"lpa\",\"nerve\",\"tvs\",\"halloween\",\"screenshot\",\"biomedical\",\"covered\",\"milky\",\"onsite\",\"aside\",\"meaningful\",\"stretch\",\"joker\",\"encounter\",\"tone\",\"founders\",\"talked\",\"respectively\",\"downloads\",\"cocaine\",\"toxic\",\"sword\",\"fuck\",\"trainer\",\"partition\",\"boxing\",\"grid\",\"practicing\",\"menu\",\"cms\",\"indore\",\"ate\",\"volunteer\",\"misconceptions\",\"pics\",\"flies\",\"instantly\",\"trans\",\"friday\",\"sociopaths\",\"ctc\",\"hoax\",\"detailed\",\"sizes\",\"rejection\",\"limitations\",\"bharat\",\"kissing\",\"renewable\",\"oriented\",\"countrys\",\"dumps\",\"spiders\",\"technological\",\"advertisement\",\"headache\",\"zodiac\",\"accommodation\",\"venus\",\"calcium\",\"passenger\",\"falls\",\"overnight\",\"pickup\",\"gary\",\"transportation\",\"odds\",\"jupiter\",\"purchasing\",\"fluently\",\"flu\",\"photons\",\"conductor\",\"ohio\",\"balaji\",\"mcdonalds\",\"betting\",\"irrational\",\"sachin\",\"deactivate\",\"estimate\",\"hairs\",\"fluent\",\"errors\",\"remaining\",\"marriages\",\"medieval\",\"charles\",\"spider\",\"oxford\",\"gita\",\"races\",\"liquor\",\"poland\",\"lease\",\"co2\",\"selenium\",\"attempts\",\"crystal\",\"manaphy\",\"knight\",\"collapsed\",\"wheels\",\"behaviour\",\"bitcoins\",\"parliament\",\"himher\",\"handsome\",\"thousands\",\"caring\",\"kings\",\"lucky\",\"workplace\",\"condom\",\"intuitive\",\"chronic\",\"eyesight\",\"simulation\",\"prank\",\"quickest\",\"concert\",\"popularity\",\"connections\",\"disorders\",\"scripting\",\"appearance\",\"js\",\"depth\",\"cheque\",\"longterm\",\"documentaries\",\"dioxide\",\"bright\",\"info\",\"diseases\",\"appeal\",\"snap\",\"smoked\",\"singers\",\"boil\",\"probably\",\"temperatures\",\"appearing\",\"olive\",\"ntse\",\"telecom\",\"brief\",\"discrimination\",\"ethnic\",\"cache\",\"passionate\",\"shoulder\",\"assault\",\"marshmallow\",\"momentum\",\"yr\",\"migrate\",\"retire\",\"cet\",\"canvas\",\"vietnamese\",\"institutions\",\"meter\",\"roots\",\"integer\",\"imported\",\"ants\",\"lyft\",\"piercing\",\"il\",\"poop\",\"organisms\",\"ve\",\"entropy\",\"calm\",\"saddest\",\"toward\",\"myth\",\"sight\",\"filling\",\"hdmi\",\"satisfied\",\"transactions\",\"pharmacy\",\"nursing\",\"correlation\",\"regression\",\"awake\",\"md\",\"nri\",\"recommendations\",\"bin\",\"finland\",\"multi\",\"voted\",\"discovery\",\"edward\",\"touching\",\"immigrant\",\"geometry\",\"indicate\",\"ourselves\",\"texting\",\"seek\",\"expecting\",\"dj\",\"brake\",\"helicopter\",\"blonde\",\"triple\",\"ladies\",\"vivekananda\",\"switching\",\"prostitution\",\"banana\",\"magazines\",\"shippuden\",\"lucknow\",\"2019\",\"failing\",\"elizabeth\",\"irish\",\"ebook\",\"temporary\",\"governor\",\"wasting\",\"weekends\",\"cpt\",\"wax\",\"labor\",\"instruments\",\"instrumentation\",\"hates\",\"hip\",\"arnab\",\"bubble\",\"employers\",\"aadhaar\",\"boyfriends\",\"jake\",\"explained\",\"yesterday\",\"beta\",\"extrovert\",\"andhra\",\"micromax\",\"vertical\",\"lay\",\"nonprofit\",\"dubbed\",\"typing\",\"automotive\",\"thomas\",\"procedures\",\"priority\",\"funded\",\"arabs\",\"siblings\",\"guinea\",\"missile\",\"luck\",\"strategic\",\"defend\",\"module\",\"tuition\",\"acids\",\"controller\",\"committee\",\"housing\",\"integral\",\"peaceful\",\"refugees\",\"prescription\",\"interns\",\"supported\",\"womans\",\"dentist\",\"wives\",\"village\",\"affecting\",\"lte\",\"beaches\",\"austin\",\"substance\",\"engagement\",\"trainee\",\"measures\",\"trailer\",\"purchased\",\"15000\",\"uttar\",\"glue\",\"dtu\",\"medal\",\"photon\",\"engg\",\"violin\",\"column\",\"somehow\",\"rotate\",\"3000\",\"virat\",\"forgotten\",\"fingers\",\"slim\",\"arrest\",\"covalent\",\"ncert\",\"kernel\",\"da\",\"alarm\",\"ngo\",\"4gb\",\"productivity\",\"planned\",\"district\",\"berlin\",\"lists\",\"leads\",\"slang\",\"defence\",\"aspiring\",\"56\",\"enemy\",\"farming\",\"muller\",\"pays\",\"liver\",\"membrane\",\"secretly\",\"plug\",\"gum\",\"eclipse\",\"chewing\",\"labs\",\"zombie\",\"authority\",\"males\",\"argentina\",\"tasks\",\"fell\",\"nails\",\"palestine\",\"tanks\",\"identical\",\"deck\",\"qualification\",\"leadership\",\"kohli\",\"pronunciation\",\"hello\",\"violent\",\"sabha\",\"respiration\",\"transform\",\"warranty\",\"faculty\",\"adolf\",\"expenses\",\"jersey\",\"mercury\",\"whiskey\",\"tackle\",\"tweet\",\"blame\",\"cruise\",\"mahindra\",\"discharge\",\"reduced\",\"vodka\",\"mahatma\",\"bass\",\"compete\",\"stains\",\"pill\",\"swim\",\"ali\",\"gf\",\"ford\",\"prince\",\"sweat\",\"performing\",\"limits\",\"leonardo\",\"cow\",\"resolve\",\"matters\",\"pharmaceutical\",\"ray\",\"remotely\",\"pf\",\"clinical\",\"bpo\",\"homeless\",\"husbands\",\"rising\",\"newtons\",\"outcome\",\"derivative\",\"alpha\",\"grown\",\"capitalism\",\"astronaut\",\"hybrid\",\"palm\",\"teens\",\"hits\",\"airplanes\",\"none\",\"admin\",\"applicable\",\"amcat\",\"spam\",\"neutrality\",\"pixel\",\"festival\",\"faces\",\"molar\",\"snakes\",\"sip\",\"kik\",\"farm\",\"ltd\",\"votes\",\"publishing\",\"comfort\",\"frontend\",\"spin\",\"diagnosed\",\"buildings\",\"\\u00b0\",\"cashless\",\"addictive\",\"extinct\",\"ugc\",\"coke\",\"llb\",\"phrases\",\"struggle\",\"drives\",\"fiber\",\"grocery\",\"achieved\",\"penny\",\"bath\",\"allies\",\"uninstall\",\"ny\",\"appears\",\"effort\",\"satellites\",\"confirmed\",\"loneliness\",\"illuminati\",\"uri\",\"lucid\",\"preferably\",\"neither\",\"\\u221a\",\"pacific\",\"americas\",\"bs\",\"graduated\",\"bills\",\"tube\",\"germans\",\"assume\",\"cleared\",\"mate\",\"divide\",\"versions\",\"fallen\",\"journey\",\"anthem\",\"certificates\",\"looked\",\"sponsor\",\"useless\",\"dependent\",\"invite\",\"guru\",\"keyword\",\"aipmt\",\"clone\",\"kgs\",\"chip\",\"origins\",\"wide\",\"motivational\",\"elite\",\"wanna\",\"unity\",\"cough\",\"connecting\",\"mystery\",\"kim\",\"syrian\",\"voldemort\",\"responsibilities\",\"molecules\",\"boobs\",\"holidays\",\"tutorial\",\"circumstances\",\"fiitjee\",\"islands\",\"bypass\",\"slowly\",\"mixture\",\"aluminum\",\"salesforce\",\"twin\",\"iot\",\"remedy\",\"sheets\",\"pole\",\"hated\",\"females\",\"protected\",\"irs\",\"insecure\",\"entering\",\"neuroscience\",\"offices\",\"delta\",\"suggestion\",\"snapdeal\",\"backstory\",\"periodic\",\"cancelled\",\"mans\",\"complicated\",\"bitsat\",\"pleasure\",\"loop\",\"dropbox\",\"selfish\",\"nude\",\"20000\",\"voter\",\"variables\",\"victory\",\"closest\",\"compensation\",\"extended\",\"locations\",\"cracked\",\"perks\",\"ended\",\"exit\",\"awareness\",\"pakistanis\",\"ebooks\",\"bull\",\"unblock\",\"100000\",\"entrepreneurship\",\"infrastructure\",\"scotland\",\"guest\",\"attacked\",\"hurting\",\"lion\",\"reject\",\"purposes\",\"knife\",\"thai\",\"ipl\",\"knee\",\"accepting\",\"spent\",\"punjabi\",\"tab\",\"quoras\",\"caffeine\",\"athletes\",\"ink\",\"cooked\",\"improving\",\"invaded\",\"allah\",\"thermodynamics\",\"mortgage\",\"firsttime\",\"achievements\",\"issued\",\"breath\",\"award\",\"llc\",\"legends\",\"mood\",\"influenced\",\"proteins\",\"holy\",\"performed\",\"pee\",\"blocks\",\"molecule\",\"interests\",\"imei\",\"requires\",\"cisco\",\"moves\",\"marrying\",\"mca\",\"perfectly\",\"iisc\",\"corporation\",\"shiva\",\"viruses\",\"difficulty\",\"50000\",\"volte\",\"shampoo\",\"secular\",\"transplant\",\"ghz\",\"ahead\",\"crew\",\"interact\",\"depend\",\"hawaii\",\"hiv\",\"evening\",\"vegetable\",\"revenge\",\"suppose\",\"busy\",\"label\",\"rogue\",\"rational\",\"hillstation\",\"brains\",\"urdu\",\"imagine\",\"salaries\",\"survey\",\"g4\",\"butt\",\"manufacturers\",\"saas\",\"residency\",\"recommendation\",\"purple\",\"fault\",\"aadhar\",\"aging\",\"bhopal\",\"conducted\",\"loses\",\"infection\",\"forest\",\"impacts\",\"collection\",\"fridge\",\"diamond\",\"mis\",\"recorded\",\"march\",\"conditioner\",\"signature\",\"listed\",\"branches\",\"manchester\",\"wanting\",\"perception\",\"absolutely\",\"servers\",\"soluble\",\"swami\",\"lumia\",\"directors\",\"52\",\"2008\",\"gaining\",\"stereotypes\",\"homes\",\"vegas\",\"jam\",\"behave\",\"relatively\",\"forum\",\"ib\",\"earphones\",\"facilities\",\"april\",\"finally\",\"tail\",\"capacitor\",\"tiger\",\"deaf\",\"deliver\",\"django\",\"expand\",\"skip\",\"nearly\",\"maybe\",\"task\",\"gateway\",\"strangest\",\"abstract\",\"adding\",\"suck\",\"tim\",\"printed\",\"sigma\",\"immigrate\",\"decline\",\"arrested\",\"95\",\"narcissistic\",\"freelancing\",\"patterns\",\"expired\",\"casual\",\"tablets\",\"patients\",\"lean\",\"pieces\",\"laymans\",\"whatever\",\"polish\",\"lemon\",\"abortion\",\"i3\",\"theorem\",\"h\",\"compulsory\",\"helped\",\"sons\",\"feminism\",\"compiler\",\"tested\",\"enhance\",\"adhd\",\"manhattan\",\"iii\",\"nail\",\"eee\",\"deals\",\"excellent\",\"ipo\",\"folder\",\"sand\",\"continuous\",\"capable\",\"libraries\",\"aggregate\",\"64\",\"bsnl\",\"profiles\",\"spirit\",\"pulled\",\"owns\",\"deloitte\",\"therapist\",\"acts\",\"millions\",\"authors\",\"marathi\",\"dvd\",\"coconut\",\"swiss\",\"interaction\",\"ncr\",\"kannada\",\"smallest\",\"advisable\",\"smartest\",\"sorry\",\"normally\",\"ends\",\"rome\",\"spectrum\",\"cousin\",\"75\",\"suzuki\",\"nights\",\"cap\",\"enable\",\"counselling\",\"proxy\",\"margin\",\"shops\",\"hackers\",\"tatkal\",\"opened\",\"cinema\",\"consumption\",\"coal\",\"silent\",\"choosing\",\"introduction\",\"electromagnetic\",\"hcl\",\"complaint\",\"puppies\",\"vc\",\"symbols\",\"lenses\",\"username\",\"arrow\",\"adopted\",\"affects\",\"sudden\",\"pcm\",\"gel\",\"affair\",\"pinterest\",\"statements\",\"supplements\",\"justified\",\"turns\",\"santa\",\"shoe\",\"trek\",\"headphone\",\"girlfriends\",\"verizon\",\"rocket\",\"conference\",\"ego\",\"srm\",\"afghanistan\",\"nucleus\",\"generated\",\"chinas\",\"ww1\",\"consultancy\",\"socially\",\"allen\",\"berkeley\",\"missed\",\"crying\",\"introduced\",\"ps3\",\"flour\",\"brought\",\"elder\",\"minecraft\",\"9th\",\"freelancer\",\"circles\",\"scars\",\"entertainment\",\"turbine\",\"deeply\",\"rom\",\"evolved\",\"nato\",\"strengths\",\"ide\",\"tweets\",\"scholarships\",\"mentor\",\"collect\",\"hdfc\",\"mandarin\",\"solo\",\"terrible\",\"influential\",\"professionals\",\"65\",\"recognition\",\"nvidia\",\"cia\",\"designs\",\"10k\",\"creation\",\"tom\",\"rated\",\"introverts\",\"boiling\",\"communism\",\"treaty\",\"whereas\",\"thanks\",\"cigarette\",\"bengaluru\",\"oneplus\",\"reserve\",\"advertise\",\"nits\",\"helping\",\"bruce\",\"mp3\",\"severe\",\"proposal\",\"cultures\",\"tap\",\"animated\",\"planes\",\"hall\",\"cognitive\",\"supports\",\"keys\",\"gotten\",\"feedback\",\"recording\",\"proceed\",\"membership\",\"console\",\"overseas\",\"hows\",\"william\",\"billionaires\",\"updated\",\"pre\",\"organizations\",\"messi\",\"unexpected\",\"nitrogen\",\"hungry\",\"nigeria\",\"sync\",\"arduino\",\"gross\",\"outer\",\"searching\",\"workers\",\"outlook\",\"europeans\",\"founder\",\"lectures\",\"legitimate\",\"camp\",\"ordinary\",\"investments\",\"bone\",\"raising\",\"quite\",\"ages\",\"joint\",\"johnson\",\"destination\",\"concerned\",\"belief\",\"refrigerator\",\"implications\",\"manga\",\"mandatory\",\"obamas\",\"lawyers\",\"bedroom\",\"icon\",\"qualifications\",\"qa\",\"bikes\",\"boston\",\"holding\",\"session\",\"appointment\",\"weaknesses\",\"iphones\",\"motorcycle\",\"schizophrenia\",\"5th\",\"intellectual\",\"eaten\",\"attending\",\"medals\",\"adsense\",\"nda\",\"6th\",\"kali\",\"georgia\",\"wechat\",\"earlier\",\"drone\",\"truck\",\"horse\",\"merchant\",\"torque\",\"seed\",\"backend\",\"holmes\",\"graduating\",\"400\",\"bones\",\"sufficient\",\"participate\",\"rifle\",\"shock\",\"downloaded\",\"earthquake\",\"breasts\",\"secretary\",\"insert\",\"damaged\",\"massive\",\"standing\",\"remainder\",\"programme\",\"holocaust\",\"totally\",\"belt\",\"affairs\",\"nokia\",\"mechanism\",\"pin\",\"scan\",\"fought\",\"superpower\",\"poetry\",\"signals\",\"educated\",\"scariest\",\"trains\",\"closer\",\"weapon\",\"icici\",\"serial\",\"bicycle\",\"terminal\",\"finished\",\"stolen\",\"inspiring\",\"cuisine\",\"spark\",\"sounds\",\"pricing\",\"click\",\"underwear\",\"kidney\",\"bengal\",\"invention\",\"discount\",\"chase\",\"evaluate\",\"distributed\",\"themes\",\"amd\",\"stem\",\"st\",\"genre\",\"vegetables\",\"council\",\"bihar\",\"thick\",\"mouse\",\"worry\",\"newly\",\"updates\",\"candy\",\"prepaid\",\"wet\",\"rap\",\"motors\",\"implemented\",\"theoretical\",\"fabric\",\"mexican\",\"portfolio\",\"technique\",\"icse\",\"expansion\",\"evolutionary\",\"justify\",\"trick\",\"attached\",\"lightning\",\"pitch\",\"armed\",\"einstein\",\"conversion\",\"iitjee\",\"declared\",\"admit\",\"acquisition\",\"innovation\",\"runs\",\"wwe\",\"trial\",\"memories\",\"refuse\",\"netherlands\",\"committed\",\"fraud\",\"jailbreak\",\"settle\",\"badly\",\"approved\",\"eligibility\",\"trend\",\"increases\",\"comic\",\"quorans\",\"cellular\",\"matches\",\"receiving\",\"bmw\",\"vlsi\",\"signed\",\"lakes\",\"350\",\"communications\",\"pork\",\"joined\",\"anyway\",\"differentiate\",\"actresses\",\"29\",\"ethics\",\"premier\",\"hearing\",\"vehicles\",\"drama\",\"instant\",\"lips\",\"dates\",\"july\",\"holiday\",\"coach\",\"malayalam\",\"superior\",\"soviet\",\"plate\",\"throw\",\"worship\",\"bars\",\"sharma\",\"mothers\",\"integrated\",\"clubs\",\"bug\",\"melbourne\",\"co\",\"bisexual\",\"regions\",\"lesson\",\"heads\",\"reader\",\"snake\",\"qualify\",\"paul\",\"causing\",\"disappear\",\"era\",\"lets\",\"qualified\",\"spiritual\",\"wolf\",\"requirement\",\"journalism\",\"studied\",\"lowest\",\"vader\",\"coursera\",\"stark\",\"configuration\",\"verbal\",\"undergrad\",\"dimensions\",\"transition\",\"efficiently\",\"interstellar\",\"locked\",\"summary\",\"chandigarh\",\"ghosts\",\"included\",\"operate\",\"dimension\",\"mount\",\"noticed\",\"rating\",\"somewhere\",\"martin\",\"bra\",\"bird\",\"zuckerberg\",\"sensor\",\"audience\",\"dirty\",\"starbucks\",\"permission\",\"residential\",\"wholesale\",\"assets\",\"clearly\",\"km\",\"invade\",\"ipcc\",\"fb\",\"shell\",\"shave\",\"loud\",\"tip\",\"seeds\",\"sets\",\"polar\",\"although\",\"june\",\"judaism\",\"anti\",\"instrument\",\"seven\",\"shooting\",\"j\",\"portal\",\"tower\",\"github\",\"linked\",\"admitted\",\"punishment\",\"mid\",\"micro\",\"cured\",\"lifestyle\",\"nor\",\"upset\",\"challenge\",\"soap\",\"standards\",\"integration\",\"lottery\",\"lab\",\"williams\",\"odd\",\"soil\",\"sensitive\",\"route\",\"tattoos\",\"coin\",\"declare\",\"frame\",\"differential\",\"bowl\",\"softwares\",\"notifications\",\"maintenance\",\"inner\",\"apples\",\"converted\",\"recruiter\",\"bombay\",\"command\",\"posting\",\"controlled\",\"balls\",\"personally\",\"poker\",\"extract\",\"hired\",\"bugs\",\"providers\",\"loans\",\"calculator\",\"attractions\",\"torrents\",\"keywords\",\"profession\",\"blogging\",\"transport\",\"sue\",\"anonymously\",\"compounds\",\"robot\",\"buddhism\",\"sweet\",\"defense\",\"nobody\",\"uc\",\"defined\",\"division\",\"bags\",\"epic\",\"unhealthy\",\"craziest\",\"urban\",\"combination\",\"pair\",\"laugh\",\"cv\",\"usd\",\"launched\",\"usps\",\"visited\",\"nexus\",\"regularly\",\"brothers\",\"broker\",\"concentrate\",\"agreement\",\"nervous\",\"frozen\",\"detail\",\"sir\",\"situations\",\"borderline\",\"angularjs\",\"abusive\",\"tourism\",\"relate\",\"august\",\"communist\",\"accountant\",\"dumb\",\"arab\",\"b2b\",\"du\",\"thermal\",\"asians\",\"threat\",\"karma\",\"passive\",\"homosexuality\",\"putting\",\"quantitative\",\"relativity\",\"sanskrit\",\"opinions\",\"verify\",\"bear\",\"roll\",\"expanding\",\"teenage\",\"jeans\",\"providing\",\"shared\",\"extreme\",\"mi\",\"vr\",\"progress\",\"greece\",\"cpu\",\"ips\",\"merge\",\"reputation\",\"loving\",\"salman\",\"iss\",\"warm\",\"dental\",\"extension\",\"attraction\",\"fictional\",\"journal\",\"login\",\"secondary\",\"recognize\",\"southern\",\"ph\",\"lunch\",\"wallet\",\"ronaldo\",\"larger\",\"actions\",\"fathers\",\"adopt\",\"claims\",\"bottom\",\"therapy\",\"patient\",\"described\",\"virginity\",\"functional\",\"ionic\",\"chartered\",\"discover\",\"55\",\"21st\",\"biased\",\"mad\",\"northern\",\"onto\",\"liberals\",\"premium\",\"neutral\",\"detect\",\"diagram\",\"sperm\",\"ga\",\"bleach\",\"spread\",\"contributions\",\"activate\",\"prior\",\"safest\",\"holder\",\"360\",\"aim\",\"rental\",\"families\",\"everybody\",\"shut\",\"payments\",\"150\",\"cube\",\"vegan\",\"newspaper\",\"beef\",\"houses\",\"preferred\",\"simultaneously\",\"marked\",\"reactions\",\"emergency\",\"protection\",\"cab\",\"forex\",\"norway\",\"immigrants\",\"googles\",\"ssb\",\"wing\",\"yrs\",\"ensure\",\"spy\",\"reasoning\",\"strange\",\"forgive\",\"turkish\",\"tag\",\"ranking\",\"platforms\",\"fox\",\"existed\",\"walmart\",\"lazy\",\"ears\",\"clock\",\"beam\",\"rare\",\"bush\",\"2011\",\"stops\",\"batteries\",\"certified\",\"naked\",\"worldwide\",\"staying\",\"lifetime\",\"ted\",\"lake\",\"wealthy\",\"transit\",\"stephen\",\"rural\",\"versa\",\"pets\",\"commonly\",\"adults\",\"ultimate\",\"genius\",\"vinegar\",\"allows\",\"aid\",\"retirement\",\"airtel\",\"sciences\",\"mountain\",\"drinks\",\"tour\",\"wind\",\"seattle\",\"disabled\",\"bodies\",\"lesbian\",\"governments\",\"kinetic\",\"tumblr\",\"absolute\",\"author\",\"toilet\",\"whey\",\"sleepy\",\"molecular\",\"watches\",\"inventions\",\"rain\",\"34\",\"angular\",\"o\",\"dish\",\"however\",\"agents\",\"abs\",\"switzerland\",\"transformer\",\"clearing\",\"consciousness\",\"broadband\",\"uae\",\"automatic\",\"opposed\",\"geography\",\"astronauts\",\"decisions\",\"cement\",\"induction\",\"luxury\",\"upvotes\",\"politicians\",\"posted\",\"toefl\",\"kitchen\",\"noise\",\"radius\",\"dye\",\"miles\",\"risks\",\"scientifically\",\"mnc\",\"propose\",\"prepared\",\"iiit\",\"mention\",\"equipment\",\"darth\",\"january\",\"surname\",\"raised\",\"attitude\",\"gta\",\"david\",\"hike\",\"awkward\",\"proven\",\"productive\",\"lg\",\"filled\",\"atmosphere\",\"lee\",\"irctc\",\"addicted\",\"dynamic\",\"employment\",\"weekend\",\"replacement\",\"singing\",\"owners\",\"bipolar\",\"tomorrow\",\"poems\",\"default\",\"kvpy\",\"sauce\",\"competitors\",\"russians\",\"sample\",\"crimes\",\"hang\",\"inspired\",\"furniture\",\"throughout\",\"presence\",\"efficiency\",\"leg\",\"biological\",\"pilani\",\"conversations\",\"inspirational\",\"bachelor\",\"centers\",\"withdraw\",\"fundamental\",\"comparison\",\"november\",\"fifa\",\"penalty\",\"algebra\",\"joke\",\"htc\",\"pilots\",\"collapse\",\"texts\",\"vocabulary\",\"moved\",\"sc\",\"smile\",\"october\",\"dot\",\"genetic\",\"architect\",\"url\",\"51\",\"sore\",\"uniform\",\"re\",\"rails\",\"smaller\",\"marine\",\"terrorists\",\"nazi\",\"breast\",\"politician\",\"subtitles\",\"chosen\",\"egypt\",\"thin\",\"packages\",\"editor\",\"bands\",\"mythology\",\"reasonable\",\"permit\",\"acceptable\",\"seriously\",\"iraq\",\"fever\",\"visitor\",\"honest\",\"friction\",\"offering\",\"smarter\",\"ahmedabad\",\"replaced\",\"resolution\",\"burning\",\"bridge\",\"catholic\",\"calendar\",\"resident\",\"policies\",\"forced\",\"leading\",\"arm\",\"deserve\",\"context\",\"coolest\",\"arranged\",\"arizona\",\"comics\",\"harm\",\"democrats\",\"jail\",\"breed\",\"anywhere\",\"psu\",\"christ\",\"violence\",\"agriculture\",\"objective\",\"moments\",\"infinity\",\"supporting\",\"critical\",\"trees\",\"beyond\",\"bag\",\"vitamin\",\"assembly\",\"solved\",\"array\",\"perspective\",\"pas\",\"wwii\",\"skinny\",\"contains\",\"lift\",\"cleaning\",\"peter\",\"aap\",\"pimples\",\"initial\",\"lesserknown\",\"sights\",\"principles\",\"realize\",\"millionaire\",\"faux\",\"orbit\",\"desire\",\"hi\",\"prophet\",\"suits\",\"careers\",\"thinks\",\"quantity\",\"spots\",\"wage\",\"asleep\",\"sociology\",\"guard\",\"units\",\"structural\",\"operation\",\"pants\",\"w\",\"bulk\",\"possibly\",\"drunk\",\"fired\",\"accident\",\"inch\",\"bottle\",\"aerospace\",\"narcissist\",\"ux\",\"angeles\",\"wood\",\"index\",\"safely\",\"robotics\",\"edition\",\"metals\",\"practices\",\"scheme\",\"interior\",\"diabetes\",\"nobel\",\"youth\",\"lived\",\"september\",\"chief\",\"proposed\",\"assuming\",\"sin\",\"counter\",\"disable\",\"introduce\",\"restore\",\"swimming\",\"intern\",\"answering\",\"mentioned\",\"crash\",\"laser\",\"teenagers\",\"presentation\",\"quran\",\"classified\",\"demonetisation\",\"communicate\",\"cotton\",\"autism\",\"anger\",\"environmental\",\"stable\",\"7th\",\"bread\",\"invited\",\"wisdom\",\"wrote\",\"widely\",\"minor\",\"formal\",\"dreaming\",\"managers\",\"escape\",\"pollution\",\"taiwan\",\"verification\",\"los\",\"figures\",\"26\",\"illness\",\"sides\",\"compatible\",\"pack\",\"conspiracy\",\"hedge\",\"flights\",\"dropped\",\"former\",\"suffer\",\"aware\",\"designers\",\"mahabharata\",\"evolve\",\"weigh\",\"dies\",\"fruits\",\"cc\",\"butter\",\"sharing\",\"atoms\",\"tongue\",\"transaction\",\"poverty\",\"suffering\",\"presidents\",\"resistance\",\"adam\",\"civilization\",\"mining\",\"toronto\",\"stick\",\"increased\",\"wild\",\"freelance\",\"removal\",\"aws\",\"rio\",\"principle\",\"asus\",\"cute\",\"consumer\",\"pool\",\"variable\",\"tutorials\",\"advance\",\"keeping\",\"visible\",\"cognizant\",\"equations\",\"rooms\",\"krishna\",\"printer\",\"tooth\",\"mentally\",\"realistic\",\"automobile\",\"cake\",\"tie\",\"beach\",\"ghost\",\"comfortable\",\"mysql\",\"oral\",\"closed\",\"helps\",\"maharashtra\",\"admissions\",\"i5\",\"partners\",\"axis\",\"beliefs\",\"neck\",\"clans\",\"hidden\",\"cyber\",\"voting\",\"bacteria\",\"layer\",\"chhattisgarh\",\"5000\",\"sitting\",\"murder\",\"argument\",\"f\",\"privacy\",\"syndrome\",\"2010\",\"bite\",\"vacation\",\"isro\",\"trouble\",\"records\",\"answered\",\"digit\",\"defeat\",\"childhood\",\"5s\",\"gates\",\"f1\",\"town\",\"anal\",\"copper\",\"talks\",\"affiliate\",\"sociopath\",\"installed\",\"static\",\"copyright\",\"animation\",\"donate\",\"stranger\",\"bcom\",\"destroyed\",\"gujarat\",\"foundation\",\"prize\",\"components\",\"foreigner\",\"arms\",\"unlimited\",\"needing\",\"settings\",\"item\",\"eve\",\"competition\",\"landing\",\"beard\",\"patent\",\"ending\",\"2020\",\"incident\",\"petroleum\",\"florida\",\"particularly\",\"ups\",\"generator\",\"leather\",\"heal\",\"experiment\",\"28\",\"passing\",\"talent\",\"remote\",\"300\",\"published\",\"impossible\",\"steam\",\"80\",\"washing\",\"guilty\",\"punjab\",\"70\",\"album\",\"bullet\",\"paris\",\"interface\",\"agencies\",\"mission\",\"digits\",\"modis\",\"recruitment\",\"manipal\",\"telling\",\"meal\",\"orange\",\"stone\",\"links\",\"ab\",\"upper\",\"cameras\",\"p\",\"combat\",\"passion\",\"shower\",\"thailand\",\"beings\",\"grad\",\"27\",\"finger\",\"jump\",\"lights\",\"ui\",\"bba\",\"sweden\",\"arrive\",\"4th\",\"amendment\",\"window\",\"satellite\",\"al\",\"matlab\",\"jokes\",\"muhammad\",\"expression\",\"booking\",\"dinner\",\"skype\",\"lots\",\"2018\",\"teen\",\"finish\",\"dslr\",\"mens\",\"proud\",\"entrepreneurs\",\"ukraine\",\"coins\",\"scenario\",\"transmission\",\"ignore\",\"pride\",\"contribute\",\"grand\",\"curve\",\"false\",\"operations\",\"breakup\",\"eventually\",\"acquire\",\"commission\",\"lies\",\"spoken\",\"pills\",\"masturbating\",\"jackson\",\"airbnb\",\"delivered\",\"disk\",\"radiation\",\"plays\",\"marvel\",\"particle\",\"breakfast\",\"smartphones\",\"relevant\",\"quota\",\"refund\",\"inches\",\"telugu\",\"angel\",\"eastern\",\"inflation\",\"predict\",\"annoying\",\"obc\",\"tough\",\"conduct\",\"originate\",\"notification\",\"backup\",\"harder\",\"richest\",\"pronounce\",\"sri\",\"wheel\",\"wasnt\",\"oldest\",\"sheet\",\"soda\",\"20s\",\"wipro\",\"awesome\",\"facial\",\"z\",\"noida\",\"confident\",\"fbi\",\"corrupt\",\"succeed\",\"reddit\",\"associate\",\"input\",\"guns\",\"rahul\",\"baking\",\"description\",\"musical\",\"apache\",\"nowadays\",\"fluid\",\"capacity\",\"loose\",\"freshman\",\"cfa\",\"optional\",\"theres\",\"ps4\",\"trends\",\"jon\",\"richard\",\"legit\",\"nodejs\",\"document\",\"sexually\",\"particles\",\"singer\",\"printing\",\"captain\",\"valuable\",\"several\",\"aiims\",\"boot\",\"sit\",\"zone\",\"billionaire\",\"floor\",\"gravitational\",\"export\",\"motivation\",\"golden\",\"transgender\",\"healthcare\",\"heaven\",\"81\",\"leaves\",\"listening\",\"overall\",\"press\",\"dishes\",\"railways\",\"warming\",\"enfield\",\"extent\",\"acceleration\",\"afford\",\"bonds\",\"border\",\"registration\",\"cast\",\"hope\",\"shipping\",\"karnataka\",\"specifically\",\"opportunity\",\"arabia\",\"pump\",\"pg\",\"carrier\",\"plot\",\"kingdom\",\"contract\",\"painful\",\"kindle\",\"boring\",\"essential\",\"disney\",\"charger\",\"seconds\",\"measured\",\"honda\",\"ba\",\"makeup\",\"\\u2013\",\"mini\",\"annual\",\"traits\",\"retrieve\",\"willing\",\"swift\",\"consume\",\"hindus\",\"psychopath\",\"tells\",\"solving\",\"conditions\",\"artists\",\"spotify\",\"bomb\",\"integrate\",\"stuck\",\"nikon\",\"gadgets\",\"womens\",\"judge\",\"republicans\",\"vacuum\",\"felt\",\"putin\",\"tennis\",\"concentration\",\"fans\",\"constantly\",\"matrix\",\"secrets\",\"spot\",\"soft\",\"stored\",\"neural\",\"submit\",\"scores\",\"ola\",\"wire\",\"gdp\",\"jaipur\",\"typically\",\"airline\",\"roles\",\"cheaper\",\"machines\",\"shift\",\"impress\",\"basics\",\"32\",\"conservative\",\"birds\",\"tend\",\"duty\",\"setup\",\"rude\",\"pink\",\"church\",\"mine\",\"jack\",\"sending\",\"cooking\",\"versus\",\"expert\",\"olympic\",\"biotechnology\",\"gurgaon\",\"worked\",\"codes\",\"successfully\",\"hardware\",\"faith\",\"pr\",\"television\",\"compound\",\"vit\",\"universal\",\"thank\",\"grammatically\",\"chicago\",\"ivy\",\"worried\",\"enterprise\",\"sodium\",\"railway\",\"remedies\",\"racism\",\"tracking\",\"psychological\",\"apartment\",\"magazine\",\"martial\",\"beauty\",\"waiting\",\"attacks\",\"horror\",\"fantasy\",\"ma\",\"select\",\"increasing\",\"metro\",\"opt\",\"map\",\"watched\",\"gear\",\"icloud\",\"james\",\"comedy\",\"lollipop\",\"ireland\",\"upcoming\",\"italian\",\"oven\",\"emotionally\",\"decided\",\"lakh\",\"grey\",\"kept\",\"produced\",\"mouth\",\"manual\",\"dhoni\",\"fill\",\"throat\",\"shoot\",\"liked\",\"innovative\",\"immediately\",\"lonely\",\"fighting\",\"max\",\"accidentally\",\"schedule\",\"orgasm\",\"rape\",\"ride\",\"muscles\",\"graduates\",\"taller\",\"boost\",\"lakhs\",\"microwave\",\"electrons\",\"upon\",\"attract\",\"ap\",\"abuse\",\"earths\",\"forever\",\"underrated\",\"facing\",\"terrorist\",\"alien\",\"celebrity\",\"frequently\",\"vpn\",\"wales\",\"powder\",\"superman\",\"mixed\",\"caught\",\"goods\",\"beginning\",\"starts\",\"atomic\",\"associated\",\"triangle\",\"parties\",\"banning\",\"k\",\"honey\",\"monitor\",\"graph\",\"leaders\",\"embedded\",\"juice\",\"split\",\"lady\",\"sequence\",\"911\",\"harassment\",\"nepal\",\"pop\",\"habit\",\"setting\",\"edge\",\"ww2\",\"gps\",\"federal\",\"charged\",\"lying\",\"empty\",\"whenever\",\"airplane\",\"jet\",\"destroy\",\"ies\",\"wouldnt\",\"quick\",\"decrease\",\"robert\",\"pradesh\",\"professors\",\"massage\",\"held\",\"spending\",\"markets\",\"objects\",\"chart\",\"mechanics\",\"silver\",\"usage\",\"basketball\",\"gen\",\"periods\",\"identity\",\"individuals\",\"css\",\"soul\",\"ipod\",\"chest\",\"understanding\",\"coast\",\"classic\",\"spain\",\"babies\",\"sd\",\"hostel\",\"shirt\",\"further\",\"logical\",\"franchise\",\"obtain\",\"foreigners\",\"fully\",\"region\",\"designed\",\"cheated\",\"beneficial\",\"shes\",\"accent\",\"couldnt\",\"queen\",\"sick\",\"blowing\",\"properly\",\"stronger\",\"returns\",\"condition\",\"musk\",\"ugly\",\"teams\",\"filter\",\"snow\",\"glasses\",\"employer\",\"solid\",\"followed\",\"embarrassing\",\"auto\",\"meeting\",\"belong\",\"strike\",\"internships\",\"bachelors\",\"administration\",\"temple\",\"wealth\",\"retail\",\"speakers\",\"electoral\",\"headphones\",\"streaming\",\"mirror\",\"diesel\",\"republic\",\"antivirus\",\"customers\",\"atm\",\"vagina\",\"cigarettes\",\"aptitude\",\"lewis\",\"saudi\",\"puppy\",\"recovery\",\"jimmy\",\"obsessed\",\"domestic\",\"pen\",\"batch\",\"de\",\"drawing\",\"ai\",\"medium\",\"simply\",\"photoshop\",\"sms\",\"turning\",\"nadu\",\"appropriate\",\"adobe\",\"substitute\",\"fruit\",\"recipes\",\"fighter\",\"saving\",\"greater\",\"cheat\",\"routine\",\"push\",\"sherlock\",\"arguments\",\"sony\",\"import\",\"soldiers\",\"charges\",\"emotions\",\"ibm\",\"un\",\"innovations\",\"itunes\",\"consultant\",\"iims\",\"relations\",\"psychopaths\",\"existing\",\"angle\",\"clash\",\"bus\",\"australian\",\"crazy\",\"pull\",\"theories\",\"savings\",\"suit\",\"contrast\",\"calculus\",\"pi\",\"credits\",\"bluetooth\",\"himself\",\"traveling\",\"criminal\",\"xiaomi\",\"zealand\",\"seats\",\"electron\",\"script\",\"11th\",\"lessons\",\"programmers\",\"december\",\"flag\",\"singh\",\"arabic\",\"sale\",\"nfl\",\"grammar\",\"killing\",\"virgin\",\"differently\",\"poem\",\"provided\",\"automation\",\"shy\",\"translation\",\"mathematical\",\"45\",\"celebrities\",\"spring\",\"downloading\",\"dr\",\"organization\",\"majority\",\"clients\",\"hd\",\"motivate\",\"thats\",\"thesis\",\"door\",\"weakest\",\"saw\",\"canon\",\"younger\",\"costs\",\"river\",\"rings\",\"factory\",\"decent\",\"clintons\",\"holes\",\"desert\",\"divorce\",\"sold\",\"cheese\",\"atom\",\"taught\",\"minute\",\"ocean\",\"crisis\",\"represent\",\"surgical\",\"parent\",\"brexit\",\"possibility\",\"longest\",\"edit\",\"scholarship\",\"motivated\",\"chocolate\",\"faced\",\"90\",\"parallel\",\"foot\",\"examination\",\"friendly\",\"kinds\",\"wins\",\"islamic\",\"degrees\",\"registered\",\"distribution\",\"junior\",\"gave\",\"sing\",\"articles\",\"hadoop\",\"saved\",\"hero\",\"ear\",\"asks\",\"improved\",\"teenager\",\"forms\",\"wash\",\"provides\",\"washington\",\"strikes\",\"binary\",\"syria\",\"indonesia\",\"powers\",\"highly\",\"heshe\",\"happiness\",\"director\",\"citizenship\",\"knew\",\"humanity\",\"translate\",\"nba\",\"permanently\",\"soccer\",\"todays\",\"challenges\",\"barack\",\"title\",\"latin\",\"fitness\",\"genuine\",\"investor\",\"dislike\",\"scenes\",\"hacker\",\"bangladesh\",\"ebay\",\"earning\",\"dell\",\"paytm\",\"spouse\",\"bored\",\"roman\",\"official\",\"dragon\",\"park\",\"except\",\"habits\",\"quote\",\"astrology\",\"congress\",\"automatically\",\"island\",\"religions\",\"christianity\",\"supreme\",\"owner\",\"hell\",\"wikipedia\",\"cancel\",\"industries\",\"actress\",\"client\",\"visual\",\"michael\",\"remain\",\"ability\",\"concrete\",\"conflict\",\"string\",\"linear\",\"supposed\",\"engines\",\"2012\",\"\\u2018\",\"lesser\",\"traditional\",\"episodes\",\"goals\",\"tata\",\"opening\",\"target\",\"weak\",\"anonymous\",\"bjp\",\"resource\",\"concepts\",\"ruby\",\"friendship\",\"nyc\",\"pretty\",\"implement\",\"painting\",\"ill\",\"agency\",\"reverse\",\"confused\",\"italy\",\"response\",\"yellow\",\"dance\",\"contain\",\"vice\",\"editing\",\"acting\",\"weirdest\",\"feels\",\"govt\",\"accounting\",\"rise\",\"wise\",\"leaving\",\"lens\",\"artist\",\"arvind\",\"pattern\",\"scared\",\"attention\",\"airlines\",\"sky\",\"malaysia\",\"port\",\"attempt\",\"element\",\"classical\",\"shown\",\"safety\",\"including\",\"tablet\",\"la\",\"terrorism\",\"commit\",\"maps\",\"african\",\"viewed\",\"calling\",\"6s\",\"agent\",\"output\",\"justice\",\"don\",\"addiction\",\"lock\",\"vegetarian\",\"britain\",\"percent\",\"meditation\",\"ibps\",\"monthly\",\"writers\",\"forward\",\"stuff\",\"mr\",\"ready\",\"forgot\",\"flying\",\"recommended\",\"fields\",\"blind\",\"l\",\"hinduism\",\"desktop\",\"host\",\"tattoo\",\"maintain\",\"boards\",\"helpful\",\"semester\",\"load\",\"tier\",\"agree\",\"factor\",\"elon\",\"freshers\",\"sql\",\"cases\",\"exact\",\"confidence\",\"behavior\",\"hacked\",\"quotes\",\"hydrogen\",\"pakistani\",\"masturbate\",\"divided\",\"skill\",\"fine\",\"falling\",\"chess\",\"charging\",\"pages\",\"vector\",\"supporters\",\"waste\",\"sanders\",\"affordable\",\"unlock\",\"techniques\",\"wine\",\"keyboard\",\"cm\",\"wireless\",\"lawyer\",\"egg\",\"cope\",\"mindblowing\",\"recipe\",\"corruption\",\"scored\",\"secure\",\"teaching\",\"opposite\",\"educational\",\"bernie\",\"y\",\"library\",\"models\",\"kid\",\"stack\",\"separate\",\"19\",\"extremely\",\"properties\",\"cable\",\"magic\",\"removed\",\"computing\",\"hospital\",\"beer\",\"christians\",\"twice\",\"kg\",\"consulting\",\"whose\",\"serious\",\"petrol\",\"travelling\",\"revolution\",\"custom\",\"structures\",\"guide\",\"celebrate\",\"lenovo\",\"turned\",\"ielts\",\"grades\",\"fuel\",\"relative\",\"oracle\",\"academy\",\"lack\",\"passed\",\"relation\",\"values\",\"movement\",\"strategies\",\"eu\",\"emotional\",\"legs\",\"pokemon\",\"3g\",\"iran\",\"mostly\",\"jewish\",\"offered\",\"log\",\"hasnt\",\"explanation\",\"signal\",\"stores\",\"syllabus\",\"bits\",\"yoga\",\"weapons\",\"gods\",\"10000\",\"delivery\",\"gb\",\"sum\",\"letters\",\"venture\",\"selection\",\"winning\",\"35\",\"comment\",\"consequences\",\"sport\",\"items\",\"seems\",\"ring\",\"jealous\",\"laptops\",\"criteria\",\"fresh\",\"reference\",\"bitcoin\",\"infinite\",\"perform\",\"brazil\",\"density\",\"plans\",\"hosting\",\"clothing\",\"hong\",\"dying\",\"heavy\",\"steve\",\"gone\",\"damage\",\"missing\",\"ethical\",\"republican\",\"contacts\",\"activity\",\"electronic\",\"qualities\",\"piano\",\"hisher\",\"repair\",\"posts\",\"disease\",\"winter\",\"ten\",\"publish\",\"paint\",\"physically\",\"executive\",\"deposit\",\"elements\",\"xbox\",\"ceo\",\"visitors\",\"discovered\",\"tickets\",\"literature\",\"primary\",\"naturally\",\"senior\",\"u\",\"hardest\",\"debate\",\"frequency\",\"vietnam\",\"cry\",\"assistant\",\"gifts\",\"practical\",\"funny\",\"valid\",\"liberal\",\"refer\",\"beat\",\"shape\",\"institutes\",\"msc\",\"internal\",\"located\",\"significant\",\"scientists\",\"g\",\"ship\",\"proper\",\"independence\",\"added\",\"hes\",\"catch\",\"urine\",\"effectively\",\"named\",\"responsible\",\"strength\",\"whos\",\"immigration\",\"vehicle\",\"tesla\",\"kong\",\"meth\",\"england\",\"huge\",\"pizza\",\"rejected\",\"george\",\"fan\",\"salt\",\"browser\",\"sat\",\"loved\",\"fees\",\"walking\",\"symbol\",\"equity\",\"ubuntu\",\"alternatives\",\"theme\",\"virus\",\"manufacturing\",\"cutoff\",\"pure\",\"22\",\"introvert\",\"unable\",\"greek\",\"rice\",\"gst\",\"happening\",\"centre\",\"kiss\",\"prison\",\"bigger\",\"font\",\"construction\",\"exercises\",\"keeps\",\"gmat\",\"offers\",\"cross\",\"nasa\",\"unit\",\"advertising\",\"cup\",\"fixed\",\"limited\",\"billion\",\"subjects\",\"arts\",\"worlds\",\"stupid\",\"breaking\",\"funding\",\"tank\",\"generate\",\"efficient\",\"exists\",\"atheist\",\"entrepreneur\",\"direction\",\"broken\",\"offline\",\"firms\",\"station\",\"magnetic\",\"include\",\"aliens\",\"tinder\",\"logo\",\"photography\",\"worse\",\"besides\",\"path\",\"somebody\",\"interviews\",\"persons\",\"figure\",\"placed\",\"nation\",\"knows\",\"unmarried\",\"hp\",\"profitable\",\"tricks\",\"boss\",\"reply\",\"scam\",\"circle\",\"processor\",\"debt\",\"growing\",\"royal\",\"fiction\",\"department\",\"mistake\",\"weird\",\"graphics\",\"external\",\"article\",\"volume\",\"scratch\",\"chain\",\"protect\",\"storage\",\"texas\",\"liquid\",\"circuit\",\"graphic\",\"tired\",\"weather\",\"oxygen\",\"velocity\",\"dad\",\"band\",\"teachers\",\"drugs\",\"complex\",\"studio\",\"accenture\",\"leader\",\"levels\",\"goal\",\"logic\",\"acne\",\"plastic\",\"motion\",\"button\",\"peoples\",\"vision\",\"gap\",\"dollar\",\"computers\",\"stomach\",\"sources\",\"constant\",\"draw\",\"dress\",\"calculated\",\"sort\",\"3rd\",\"club\",\"channels\",\"creating\",\"candidates\",\"kejriwal\",\"broke\",\"sentences\",\"format\",\"emails\",\"raw\",\"stanford\",\"completed\",\"documents\",\"pan\",\"showing\",\"enter\",\"unknown\",\"bought\",\"router\",\"claim\",\"six\",\"technologies\",\"\\u20b9\",\"flipkart\",\"infosys\",\"mutual\",\"angry\",\"iits\",\"affected\",\"prices\",\"shares\",\"naruto\",\"processing\",\"finding\",\"democratic\",\"evolution\",\"harmful\",\"dual\",\"virtual\",\"member\",\"wave\",\"actual\",\"extra\",\"radio\",\"citizens\",\"e\",\"hr\",\"previous\",\"stopped\",\"walk\",\"redmi\",\"speaker\",\"torrent\",\"smoke\",\"mistakes\",\"flash\",\"iron\",\"entire\",\"individual\",\"express\",\"flow\",\"mode\",\"aircraft\",\"section\",\"planets\",\"10th\",\"respond\",\"easier\",\"evil\",\"percentile\",\"seeing\",\"calories\",\"upgrade\",\"professor\",\"v\",\"launch\",\"staff\",\"till\",\"silicon\",\"entry\",\"constitution\",\"century\",\"notice\",\"ie\",\"atheists\",\"tests\",\"21\",\"became\",\"kerala\",\"truly\",\"count\",\"essay\",\"papers\",\"accurate\",\"colors\",\"respect\",\"ideal\",\"rock\",\"reliance\",\"peace\",\"masturbation\",\"audio\",\"random\",\"independent\",\"colour\",\"hotels\",\"presidency\",\"generation\",\"paypal\",\"shot\",\"central\",\"released\",\"occur\",\"display\",\"industrial\",\"particular\",\"risk\",\"eg\",\"belly\",\"pet\",\"similarities\",\"organic\",\"marijuana\",\"networks\",\"aspects\",\"flat\",\"d\",\"comments\",\"nose\",\"identify\",\"rbi\",\"improvement\",\"directly\",\"framework\",\"suggestions\",\"designing\",\"brands\",\"religious\",\"influence\",\"novels\",\"statistics\",\"historical\",\"ground\",\"commerce\",\"pregnancy\",\"romantic\",\"failure\",\"wearing\",\"john\",\"apart\",\"bay\",\"symptoms\",\"200\",\"couple\",\"60\",\"canadian\",\"lie\",\"print\",\"carry\",\"gender\",\"experienced\",\"pounds\",\"reservation\",\"either\",\"stage\",\"artificial\",\"fit\",\"blogs\",\"developing\",\"environment\",\"learned\",\"copy\",\"phase\",\"bond\",\"democracy\",\"cgpa\",\"operating\",\"surface\",\"officers\",\"h1b\",\"ip\",\"workout\",\"fee\",\"elected\",\"hands\",\"largest\",\"sad\",\"shouldnt\",\"seat\",\"sister\",\"developers\",\"despite\",\"scene\",\"po\",\"diploma\",\"request\",\"empire\",\"ratio\",\"considering\",\"academic\",\"tree\",\"register\",\"advantage\",\"eligible\",\"nit\",\"shop\",\"intel\",\"funniest\",\"alternative\",\"fail\",\"ads\",\"nature\",\"miss\",\"involved\",\"overrated\",\"attend\",\"freedom\",\"dna\",\"beginners\",\"raise\",\"dry\",\"failed\",\"legally\",\"batman\",\"upload\",\"carbon\",\"regret\",\"applied\",\"points\",\"investors\",\"pick\",\"equivalent\",\"connected\",\"christmas\",\"lyrics\",\"nations\",\"caused\",\"bsc\",\"1st\",\"action\",\"activities\",\"biology\",\"hide\",\"asia\",\"takes\",\"require\",\"alive\",\"mom\",\"cycle\",\"generally\",\"campaign\",\"fair\",\"wake\",\"bit\",\"rules\",\"olympics\",\"racist\",\"areas\",\"eggs\",\"feature\",\"sap\",\"taxes\",\"ad\",\"shall\",\"theyre\",\"species\",\"pilot\",\"firm\",\"fish\",\"define\",\"doctors\",\"piece\",\"itself\",\"bang\",\"solutions\",\"iim\",\"2013\",\"wanted\",\"length\",\"burn\",\"waves\",\"bar\",\"gives\",\"forces\",\"christian\",\"anybody\",\"relationships\",\"nice\",\"wedding\",\"various\",\"brother\",\"films\",\"cream\",\"suddenly\",\"philippines\",\"fashion\",\"truth\",\"gpa\",\"cgl\",\"tall\",\"goa\",\"hacking\",\"statement\",\"reset\",\"materials\",\"played\",\"match\",\"usb\",\"novel\",\"unusual\",\"knowing\",\"selected\",\"valley\",\"chrome\",\"couples\",\"becomes\",\"died\",\"cheating\",\"community\",\"groups\",\"category\",\"pursuing\",\"writer\",\"mexico\",\"anymore\",\"sugar\",\"climate\",\"brown\",\"players\",\"ii\",\"reviews\",\"took\",\"led\",\"connection\",\"begin\",\"html\",\"changing\",\"received\",\"plants\",\"debit\",\"record\",\"revenue\",\"mars\",\"strongest\",\"members\",\"formed\",\"union\",\"thought\",\"existence\",\"kashmir\",\"gandhi\",\"pdf\",\"banned\",\"0\",\"plane\",\"treated\",\"electricity\",\"scale\",\"basis\",\"moral\",\"images\",\"methods\",\"certification\",\"voltage\",\"style\",\"base\",\"excel\",\"amazing\",\"regarding\",\"result\",\"rates\",\"hold\",\"indias\",\"airport\",\"businesses\",\"feet\",\"built\",\"linkedin\",\"signs\",\"above\",\"networking\",\"r\",\"shopping\",\"looks\",\"went\",\"placements\",\"bed\",\"experiences\",\"daughter\",\"tourist\",\"employee\",\"caste\",\"wait\",\"direct\",\"especially\",\"feed\",\"continue\",\"expected\",\"algorithm\",\"depressed\",\"shoes\",\"soon\",\"supply\",\"stress\",\"24\",\"inr\",\"foods\",\"rent\",\"architecture\",\"ban\",\"entrance\",\"actors\",\"messenger\",\"unique\",\"kolkata\",\"funds\",\"rupee\",\"promote\",\"rupees\",\"jews\",\"23\",\"cook\",\"cultural\",\"accepted\",\"hear\",\"glass\",\"road\",\"joining\",\"measure\",\"havent\",\"metal\",\"resume\",\"afraid\",\"turkey\",\"meat\",\"goes\",\"installation\",\"netflix\",\"benefit\",\"demand\",\"release\",\"produce\",\"report\",\"cover\",\"changes\",\"double\",\"2nd\",\"reaction\",\"killed\",\"steel\",\"requirements\",\"france\",\"exchange\",\"ac\",\"quantum\",\"reliable\",\"box\",\"results\",\"lives\",\"treatment\",\"4g\",\"ece\",\"probability\",\"sleeping\",\"philosophy\",\"handle\",\"forget\",\"driver\",\"demonetization\",\"algorithms\",\"trade\",\"rule\",\"muscle\",\"calls\",\"tried\",\"mental\",\"sure\",\"quit\",\"navy\",\"achieve\",\"francisco\",\"location\",\"until\",\"sense\",\"anxiety\",\"wordpress\",\"focus\",\"fact\",\"production\",\"conversation\",\"motor\",\"five\",\"attracted\",\"hit\",\"analyst\",\"moto\",\"isis\",\"chicken\",\"sector\",\"permanent\",\"along\",\"king\",\"slow\",\"candidate\",\"minutes\",\"purchase\",\"gun\",\"selling\",\"usually\",\"\\u2026\",\"fly\",\"round\",\"panel\",\"error\",\"stocks\",\"api\",\"remember\",\"africa\",\"paying\",\"hitler\",\"3d\",\"regular\",\"losing\",\"mail\",\"yahoo\",\"cheapest\",\"older\",\"concept\",\"characters\",\"definition\",\"lines\",\"pm\",\"cloud\",\"cats\",\"russian\",\"ipad\",\"korean\",\"proof\",\"battle\",\"stars\",\"stream\",\"recent\",\"typical\",\"performance\",\"harvard\",\"restaurant\",\"origin\",\"listen\",\"smell\",\"decide\",\"serve\",\"undergraduate\",\"profit\",\"situation\",\"surgery\",\"asking\",\"plant\",\"link\",\"square\",\"completing\",\"four\",\"trust\",\"payment\",\"gym\",\"andor\",\"worklife\",\"guitar\",\"elections\",\"half\",\"investing\",\"scientist\",\"street\",\"needs\",\"native\",\"thoughts\",\"reality\",\"40\",\"medicine\",\"race\",\"choice\",\"longer\",\"came\",\"applying\",\"hiring\",\"west\",\"weed\",\"hacks\",\"step\",\"sea\",\"crime\",\"devices\",\"event\",\"citizen\",\"14\",\"17\",\"ticket\",\"fund\",\"equation\",\"suicide\",\"whom\",\"met\",\"almost\",\"designer\",\"local\",\"departments\",\"khan\",\"customer\",\"banking\",\"javascript\",\"trip\",\"issue\",\"react\",\"cannot\",\"dubai\",\"wall\",\"touch\",\"parts\",\"loves\",\"clothes\",\"straight\",\"sexual\",\"active\",\"inpatient\",\"dreams\",\"protein\",\"table\",\"exercise\",\"lord\",\"mtech\",\"creative\",\"ball\",\"speaking\",\"son\",\"receive\",\"dollars\",\"domain\",\"prospects\",\"hour\",\"graduation\",\"commercial\",\"themselves\",\"factors\",\"jesus\",\"programmer\",\"recommend\",\"replace\",\"chat\",\"placement\",\"episode\",\"fastest\",\"restaurants\",\"object\",\"drivers\",\"gaming\",\"mark\",\"taste\",\"seem\",\"perfect\",\"potential\",\"trumps\",\"appear\",\"rights\",\"equal\",\"rest\",\"package\",\"meant\",\"drop\",\"cool\",\"material\",\"potter\",\"events\",\"convince\",\"completely\",\"n\",\"zero\",\"significance\",\"lower\",\"feelings\",\"followers\",\"evidence\",\"certain\",\"later\",\"original\",\"bible\",\"disorder\",\"testing\",\"via\",\"stand\",\"actor\",\"characteristics\",\"cities\",\"reach\",\"ago\",\"mbbs\",\"speech\",\"electric\",\"approach\",\"scientific\",\"root\",\"analytics\",\"below\",\"grade\",\"mains\",\"topic\",\"fun\",\"ancient\",\"adult\",\"standard\",\"ice\",\"everyday\",\"population\",\"invented\",\"european\",\"intelligent\",\"11\",\"subject\",\"rehab\",\"background\",\"giving\",\"platform\",\"flight\",\"thrones\",\"maths\",\"dc\",\"teeth\",\"mit\",\"weeks\",\"east\",\"means\",\"programs\",\"beginner\",\"heat\",\"third\",\"tea\",\"range\",\"london\",\"maximum\",\"enjoy\",\"2000\",\"cells\",\"quickly\",\"here\",\"expensive\",\"phrase\",\"partner\",\"league\",\"anime\",\"latest\",\"specific\",\"whether\",\"functions\",\"os\",\"fire\",\"saying\",\"secret\",\"13\",\"planet\",\"hole\",\"super\",\"teacher\",\"strong\",\"accounts\",\"minister\",\"database\",\"economic\",\"channel\",\"estate\",\"ram\",\"switch\",\"asian\",\"smoking\",\"branch\",\"israel\",\"18\",\"features\",\"success\",\"lead\",\"total\",\"key\",\"master\",\"ok\",\"favourite\",\"psychology\",\"pok\\u00e9mon\",\"nothing\",\"clean\",\"25\",\"politics\",\"drinking\",\"sometimes\",\"recently\",\"korea\",\"sent\",\"poor\",\"hindu\",\"hollywood\",\"survive\",\"cure\",\"property\",\"return\",\"narendra\",\"budget\",\"sports\",\"limit\",\"arent\",\"boys\",\"driving\",\"whole\",\"cash\",\"smartphone\",\"php\",\"developed\",\"ssc\",\"hot\",\"attractive\",\"tool\",\"physical\",\"ecommerce\",\"sbi\",\"morning\",\"animal\",\"multiple\",\"loan\",\"acid\",\"fresher\",\"spanish\",\"moving\",\"decision\",\"county\",\"determined\",\"becoming\",\"seo\",\"summer\",\"manage\",\"server\",\"competitive\",\"milk\",\"importance\",\"banks\",\"cheap\",\"powerful\",\"issues\",\"penis\",\"according\",\"analysis\",\"bike\",\"position\",\"western\",\"advanced\",\"campus\",\"highest\",\"front\",\"court\",\"status\",\"gravity\",\"positions\",\"comes\",\"steps\",\"complete\",\"electronics\",\"won\",\"hurt\",\"certificate\",\"temperature\",\"player\",\"someones\",\"communication\",\"million\",\"talking\",\"preparing\",\"finance\",\"cancer\",\"9\",\"harry\",\"accept\",\"2014\",\"plus\",\"born\",\"tcs\",\"license\",\"bring\",\"teach\",\"practice\",\"trading\",\"m\",\"might\",\"opportunities\",\"global\",\"wish\",\"outside\",\"attack\",\"procedure\",\"needed\",\"update\",\"coffee\",\"provider\",\"rather\",\"16\",\"allow\",\"tamil\",\"mix\",\"connect\",\"room\",\"watching\",\"deep\",\"york\",\"image\",\"birth\",\"sign\",\"birthday\",\"playing\",\"wars\",\"grads\",\"hire\",\"phones\",\"cbse\",\"details\",\"clear\",\"cricket\",\"dangerous\",\"track\",\"corporate\",\"voice\",\"upsc\",\"content\",\"okay\",\"san\",\"heart\",\"far\",\"heard\",\"prove\",\"positive\",\"moment\",\"sales\",\"opinion\",\"engineers\",\"block\",\"diet\",\"coding\",\"core\",\"baby\",\"father\",\"little\",\"large\",\"blocked\",\"distance\",\"land\",\"simple\",\"husband\",\"told\",\"traffic\",\"prevent\",\"pictures\",\"planning\",\"fear\",\"classes\",\"towards\",\"technical\",\"building\",\"trying\",\"photo\",\"early\",\"uses\",\"sydney\",\"startups\",\"act\",\"id\",\"describe\",\"12th\",\"may\",\"formula\",\"gets\",\"present\",\"wont\",\"cut\",\"treat\",\"mathematics\",\"visiting\",\"eye\",\"policy\",\"close\",\"cse\",\"suitable\",\"version\",\"tools\",\"head\",\"minimum\",\"chennai\",\"easily\",\"method\",\"intelligence\",\"gre\",\"mother\",\"doctor\",\"macbook\",\"deleted\",\"gas\",\"suggest\",\"cards\",\"files\",\"loss\",\"art\",\"easiest\",\"late\",\"among\",\"together\",\"depression\",\"higher\",\"alone\",\"economics\",\"dead\",\"growth\",\"insurance\",\"gold\",\"necessary\",\"neet\",\"blog\",\"example\",\"memory\",\"crack\",\"consider\",\"works\",\"currency\",\"recruit\",\"pursue\",\"strategy\",\"young\",\"cs\",\"projects\",\"50\",\"manager\",\"abroad\",\"schools\",\"illegal\",\"inside\",\"stories\",\"hand\",\"t\",\"greatest\",\"personality\",\"galaxy\",\"device\",\"views\",\"user\",\"chemistry\",\"cars\",\"iq\",\"prefer\",\"picture\",\"nuclear\",\"middle\",\"applications\",\"gmail\",\"laws\",\"final\",\"capital\",\"kids\",\"society\",\"fake\",\"bill\",\"save\",\"though\",\"likely\",\"determine\",\"shows\",\"character\",\"snapchat\",\"youre\",\"eyes\",\"islam\",\"marry\",\"brand\",\"yet\",\"impact\",\"speak\",\"within\",\"rich\",\"resources\",\"net\",\"non\",\"pressure\",\"changed\",\"allowed\",\"obama\",\"cold\",\"running\",\"feeling\",\"jio\",\"football\",\"gift\",\"written\",\"buying\",\"mac\",\"spend\",\"prime\",\"blue\",\"train\",\"studies\",\"negative\",\"thinking\",\"solution\",\"sun\",\"least\",\"following\",\"install\",\"else\",\"muslims\",\"camera\",\"vote\",\"linux\",\"expect\",\"german\",\"recover\",\"starting\",\"crush\",\"coming\",\"muslim\",\"modern\",\"battery\",\"provide\",\"access\",\"presidential\",\"interest\",\"dating\",\"pro\",\"likes\",\"french\",\"singapore\",\"useful\",\"already\",\"professional\",\"percentage\",\"drink\",\"created\",\"board\",\"passport\",\"structure\",\"case\",\"height\",\"microsoft\",\"break\",\"screen\",\"names\",\"chance\",\"special\",\"30\",\"skin\",\"natural\",\"color\",\"interested\",\"amount\",\"pain\",\"healthy\",\"hack\",\"messages\",\"ias\",\"gay\",\"disadvantages\",\"pass\",\"moon\",\"systems\",\"hindi\",\"financial\",\"taken\",\"yes\",\"sim\",\"pregnant\",\"faster\",\"animals\",\"internship\",\"let\",\"photos\",\"balance\",\"sound\",\"due\",\"knowledge\",\"charge\",\"message\",\"officer\",\"solar\",\"military\",\"meet\",\"option\",\"reading\",\"across\",\"overcome\",\"everyone\",\"everything\",\"wife\",\"reduce\",\"chances\",\"samsung\",\"income\",\"bollywood\",\"season\",\"europe\",\"boy\",\"currently\",\"ex\",\"smart\",\"california\",\"engine\",\"paid\",\"army\",\"contact\",\"address\",\"wants\",\"ones\",\"gain\",\"reasons\",\"avoid\",\"please\",\"note\",\"known\",\"pune\",\"film\",\"national\",\"once\",\"users\",\"porn\",\"scope\",\"twitter\",\"drug\",\"rank\",\"japan\",\"fight\",\"transfer\",\"political\",\"green\",\"news\",\"self\",\"uber\",\"basic\",\"british\",\"religion\",\"hyderabad\",\"topics\",\"explain\",\"phd\",\"eating\",\"letter\",\"calculate\",\"ive\",\"tech\",\"personal\",\"japanese\",\"check\",\"hotel\",\"wifi\",\"beautiful\",\"difficult\",\"paper\",\"languages\",\"investment\",\"develop\",\"north\",\"electrical\",\"ios\",\"alcohol\",\"exactly\",\"profile\",\"past\",\"exams\",\"ca\",\"convert\",\"vs\",\"understand\",\"care\",\"dream\",\"try\",\"americans\",\"lost\",\"chemical\",\"source\",\"b\",\"admission\",\"easy\",\"must\",\"three\",\"effect\",\"view\",\"options\",\"page\",\"away\",\"red\",\"said\",\"line\",\"short\",\"happy\",\"security\",\"dark\",\"preparation\",\"second\",\"fat\",\"matter\",\"few\",\"since\",\"role\",\"pc\",\"office\",\"team\",\"delete\",\"cell\",\"election\",\"economy\",\"term\",\"dogs\",\"text\",\"female\",\"effective\",\"brain\",\"share\",\"digital\",\"btech\",\"russia\",\"\\u201c\",\"party\",\"numbers\",\"20\",\"store\",\"male\",\"mass\",\"turn\",\"left\",\"married\",\"rs\",\"taking\",\"those\",\"password\",\"follow\",\"advice\",\"isnt\",\"15\",\"types\",\"network\",\"\\u201d\",\"week\",\"purpose\",\"related\",\"fix\",\"started\",\"courses\",\"masters\",\"grow\",\"8\",\"fast\",\"leave\",\"100\",\"often\",\"found\",\"pros\",\"marriage\",\"cons\",\"quality\",\"words\",\"kill\",\"price\",\"near\",\"modi\",\"enough\",\"search\",\"python\",\"x\",\"blood\",\"math\",\"yourself\",\"drive\",\"size\",\"star\",\"graduate\",\"majors\",\"500\",\"model\",\"studying\",\"general\",\"oil\",\"colleges\",\"area\",\"developer\",\"germany\",\"industry\",\"full\",\"training\",\"says\",\"period\",\"videos\",\"universe\",\"fall\",\"daily\",\"information\",\"foreign\",\"credit\",\"force\",\"12\",\"youve\",\"south\",\"offer\",\"set\",\"add\",\"send\",\"australia\",\"center\",\"1000\",\"famous\",\"2015\",\"lot\",\"function\",\"tax\",\"correct\",\"solve\",\"advantages\",\"coaching\",\"institute\",\"effects\",\"guys\",\"again\",\"group\",\"hours\",\"side\",\"sentence\",\"low\",\"similar\",\"plan\",\"children\",\"answers\",\"talk\",\"marks\",\"ideas\",\"theory\",\"death\",\"compared\",\"night\",\"remove\",\"dog\",\"anything\",\"single\",\"successful\",\"gate\",\"indians\",\"put\",\"problems\",\"move\",\"writing\",\"point\",\"invest\",\"asked\",\"biggest\",\"others\",\"stock\",\"notes\",\"story\",\"machine\",\"private\",\"sell\",\"seen\",\"required\",\"field\",\"file\",\"rate\",\"humans\",\"application\",\"face\",\"sites\",\"mind\",\"facts\",\"mumbai\",\"post\",\"stay\",\"child\",\"terms\",\"products\",\"control\",\"legal\",\"police\",\"didnt\",\"level\",\"worst\",\"hate\",\"visit\",\"called\",\"amazon\",\"causes\",\"health\",\"form\",\"physics\",\"iit\",\"skills\",\"times\",\"medical\",\"based\",\"list\",\"websites\",\"die\",\"part\",\"less\",\"benefits\",\"apple\",\"instead\",\"these\",\"boyfriend\",\"sleep\",\"canada\",\"reason\",\"education\",\"cause\",\"jee\",\"value\",\"today\",\"media\",\"public\",\"happened\",\"product\",\"research\",\"main\",\"behind\",\"international\",\"project\",\"uk\",\"differ\",\"7\",\"places\",\"wear\",\"order\",\"date\",\"etc\",\"small\",\"songs\",\"apps\",\"email\",\"given\",\"wrong\",\"site\",\"normal\",\"culture\",\"also\",\"civil\",\"city\",\"available\",\"house\",\"exist\",\"startup\",\"services\",\"ms\",\"both\",\"down\",\"2017\",\"run\",\"cat\",\"well\",\"space\",\"join\",\"deal\",\"games\",\"visa\",\"rid\",\"air\",\"speed\",\"popular\",\"problem\",\"support\",\"current\",\"pakistan\",\"choose\",\"build\",\"idea\",\"america\",\"whatsapp\",\"affect\",\"law\",\"technology\",\"call\",\"6\",\"universities\",\"family\",\"marketing\",\"major\",\"actually\",\"favorite\",\"light\",\"bangalore\",\"woman\",\"because\",\"type\",\"program\",\"looking\",\"living\",\"open\",\"believe\",\"month\",\"able\",\"management\",\"travel\",\"degree\",\"show\",\"interesting\",\"score\",\"months\",\"series\",\"chinese\",\"development\",\"end\",\"code\",\"design\",\"per\",\"employees\",\"review\",\"clinton\",\"common\",\"kind\",\"internet\",\"song\",\"download\",\"course\",\"parents\",\"jobs\",\"such\",\"increase\",\"java\",\"god\",\"another\",\"united\",\"girlfriend\",\"mechanical\",\"always\",\"next\",\"never\",\"around\",\"tips\",\"mba\",\"myself\",\"hillary\",\"apply\",\"answer\",\"something\",\"considered\",\"making\",\"differences\",\"market\",\"compare\",\"great\",\"keep\",\"test\",\"s\",\"win\",\"against\",\"states\",\"earn\",\"youtube\",\"worth\",\"delhi\",\"energy\",\"laptop\",\"american\",\"lose\",\"each\",\"hard\",\"makes\",\"age\",\"ask\",\"safe\",\"body\",\"power\",\"salary\",\"4\",\"watch\",\"white\",\"windows\",\"instagram\",\"history\",\"pay\",\"every\",\"last\",\"create\",\"relationship\",\"music\",\"too\",\"meaning\",\"state\",\"average\",\"earth\",\"got\",\"process\",\"class\",\"tv\",\"eat\",\"done\",\"happens\",\"days\",\"big\",\"off\",\"improve\",\"future\",\"place\",\"man\",\"human\",\"government\",\"play\",\"countries\",\"food\",\"service\",\"students\",\"weight\",\"game\",\"engineer\",\"write\",\"very\",\"interview\",\"web\",\"tell\",\"social\",\"girls\",\"video\",\"look\",\"having\",\"guy\",\"home\",\"hair\",\"usa\",\"doesnt\",\"word\",\"bank\",\"friend\",\"true\",\"experience\",\"career\",\"president\",\"question\",\"own\",\"china\",\"come\",\"under\",\"working\",\"him\",\"doing\",\"donald\",\"friends\",\"right\",\"5\",\"cost\",\"mobile\",\"even\",\"movies\",\"then\",\"c\",\"\\u2019\",\"exam\",\"men\",\"learning\",\"card\",\"war\",\"read\",\"programming\",\"black\",\"anyone\",\"high\",\"10\",\"companies\",\"car\",\"getting\",\"give\",\"important\",\"questions\",\"cant\",\"iphone\",\"website\",\"top\",\"water\",\"prepare\",\"during\",\"real\",\"say\",\"system\",\"name\",\"through\",\"two\",\"1\",\"our\",\"study\",\"3\",\"university\",\"made\",\"back\",\"happen\",\"stop\",\"student\",\"sex\",\"bad\",\"language\",\"going\",\"same\",\"before\",\"software\",\"school\",\"live\",\"country\",\"android\",\"science\",\"help\",\"she\",\"see\",\"thing\",\"women\",\"over\",\"data\",\"examples\",\"computer\",\"had\",\"ways\",\"change\",\"while\",\"book\",\"english\",\"account\",\"still\",\"movie\",\"books\",\"2016\",\"facebook\",\"free\",\"number\",\"college\",\"app\",\"2\",\"just\",\"now\",\"no\",\"trump\",\"company\",\"only\",\"old\",\"been\",\"google\",\"phone\",\"long\",\"different\",\"girl\",\"his\",\"her\",\"years\",\"really\",\"them\",\"using\",\"business\",\"need\",\"being\",\"buy\",\"day\",\"person\",\"things\",\"possible\",\"could\",\"were\",\"its\",\"love\",\"engineering\",\"im\",\"used\",\"online\",\"go\",\"year\",\"he\",\"into\",\"feel\",\"dont\",\"first\",\"up\"]]]}}},\"view\":{\"type\":\"object\",\"name\":\"CDSView\",\"id\":\"p1045\",\"attributes\":{\"filter\":{\"type\":\"object\",\"name\":\"AllIndices\",\"id\":\"p1046\"}}},\"glyph\":{\"type\":\"object\",\"name\":\"Scatter\",\"id\":\"p1041\",\"attributes\":{\"x\":{\"type\":\"field\",\"field\":\"x\"},\"y\":{\"type\":\"field\",\"field\":\"y\"},\"size\":{\"type\":\"value\",\"value\":10},\"line_color\":{\"type\":\"field\",\"field\":\"color\"},\"line_alpha\":{\"type\":\"value\",\"value\":0.25},\"fill_color\":{\"type\":\"field\",\"field\":\"color\"},\"fill_alpha\":{\"type\":\"value\",\"value\":0.25},\"hatch_color\":{\"type\":\"field\",\"field\":\"color\"},\"hatch_alpha\":{\"type\":\"value\",\"value\":0.25}}},\"nonselection_glyph\":{\"type\":\"object\",\"name\":\"Scatter\",\"id\":\"p1042\",\"attributes\":{\"x\":{\"type\":\"field\",\"field\":\"x\"},\"y\":{\"type\":\"field\",\"field\":\"y\"},\"size\":{\"type\":\"value\",\"value\":10},\"line_color\":{\"type\":\"field\",\"field\":\"color\"},\"line_alpha\":{\"type\":\"value\",\"value\":0.1},\"fill_color\":{\"type\":\"field\",\"field\":\"color\"},\"fill_alpha\":{\"type\":\"value\",\"value\":0.1},\"hatch_color\":{\"type\":\"field\",\"field\":\"color\"},\"hatch_alpha\":{\"type\":\"value\",\"value\":0.1}}},\"muted_glyph\":{\"type\":\"object\",\"name\":\"Scatter\",\"id\":\"p1043\",\"attributes\":{\"x\":{\"type\":\"field\",\"field\":\"x\"},\"y\":{\"type\":\"field\",\"field\":\"y\"},\"size\":{\"type\":\"value\",\"value\":10},\"line_color\":{\"type\":\"field\",\"field\":\"color\"},\"line_alpha\":{\"type\":\"value\",\"value\":0.2},\"fill_color\":{\"type\":\"field\",\"field\":\"color\"},\"fill_alpha\":{\"type\":\"value\",\"value\":0.2},\"hatch_color\":{\"type\":\"field\",\"field\":\"color\"},\"hatch_alpha\":{\"type\":\"value\",\"value\":0.2}}}}}],\"toolbar\":{\"type\":\"object\",\"name\":\"Toolbar\",\"id\":\"p1012\",\"attributes\":{\"tools\":[{\"type\":\"object\",\"name\":\"PanTool\",\"id\":\"p1025\"},{\"type\":\"object\",\"name\":\"WheelZoomTool\",\"id\":\"p1026\",\"attributes\":{\"renderers\":\"auto\"}},{\"type\":\"object\",\"name\":\"BoxZoomTool\",\"id\":\"p1027\",\"attributes\":{\"overlay\":{\"type\":\"object\",\"name\":\"BoxAnnotation\",\"id\":\"p1028\",\"attributes\":{\"syncable\":false,\"line_color\":\"black\",\"line_alpha\":1.0,\"line_width\":2,\"line_dash\":[4,4],\"fill_color\":\"lightgrey\",\"fill_alpha\":0.5,\"level\":\"overlay\",\"visible\":false,\"left\":{\"type\":\"number\",\"value\":\"nan\"},\"right\":{\"type\":\"number\",\"value\":\"nan\"},\"top\":{\"type\":\"number\",\"value\":\"nan\"},\"bottom\":{\"type\":\"number\",\"value\":\"nan\"},\"left_units\":\"canvas\",\"right_units\":\"canvas\",\"top_units\":\"canvas\",\"bottom_units\":\"canvas\",\"handles\":{\"type\":\"object\",\"name\":\"BoxInteractionHandles\",\"id\":\"p1034\",\"attributes\":{\"all\":{\"type\":\"object\",\"name\":\"AreaVisuals\",\"id\":\"p1033\",\"attributes\":{\"fill_color\":\"white\",\"hover_fill_color\":\"lightgray\"}}}}}}}},{\"type\":\"object\",\"name\":\"SaveTool\",\"id\":\"p1035\"},{\"type\":\"object\",\"name\":\"ResetTool\",\"id\":\"p1036\"},{\"type\":\"object\",\"name\":\"HelpTool\",\"id\":\"p1037\"},{\"type\":\"object\",\"name\":\"HoverTool\",\"id\":\"p1047\",\"attributes\":{\"renderers\":\"auto\",\"tooltips\":[[\"token\",\"@token\"]]}}],\"active_scroll\":{\"id\":\"p1026\"}}},\"left\":[{\"type\":\"object\",\"name\":\"LinearAxis\",\"id\":\"p1020\",\"attributes\":{\"ticker\":{\"type\":\"object\",\"name\":\"BasicTicker\",\"id\":\"p1021\",\"attributes\":{\"mantissas\":[1,2,5]}},\"formatter\":{\"type\":\"object\",\"name\":\"BasicTickFormatter\",\"id\":\"p1022\"},\"major_label_policy\":{\"type\":\"object\",\"name\":\"AllLabels\",\"id\":\"p1023\"}}}],\"below\":[{\"type\":\"object\",\"name\":\"LinearAxis\",\"id\":\"p1015\",\"attributes\":{\"ticker\":{\"type\":\"object\",\"name\":\"BasicTicker\",\"id\":\"p1016\",\"attributes\":{\"mantissas\":[1,2,5]}},\"formatter\":{\"type\":\"object\",\"name\":\"BasicTickFormatter\",\"id\":\"p1017\"},\"major_label_policy\":{\"type\":\"object\",\"name\":\"AllLabels\",\"id\":\"p1018\"}}}],\"center\":[{\"type\":\"object\",\"name\":\"Grid\",\"id\":\"p1019\",\"attributes\":{\"axis\":{\"id\":\"p1015\"}}},{\"type\":\"object\",\"name\":\"Grid\",\"id\":\"p1024\",\"attributes\":{\"dimension\":1,\"axis\":{\"id\":\"p1020\"}}}]}}]}};\n  const render_items = [{\"docid\":\"9fea2a18-603f-482a-b480-2a64cc5ccd73\",\"roots\":{\"p1004\":\"ba824115-f27b-491b-9436-d4399ee70181\"},\"root_ids\":[\"p1004\"]}];\n  void root.Bokeh.embed.embed_items_notebook(docs_json, render_items);\n  }\n  if (root.Bokeh !== undefined) {\n    embed_document(root);\n  } else {\n    let attempts = 0;\n    const timer = setInterval(function(root) {\n      if (root.Bokeh !== undefined) {\n        clearInterval(timer);\n        embed_document(root);\n      } else {\n        attempts++;\n        if (attempts > 100) {\n          clearInterval(timer);\n          console.log(\"Bokeh: ERROR: Unable to run BokehJS code because BokehJS library is missing\");\n        }\n      }\n    }, 10, root)\n  }\n})(window);",
      "application/vnd.bokehjs_exec.v0+json": ""
     },
     "metadata": {
      "application/vnd.bokehjs_exec.v0+json": {
       "id": "p1004"
      }
     },
     "output_type": "display_data"
    },
    {
     "data": {
      "text/html": [
       "<div style=\"display: table;\"><div style=\"display: table-row;\"><div style=\"display: table-cell;\"><b title=\"bokeh.plotting._figure.figure\">figure</b>(</div><div style=\"display: table-cell;\">id&nbsp;=&nbsp;'p1004', <span id=\"p1051\" style=\"cursor: pointer;\">&hellip;)</span></div></div><div class=\"p1050\" style=\"display: none;\"><div style=\"display: table-cell;\"></div><div style=\"display: table-cell;\">above&nbsp;=&nbsp;[],</div></div><div class=\"p1050\" style=\"display: none;\"><div style=\"display: table-cell;\"></div><div style=\"display: table-cell;\">align&nbsp;=&nbsp;'auto',</div></div><div class=\"p1050\" style=\"display: none;\"><div style=\"display: table-cell;\"></div><div style=\"display: table-cell;\">aspect_ratio&nbsp;=&nbsp;None,</div></div><div class=\"p1050\" style=\"display: none;\"><div style=\"display: table-cell;\"></div><div style=\"display: table-cell;\">aspect_scale&nbsp;=&nbsp;1,</div></div><div class=\"p1050\" style=\"display: none;\"><div style=\"display: table-cell;\"></div><div style=\"display: table-cell;\">attribution&nbsp;=&nbsp;[],</div></div><div class=\"p1050\" style=\"display: none;\"><div style=\"display: table-cell;\"></div><div style=\"display: table-cell;\">background_fill_alpha&nbsp;=&nbsp;1.0,</div></div><div class=\"p1050\" style=\"display: none;\"><div style=\"display: table-cell;\"></div><div style=\"display: table-cell;\">background_fill_color&nbsp;=&nbsp;'#ffffff',</div></div><div class=\"p1050\" style=\"display: none;\"><div style=\"display: table-cell;\"></div><div style=\"display: table-cell;\">below&nbsp;=&nbsp;[LinearAxis(id='p1015', ...)],</div></div><div class=\"p1050\" style=\"display: none;\"><div style=\"display: table-cell;\"></div><div style=\"display: table-cell;\">border_fill_alpha&nbsp;=&nbsp;1.0,</div></div><div class=\"p1050\" style=\"display: none;\"><div style=\"display: table-cell;\"></div><div style=\"display: table-cell;\">border_fill_color&nbsp;=&nbsp;'#ffffff',</div></div><div class=\"p1050\" style=\"display: none;\"><div style=\"display: table-cell;\"></div><div style=\"display: table-cell;\">center&nbsp;=&nbsp;[Grid(id='p1019', ...), Grid(id='p1024', ...)],</div></div><div class=\"p1050\" style=\"display: none;\"><div style=\"display: table-cell;\"></div><div style=\"display: table-cell;\">context_menu&nbsp;=&nbsp;None,</div></div><div class=\"p1050\" style=\"display: none;\"><div style=\"display: table-cell;\"></div><div style=\"display: table-cell;\">css_classes&nbsp;=&nbsp;[],</div></div><div class=\"p1050\" style=\"display: none;\"><div style=\"display: table-cell;\"></div><div style=\"display: table-cell;\">css_variables&nbsp;=&nbsp;{},</div></div><div class=\"p1050\" style=\"display: none;\"><div style=\"display: table-cell;\"></div><div style=\"display: table-cell;\">disabled&nbsp;=&nbsp;False,</div></div><div class=\"p1050\" style=\"display: none;\"><div style=\"display: table-cell;\"></div><div style=\"display: table-cell;\">elements&nbsp;=&nbsp;[],</div></div><div class=\"p1050\" style=\"display: none;\"><div style=\"display: table-cell;\"></div><div style=\"display: table-cell;\">extra_x_ranges&nbsp;=&nbsp;{},</div></div><div class=\"p1050\" style=\"display: none;\"><div style=\"display: table-cell;\"></div><div style=\"display: table-cell;\">extra_x_scales&nbsp;=&nbsp;{},</div></div><div class=\"p1050\" style=\"display: none;\"><div style=\"display: table-cell;\"></div><div style=\"display: table-cell;\">extra_y_ranges&nbsp;=&nbsp;{},</div></div><div class=\"p1050\" style=\"display: none;\"><div style=\"display: table-cell;\"></div><div style=\"display: table-cell;\">extra_y_scales&nbsp;=&nbsp;{},</div></div><div class=\"p1050\" style=\"display: none;\"><div style=\"display: table-cell;\"></div><div style=\"display: table-cell;\">flow_mode&nbsp;=&nbsp;'block',</div></div><div class=\"p1050\" style=\"display: none;\"><div style=\"display: table-cell;\"></div><div style=\"display: table-cell;\">frame_align&nbsp;=&nbsp;True,</div></div><div class=\"p1050\" style=\"display: none;\"><div style=\"display: table-cell;\"></div><div style=\"display: table-cell;\">frame_height&nbsp;=&nbsp;None,</div></div><div class=\"p1050\" style=\"display: none;\"><div style=\"display: table-cell;\"></div><div style=\"display: table-cell;\">frame_width&nbsp;=&nbsp;None,</div></div><div class=\"p1050\" style=\"display: none;\"><div style=\"display: table-cell;\"></div><div style=\"display: table-cell;\">height&nbsp;=&nbsp;400,</div></div><div class=\"p1050\" style=\"display: none;\"><div style=\"display: table-cell;\"></div><div style=\"display: table-cell;\">height_policy&nbsp;=&nbsp;'auto',</div></div><div class=\"p1050\" style=\"display: none;\"><div style=\"display: table-cell;\"></div><div style=\"display: table-cell;\">hidpi&nbsp;=&nbsp;True,</div></div><div class=\"p1050\" style=\"display: none;\"><div style=\"display: table-cell;\"></div><div style=\"display: table-cell;\">hold_render&nbsp;=&nbsp;False,</div></div><div class=\"p1050\" style=\"display: none;\"><div style=\"display: table-cell;\"></div><div style=\"display: table-cell;\">js_event_callbacks&nbsp;=&nbsp;{},</div></div><div class=\"p1050\" style=\"display: none;\"><div style=\"display: table-cell;\"></div><div style=\"display: table-cell;\">js_property_callbacks&nbsp;=&nbsp;{},</div></div><div class=\"p1050\" style=\"display: none;\"><div style=\"display: table-cell;\"></div><div style=\"display: table-cell;\">left&nbsp;=&nbsp;[LinearAxis(id='p1020', ...)],</div></div><div class=\"p1050\" style=\"display: none;\"><div style=\"display: table-cell;\"></div><div style=\"display: table-cell;\">lod_factor&nbsp;=&nbsp;10,</div></div><div class=\"p1050\" style=\"display: none;\"><div style=\"display: table-cell;\"></div><div style=\"display: table-cell;\">lod_interval&nbsp;=&nbsp;300,</div></div><div class=\"p1050\" style=\"display: none;\"><div style=\"display: table-cell;\"></div><div style=\"display: table-cell;\">lod_threshold&nbsp;=&nbsp;2000,</div></div><div class=\"p1050\" style=\"display: none;\"><div style=\"display: table-cell;\"></div><div style=\"display: table-cell;\">lod_timeout&nbsp;=&nbsp;500,</div></div><div class=\"p1050\" style=\"display: none;\"><div style=\"display: table-cell;\"></div><div style=\"display: table-cell;\">margin&nbsp;=&nbsp;None,</div></div><div class=\"p1050\" style=\"display: none;\"><div style=\"display: table-cell;\"></div><div style=\"display: table-cell;\">match_aspect&nbsp;=&nbsp;False,</div></div><div class=\"p1050\" style=\"display: none;\"><div style=\"display: table-cell;\"></div><div style=\"display: table-cell;\">max_height&nbsp;=&nbsp;None,</div></div><div class=\"p1050\" style=\"display: none;\"><div style=\"display: table-cell;\"></div><div style=\"display: table-cell;\">max_width&nbsp;=&nbsp;None,</div></div><div class=\"p1050\" style=\"display: none;\"><div style=\"display: table-cell;\"></div><div style=\"display: table-cell;\">min_border&nbsp;=&nbsp;5,</div></div><div class=\"p1050\" style=\"display: none;\"><div style=\"display: table-cell;\"></div><div style=\"display: table-cell;\">min_border_bottom&nbsp;=&nbsp;None,</div></div><div class=\"p1050\" style=\"display: none;\"><div style=\"display: table-cell;\"></div><div style=\"display: table-cell;\">min_border_left&nbsp;=&nbsp;None,</div></div><div class=\"p1050\" style=\"display: none;\"><div style=\"display: table-cell;\"></div><div style=\"display: table-cell;\">min_border_right&nbsp;=&nbsp;None,</div></div><div class=\"p1050\" style=\"display: none;\"><div style=\"display: table-cell;\"></div><div style=\"display: table-cell;\">min_border_top&nbsp;=&nbsp;None,</div></div><div class=\"p1050\" style=\"display: none;\"><div style=\"display: table-cell;\"></div><div style=\"display: table-cell;\">min_height&nbsp;=&nbsp;None,</div></div><div class=\"p1050\" style=\"display: none;\"><div style=\"display: table-cell;\"></div><div style=\"display: table-cell;\">min_width&nbsp;=&nbsp;None,</div></div><div class=\"p1050\" style=\"display: none;\"><div style=\"display: table-cell;\"></div><div style=\"display: table-cell;\">name&nbsp;=&nbsp;None,</div></div><div class=\"p1050\" style=\"display: none;\"><div style=\"display: table-cell;\"></div><div style=\"display: table-cell;\">outline_line_alpha&nbsp;=&nbsp;1.0,</div></div><div class=\"p1050\" style=\"display: none;\"><div style=\"display: table-cell;\"></div><div style=\"display: table-cell;\">outline_line_cap&nbsp;=&nbsp;'butt',</div></div><div class=\"p1050\" style=\"display: none;\"><div style=\"display: table-cell;\"></div><div style=\"display: table-cell;\">outline_line_color&nbsp;=&nbsp;'#e5e5e5',</div></div><div class=\"p1050\" style=\"display: none;\"><div style=\"display: table-cell;\"></div><div style=\"display: table-cell;\">outline_line_dash&nbsp;=&nbsp;[],</div></div><div class=\"p1050\" style=\"display: none;\"><div style=\"display: table-cell;\"></div><div style=\"display: table-cell;\">outline_line_dash_offset&nbsp;=&nbsp;0,</div></div><div class=\"p1050\" style=\"display: none;\"><div style=\"display: table-cell;\"></div><div style=\"display: table-cell;\">outline_line_join&nbsp;=&nbsp;'bevel',</div></div><div class=\"p1050\" style=\"display: none;\"><div style=\"display: table-cell;\"></div><div style=\"display: table-cell;\">outline_line_width&nbsp;=&nbsp;1,</div></div><div class=\"p1050\" style=\"display: none;\"><div style=\"display: table-cell;\"></div><div style=\"display: table-cell;\">output_backend&nbsp;=&nbsp;'canvas',</div></div><div class=\"p1050\" style=\"display: none;\"><div style=\"display: table-cell;\"></div><div style=\"display: table-cell;\">renderers&nbsp;=&nbsp;[GlyphRenderer(id='p1044', ...)],</div></div><div class=\"p1050\" style=\"display: none;\"><div style=\"display: table-cell;\"></div><div style=\"display: table-cell;\">reset_policy&nbsp;=&nbsp;'standard',</div></div><div class=\"p1050\" style=\"display: none;\"><div style=\"display: table-cell;\"></div><div style=\"display: table-cell;\">resizable&nbsp;=&nbsp;False,</div></div><div class=\"p1050\" style=\"display: none;\"><div style=\"display: table-cell;\"></div><div style=\"display: table-cell;\">right&nbsp;=&nbsp;[],</div></div><div class=\"p1050\" style=\"display: none;\"><div style=\"display: table-cell;\"></div><div style=\"display: table-cell;\">sizing_mode&nbsp;=&nbsp;None,</div></div><div class=\"p1050\" style=\"display: none;\"><div style=\"display: table-cell;\"></div><div style=\"display: table-cell;\">styles&nbsp;=&nbsp;{},</div></div><div class=\"p1050\" style=\"display: none;\"><div style=\"display: table-cell;\"></div><div style=\"display: table-cell;\">stylesheets&nbsp;=&nbsp;[],</div></div><div class=\"p1050\" style=\"display: none;\"><div style=\"display: table-cell;\"></div><div style=\"display: table-cell;\">subscribed_events&nbsp;=&nbsp;PropertyValueSet(),</div></div><div class=\"p1050\" style=\"display: none;\"><div style=\"display: table-cell;\"></div><div style=\"display: table-cell;\">syncable&nbsp;=&nbsp;True,</div></div><div class=\"p1050\" style=\"display: none;\"><div style=\"display: table-cell;\"></div><div style=\"display: table-cell;\">tags&nbsp;=&nbsp;[],</div></div><div class=\"p1050\" style=\"display: none;\"><div style=\"display: table-cell;\"></div><div style=\"display: table-cell;\">title&nbsp;=&nbsp;Title(id='p1011', ...),</div></div><div class=\"p1050\" style=\"display: none;\"><div style=\"display: table-cell;\"></div><div style=\"display: table-cell;\">title_location&nbsp;=&nbsp;'above',</div></div><div class=\"p1050\" style=\"display: none;\"><div style=\"display: table-cell;\"></div><div style=\"display: table-cell;\">toolbar&nbsp;=&nbsp;Toolbar(id='p1012', ...),</div></div><div class=\"p1050\" style=\"display: none;\"><div style=\"display: table-cell;\"></div><div style=\"display: table-cell;\">toolbar_inner&nbsp;=&nbsp;False,</div></div><div class=\"p1050\" style=\"display: none;\"><div style=\"display: table-cell;\"></div><div style=\"display: table-cell;\">toolbar_location&nbsp;=&nbsp;'right',</div></div><div class=\"p1050\" style=\"display: none;\"><div style=\"display: table-cell;\"></div><div style=\"display: table-cell;\">toolbar_sticky&nbsp;=&nbsp;True,</div></div><div class=\"p1050\" style=\"display: none;\"><div style=\"display: table-cell;\"></div><div style=\"display: table-cell;\">visible&nbsp;=&nbsp;True,</div></div><div class=\"p1050\" style=\"display: none;\"><div style=\"display: table-cell;\"></div><div style=\"display: table-cell;\">width&nbsp;=&nbsp;600,</div></div><div class=\"p1050\" style=\"display: none;\"><div style=\"display: table-cell;\"></div><div style=\"display: table-cell;\">width_policy&nbsp;=&nbsp;'auto',</div></div><div class=\"p1050\" style=\"display: none;\"><div style=\"display: table-cell;\"></div><div style=\"display: table-cell;\">x_range&nbsp;=&nbsp;DataRange1d(id='p1005', ...),</div></div><div class=\"p1050\" style=\"display: none;\"><div style=\"display: table-cell;\"></div><div style=\"display: table-cell;\">x_scale&nbsp;=&nbsp;LinearScale(id='p1013', ...),</div></div><div class=\"p1050\" style=\"display: none;\"><div style=\"display: table-cell;\"></div><div style=\"display: table-cell;\">y_range&nbsp;=&nbsp;DataRange1d(id='p1006', ...),</div></div><div class=\"p1050\" style=\"display: none;\"><div style=\"display: table-cell;\"></div><div style=\"display: table-cell;\">y_scale&nbsp;=&nbsp;LinearScale(id='p1014', ...))</div></div></div>\n",
       "<script>\n",
       "(function() {\n",
       "  let expanded = false;\n",
       "  const ellipsis = document.getElementById(\"p1051\");\n",
       "  ellipsis.addEventListener(\"click\", function() {\n",
       "    const rows = document.getElementsByClassName(\"p1050\");\n",
       "    for (let i = 0; i < rows.length; i++) {\n",
       "      const el = rows[i];\n",
       "      el.style.display = expanded ? \"none\" : \"table-row\";\n",
       "    }\n",
       "    ellipsis.innerHTML = expanded ? \"&hellip;)\" : \"&lsaquo;&lsaquo;&lsaquo;\";\n",
       "    expanded = !expanded;\n",
       "  });\n",
       "})();\n",
       "</script>\n"
      ],
      "text/plain": [
       "figure(id='p1004', ...)"
      ]
     },
     "execution_count": 138,
     "metadata": {},
     "output_type": "execute_result"
    }
   ],
   "source": [
    "draw_vectors(embedding[:, 0], embedding[:, 1], token=top_words)"
   ]
  },
  {
   "cell_type": "markdown",
   "metadata": {},
   "source": [
    "Для сдачи задания необходимо загрузить функции `subsample_frequent_words` и `get_negative_sampling_prob`, а также сгенерировать файл для посылки ниже и приложить в соответствующую задачу. Успехов!"
   ]
  },
  {
   "cell_type": "code",
   "execution_count": 139,
   "metadata": {},
   "outputs": [
    {
     "name": "stdout",
     "output_type": "stream",
     "text": [
      "File saved to `submission_dict.json`\n"
     ]
    }
   ],
   "source": [
    "# do not change the code in the block below\n",
    "# __________start of block__________\n",
    "import os\n",
    "import json\n",
    "\n",
    "# Этот код проверяет, существует ли файл words_subset.txt в текущем рабочем каталоге. \n",
    "# Если файла нет, генерируется ошибка с сообщением о том, что файл необходимо загрузить и разместить в нужной директории.\n",
    "assert os.path.exists(\n",
    "    \"words_subset.txt\"\n",
    "), \"Please, download `words_subset.txt` and place it in the working directory\"\n",
    "\n",
    "# Здесь файл words_subset.txt открывается для чтения. \n",
    "# Содержимое файла считывается и разбивается на строки, создавая список selected_words, который содержит слова, перечисленные в файле. \n",
    "# Каждое слово будет находиться в отдельном элементе списка.\n",
    "with open(\"words_subset.txt\") as iofile:\n",
    "    selected_words = iofile.read().split(\"\\n\")\n",
    "\n",
    "# Функция get_matrix_for_selected_words выполняет следующие действия:\n",
    "# Входные параметры:\n",
    "# selected_words: список слов, для которых нужно получить векторы.\n",
    "# embedding_matrix: матрица векторов слов (размерностью num_words x embedding_dimension).\n",
    "# word_to_index: словарь, который связывает слова с их индексами в матрице векторов.\n",
    "\n",
    "# Логика работы:\n",
    "# Создается пустой список word_vectors для хранения векторов слов.\n",
    "# Для каждого слова из selected_words:\n",
    "# Получается его индекс из word_to_index. Если слово не найдено, используется None.\n",
    "# Инициализируется вектор, состоящий из нулей, длина которого равна размерности векторов в embedding_matrix.\n",
    "# Если индекс слова найден (не None), то вектор обновляется значениями из embedding_matrix для этого слова, и он преобразуется в список с помощью numpy().tolist().\n",
    "# Вектор добавляется в список word_vectors.\n",
    "# В конце функция возвращает список векторов word_vectors.\n",
    "def get_matrix_for_selected_words(selected_words, embedding_matrix, word_to_index):\n",
    "    word_vectors = []\n",
    "    for word in selected_words:\n",
    "        index = word_to_index.get(word, None)\n",
    "        vector = [0.0] * embedding_matrix.shape[1]\n",
    "        if index is not None:\n",
    "            vector = embedding_matrix[index].numpy().tolist()\n",
    "        word_vectors.append(vector)\n",
    "    return word_vectors\n",
    "\n",
    "\n",
    "word_vectors = get_matrix_for_selected_words(\n",
    "    selected_words, embedding_matrix_context, word_to_index\n",
    ")\n",
    "\n",
    "with open(\"submission_dict.json\", \"w\") as iofile:\n",
    "    json.dump(word_vectors, iofile)\n",
    "print(\"File saved to `submission_dict.json`\")\n",
    "# __________end of block__________"
   ]
  }
 ],
 "metadata": {
  "colab": {
   "provenance": []
  },
  "kernelspec": {
   "display_name": "my_env",
   "language": "python",
   "name": "python3"
  },
  "language_info": {
   "codemirror_mode": {
    "name": "ipython",
    "version": 3
   },
   "file_extension": ".py",
   "mimetype": "text/x-python",
   "name": "python",
   "nbconvert_exporter": "python",
   "pygments_lexer": "ipython3",
   "version": "3.12.7"
  }
 },
 "nbformat": 4,
 "nbformat_minor": 0
}
