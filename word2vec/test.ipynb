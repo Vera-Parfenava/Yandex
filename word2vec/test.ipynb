{
 "cells": [
  {
   "cell_type": "code",
   "execution_count": 1,
   "metadata": {},
   "outputs": [],
   "source": [
    "def subsample_frequent_words(word_count_dict, threshold=1e-5):\n",
    "  \n",
    "    # Общее количество слов в словаре\n",
    "    total_count = sum(word_count_dict.values())\n",
    "    \n",
    "    # Нормализуем частоты слов, чтобы получить вероятности\n",
    "    word_freq = {word: count / total_count for word, count in word_count_dict.items()}\n",
    "\n",
    "    keep_prob_dict = {\n",
    "        word: max(0, 1 - (threshold / freq) ** 0.5) if freq > threshold else 1.0\n",
    "        for word, freq in word_freq.items()\n",
    "    }  \n",
    "    return keep_prob_dict"
   ]
  },
  {
   "cell_type": "code",
   "execution_count": 3,
   "metadata": {},
   "outputs": [],
   "source": [
    "def get_negative_sampling_prob(word_count_dict):\n",
    "\n",
    "   # Вычисляем частоты слов с учетом степени 3/4\n",
    "    adjusted_freq = {word: count ** (3/4) for word, count in word_count_dict.items()}\n",
    "    \n",
    "    # Нормируем частоты, чтобы сумма была равна 1\n",
    "    total_adjusted_freq = sum(adjusted_freq.values())\n",
    "    \n",
    "    negative_sampling_prob_dict = {\n",
    "        word: freq / total_adjusted_freq for word, freq in adjusted_freq.items()\n",
    "    } \n",
    "    return negative_sampling_prob_dict"
   ]
  }
 ],
 "metadata": {
  "kernelspec": {
   "display_name": "my_env",
   "language": "python",
   "name": "python3"
  },
  "language_info": {
   "codemirror_mode": {
    "name": "ipython",
    "version": 3
   },
   "file_extension": ".py",
   "mimetype": "text/x-python",
   "name": "python",
   "nbconvert_exporter": "python",
   "pygments_lexer": "ipython3",
   "version": "3.12.7"
  }
 },
 "nbformat": 4,
 "nbformat_minor": 2
}
