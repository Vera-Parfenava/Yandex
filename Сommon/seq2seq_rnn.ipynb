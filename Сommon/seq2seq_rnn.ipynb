{
 "cells": [
  {
   "cell_type": "code",
   "execution_count": 2,
   "metadata": {},
   "outputs": [
    {
     "name": "stdout",
     "output_type": "stream",
     "text": [
      "Collecting numpy\n",
      "  Downloading numpy-2.1.3-cp312-cp312-macosx_11_0_arm64.whl.metadata (62 kB)\n",
      "Downloading numpy-2.1.3-cp312-cp312-macosx_11_0_arm64.whl (13.5 MB)\n",
      "\u001b[2K   \u001b[90m━━━━━━━━━━━━━━━━━━━━━━━━━━━━━━━━━━━━━━━━\u001b[0m \u001b[32m13.5/13.5 MB\u001b[0m \u001b[31m830.8 kB/s\u001b[0m eta \u001b[36m0:00:00\u001b[0m00:01\u001b[0m00:01\u001b[0m\n",
      "\u001b[?25hInstalling collected packages: numpy\n",
      "\u001b[31mERROR: pip's dependency resolver does not currently take into account all the packages that are installed. This behaviour is the source of the following dependency conflicts.\n",
      "gensim 4.3.3 requires numpy<2.0,>=1.18.5, but you have numpy 2.1.3 which is incompatible.\n",
      "numba 0.60.0 requires numpy<2.1,>=1.22, but you have numpy 2.1.3 which is incompatible.\u001b[0m\u001b[31m\n",
      "\u001b[0mSuccessfully installed numpy-2.1.3\n"
     ]
    }
   ],
   "source": [
    "!pip install numpy\n",
    "import numpy as np\n",
    "import matplotlib.pyplot as plt\n",
    "%matplotlib inline"
   ]
  },
  {
   "cell_type": "code",
   "execution_count": 4,
   "metadata": {},
   "outputs": [
    {
     "name": "stdout",
     "output_type": "stream",
     "text": [
      "--2024-11-11 03:26:49--  https://raw.githubusercontent.com/girafe-ai/ml-course/23s_msai/week0_10_embeddings_and_seq2seq/names\n",
      "Распознаётся raw.githubusercontent.com (raw.githubusercontent.com)… 185.199.109.133, 185.199.111.133, 185.199.110.133, ...\n",
      "Подключение к raw.githubusercontent.com (raw.githubusercontent.com)|185.199.109.133|:443... соединение установлено.\n",
      "HTTP-запрос отправлен. Ожидание ответа… 200 OK\n",
      "Длина: 55868 (55K) [text/plain]\n",
      "Сохранение в: «names»\n",
      "\n",
      "names               100%[===================>]  54,56K  --.-KB/s    за 0,05s   \n",
      "\n",
      "2024-11-11 03:26:50 (1,09 MB/s) - «names» сохранён [55868/55868]\n",
      "\n"
     ]
    }
   ],
   "source": [
    "!wget https://raw.githubusercontent.com/girafe-ai/ml-course/23s_msai/week0_10_embeddings_and_seq2seq/names -O names"
   ]
  },
  {
   "cell_type": "code",
   "execution_count": 5,
   "metadata": {},
   "outputs": [],
   "source": [
    "import os\n",
    "\n",
    "start_token = '<'\n",
    "end_token = '>'\n",
    "pad_token = '_'"
   ]
  },
  {
   "cell_type": "code",
   "execution_count": 6,
   "metadata": {},
   "outputs": [],
   "source": [
    "with open('names') as f:\n",
    "    names = f.read()[:-1].split('\\n')\n",
    "    names = [start_token + line + end_token for line in names]"
   ]
  },
  {
   "cell_type": "code",
   "execution_count": 7,
   "metadata": {},
   "outputs": [
    {
     "name": "stdout",
     "output_type": "stream",
     "text": [
      "n samples =  7944\n",
      "<Abagael>\n",
      "<Claresta>\n",
      "<Glory>\n",
      "<Liliane>\n",
      "<Prissie>\n",
      "<Geeta>\n",
      "<Giovanne>\n",
      "<Piggy>\n"
     ]
    }
   ],
   "source": [
    "print('n samples = ',len(names))\n",
    "for x in names[::1000]:\n",
    "    print(x)"
   ]
  },
  {
   "cell_type": "code",
   "execution_count": 8,
   "metadata": {},
   "outputs": [
    {
     "name": "stdout",
     "output_type": "stream",
     "text": [
      "max length -  17\n"
     ]
    }
   ],
   "source": [
    "MAX_LENGTH = max(map(len, names))\n",
    "print('max length - ', MAX_LENGTH)"
   ]
  },
  {
   "cell_type": "code",
   "execution_count": 9,
   "metadata": {},
   "outputs": [
    {
     "data": {
      "text/plain": [
       "(array([1.900e+01, 2.720e+02, 0.000e+00, 9.270e+02, 0.000e+00, 1.877e+03,\n",
       "        0.000e+00, 2.049e+03, 0.000e+00, 1.447e+03, 0.000e+00, 8.460e+02,\n",
       "        0.000e+00, 3.510e+02, 0.000e+00, 1.160e+02, 0.000e+00, 2.400e+01,\n",
       "        0.000e+00, 1.000e+01, 0.000e+00, 3.000e+00, 0.000e+00, 1.000e+00,\n",
       "        2.000e+00]),\n",
       " array([ 4.  ,  4.52,  5.04,  5.56,  6.08,  6.6 ,  7.12,  7.64,  8.16,\n",
       "         8.68,  9.2 ,  9.72, 10.24, 10.76, 11.28, 11.8 , 12.32, 12.84,\n",
       "        13.36, 13.88, 14.4 , 14.92, 15.44, 15.96, 16.48, 17.  ]),\n",
       " <BarContainer object of 25 artists>)"
      ]
     },
     "execution_count": 9,
     "metadata": {},
     "output_type": "execute_result"
    },
    {
     "data": {
      "image/png": "[encoded data removed]",
      "text/plain": [
       "<Figure size 640x480 with 1 Axes>"
      ]
     },
     "metadata": {},
     "output_type": "display_data"
    }
   ],
   "source": [
    "plt.title('Sequence length distribution')\n",
    "plt.hist(list(map(len,names)), bins=25)"
   ]
  },
  {
   "cell_type": "markdown",
   "metadata": {},
   "source": [
    "# Text processing\n",
    "Collect a vocabulary of all unique tokens. We can then encode inputs as a sequence of character ids"
   ]
  },
  {
   "cell_type": "code",
   "execution_count": 10,
   "metadata": {},
   "outputs": [
    {
     "name": "stdout",
     "output_type": "stream",
     "text": [
      "num_tokens =  58\n"
     ]
    }
   ],
   "source": [
    "tokens = set()\n",
    "for name in names:\n",
    "    tokens.update(set(name))\n",
    "\n",
    "tokens.update({pad_token})\n",
    "tokens = list(tokens)\n",
    "\n",
    "num_tokens = len(tokens)\n",
    "print('num_tokens = ', num_tokens)\n",
    "\n",
    "assert(\n",
    "    50 < num_tokens < 60\n",
    ")"
   ]
  },
  {
   "cell_type": "code",
   "execution_count": 11,
   "metadata": {},
   "outputs": [
    {
     "data": {
      "text/plain": [
       "True"
      ]
     },
     "execution_count": 11,
     "metadata": {},
     "output_type": "execute_result"
    }
   ],
   "source": [
    "pad_token in tokens"
   ]
  },
  {
   "cell_type": "markdown",
   "metadata": {},
   "source": [
    "# Convert characters to integer"
   ]
  },
  {
   "cell_type": "code",
   "execution_count": 12,
   "metadata": {},
   "outputs": [],
   "source": [
    "id_to_token = list(tokens)\n",
    "token_to_id = {token: idx for idx, token in enumerate(id_to_token)}"
   ]
  },
  {
   "cell_type": "code",
   "execution_count": 14,
   "metadata": {},
   "outputs": [
    {
     "name": "stdout",
     "output_type": "stream",
     "text": [
      "Seems alright!\n"
     ]
    }
   ],
   "source": [
    "assert len(tokens) == len(token_to_id), 'dictionaries must have same size'\n",
    "\n",
    "for i in range(num_tokens):\n",
    "    assert(\n",
    "        token_to_id[tokens[i]] == i\n",
    "    ), \"token identifier must be it's position in tokens list\"\n",
    "print('Seems alright!')"
   ]
  },
  {
   "cell_type": "code",
   "execution_count": 15,
   "metadata": {},
   "outputs": [],
   "source": [
    "def to_matrix(\n",
    "        names_batch,\n",
    "        max_len=None,\n",
    "        pad=token_to_id[pad_token],\n",
    "        dtype='int32',\n",
    "        batch_first=False,\n",
    "):\n",
    "    max_len = max_len or max(map(len, names_batch))\n",
    "    names_ix = np.zeros([len(names_batch), max_len], dtype) + pad\n",
    "\n",
    "    for i in range(len(names_batch)):\n",
    "        line_x = [token_to_id[c] for c in names_batch[i]][:max_len]\n",
    "        names_ix[i,:len(line_x)] = line_x\n",
    "\n",
    "    if not batch_first: # convert [batch,time] into [time,batch]\n",
    "        names_ix = np.transpose(names_ix)\n",
    "\n",
    "    return names_ix"
   ]
  },
  {
   "cell_type": "code",
   "execution_count": 16,
   "metadata": {},
   "outputs": [
    {
     "name": "stdout",
     "output_type": "stream",
     "text": [
      "<Abagael>\n",
      "<Glory>\n",
      "<Prissie>\n",
      "<Giovanne>\n",
      "[[21  3 43 57 25 57 30 33 23 56]\n",
      " [21 52 33 14 39 44 23 56 56 56]\n",
      " [21 54 39 27 37 37 27 30 23 56]\n",
      " [21 52 27 14 18 57 26 26 30 23]]\n"
     ]
    }
   ],
   "source": [
    "print('\\n'.join(names[::2000]))\n",
    "print(to_matrix(names[::2000]).T)\n"
   ]
  },
  {
   "cell_type": "code",
   "execution_count": 17,
   "metadata": {},
   "outputs": [
    {
     "data": {
      "text/plain": [
       "<matplotlib.collections.QuadMesh at 0x12a7bde50>"
      ]
     },
     "execution_count": 17,
     "metadata": {},
     "output_type": "execute_result"
    },
    {
     "data": {
      "image/png": "[encoded data removed]",
      "text/plain": [
       "<Figure size 640x480 with 1 Axes>"
      ]
     },
     "metadata": {},
     "output_type": "display_data"
    }
   ],
   "source": [
    "plt.pcolormesh(to_matrix(names[::2000]).T == token_to_id[pad_token])"
   ]
  },
  {
   "cell_type": "markdown",
   "metadata": {},
   "source": [
    "# Recurent neural network"
   ]
  },
  {
   "cell_type": "code",
   "execution_count": 18,
   "metadata": {},
   "outputs": [],
   "source": [
    "import torch, torch.nn as nn\n",
    "import torch.nn.functional as F"
   ]
  },
  {
   "cell_type": "code",
   "execution_count": 19,
   "metadata": {},
   "outputs": [],
   "source": [
    "class CharRNNCell(nn.Module):\n",
    "    def __init__(self, num_tokens=len(tokens), embedding_size = 16, rnn_num_units = 64):\n",
    "        super(self.__class__,self).__init__()\n",
    "        self.num_units = rnn_num_units\n",
    "\n",
    "        self.embedding = nn.Embedding(num_tokens, embedding_size)\n",
    "        self.rnn_update = nn.Linear(embedding_size + rnn_num_units, rnn_num_units)\n",
    "        self.rnn_to_logits = nn.Linear(rnn_num_units, num_tokens)\n",
    "\n",
    "    def forward(self, x, h_prev):\n",
    "        x_emb = self.embedding(x)\n",
    "\n",
    "        x_and_h = torch.cat([x_emb,h_prev], dim=-1)\n",
    "        h_next = self.rnn_update(x_and_h)\n",
    "\n",
    "        h_next = torch.tanh(h_next)\n",
    "\n",
    "        assert h_next.size() == h_prev.size()\n",
    "\n",
    "        logits = self.rnn_to_logits(h_next)\n",
    "\n",
    "        return h_next,logits\n",
    "    def initial_state( self, batch_size):\n",
    "        return torch.zeros(batch_size, self.num_units, requires_grad=True)"
   ]
  },
  {
   "cell_type": "code",
   "execution_count": 20,
   "metadata": {},
   "outputs": [],
   "source": [
    "char_rnn = CharRNNCell()"
   ]
  },
  {
   "cell_type": "markdown",
   "metadata": {},
   "source": [
    "# RNN loop"
   ]
  },
  {
   "cell_type": "code",
   "execution_count": 21,
   "metadata": {},
   "outputs": [],
   "source": [
    "def rnn_loop(char_rnn, batch_ix):\n",
    "    max_length, batch_size = batch_ix.size()\n",
    "    hid_state = char_rnn.initial_state(batch_size)\n",
    "    all_logits = []\n",
    "\n",
    "    for x_t in batch_ix:\n",
    "        hid_state, logits_next = char_rnn(\n",
    "            x_t, hid_state\n",
    "        )\n",
    "        all_logits.append(logits_next)\n",
    "\n",
    "    return torch.stack(all_logits,dim=1)"
   ]
  },
  {
   "cell_type": "code",
   "execution_count": 22,
   "metadata": {},
   "outputs": [],
   "source": [
    "batch_ix = to_matrix(names[:5])\n",
    "batch_ix = torch.tensor(batch_ix, dtype=torch.int64)\n",
    "\n",
    "all_logits = rnn_loop(char_rnn,batch_ix)"
   ]
  },
  {
   "cell_type": "code",
   "execution_count": 23,
   "metadata": {},
   "outputs": [
    {
     "data": {
      "text/plain": [
       "torch.Size([5, 9, 58])"
      ]
     },
     "execution_count": 23,
     "metadata": {},
     "output_type": "execute_result"
    }
   ],
   "source": [
    "all_logits.shape"
   ]
  },
  {
   "cell_type": "markdown",
   "metadata": {},
   "source": [
    "# Lakelyhood and gradients\n",
    "We can train our neural network to minimize crossentropy (maximize log-likelihood) with the actual next tokens."
   ]
  },
  {
   "cell_type": "code",
   "execution_count": 25,
   "metadata": {},
   "outputs": [],
   "source": [
    "loss_func = nn.CrossEntropyLoss(ignore_index=token_to_id[pad_token])\n",
    "actual_next_tokens = batch_ix[1:,:].T\n",
    "\n",
    "pred_logits = all_logits[:,:-1,:]\n",
    "pred_logits_flattened = pred_logits.reshape(\n",
    "    (pred_logits.shape[0] * pred_logits.shape[1], -1)\n",
    ")\n",
    "actual_next_tokens_flattened = actual_next_tokens.reshape(-1)"
   ]
  },
  {
   "cell_type": "code",
   "execution_count": 26,
   "metadata": {},
   "outputs": [
    {
     "name": "stdout",
     "output_type": "stream",
     "text": [
      "torch.Size([40, 58])\n",
      "torch.Size([40])\n"
     ]
    }
   ],
   "source": [
    "print(pred_logits_flattened.shape)\n",
    "print(actual_next_tokens_flattened.shape)"
   ]
  },
  {
   "cell_type": "code",
   "execution_count": 27,
   "metadata": {},
   "outputs": [],
   "source": [
    "loss = loss_func(pred_logits_flattened,actual_next_tokens_flattened)"
   ]
  },
  {
   "cell_type": "code",
   "execution_count": 28,
   "metadata": {},
   "outputs": [],
   "source": [
    "loss.backward()"
   ]
  },
  {
   "cell_type": "code",
   "execution_count": 29,
   "metadata": {},
   "outputs": [],
   "source": [
    "for w in char_rnn.parameters():\n",
    "    assert w.grad is not None and torch.max(torch.abs(w.grad)).data.numpy() !=0,(\n",
    "        'Loss is not differentiable w.r.t. a weight with shape $s. Check forward method.' \n",
    "        % (w.size(),)\n",
    "    )"
   ]
  },
  {
   "cell_type": "markdown",
   "metadata": {},
   "source": [
    "# The training loop"
   ]
  },
  {
   "cell_type": "code",
   "execution_count": 30,
   "metadata": {},
   "outputs": [],
   "source": [
    "from IPython.display import clear_output\n",
    "from random import sample\n",
    "\n",
    "char_rnn =CharRNNCell()\n",
    "opt = torch.optim.Adam(char_rnn.parameters())\n",
    "history = []"
   ]
  },
  {
   "cell_type": "code",
   "execution_count": 31,
   "metadata": {},
   "outputs": [
    {
     "data": {
      "image/png": "[encoded data removed]",
      "text/plain": [
       "<Figure size 640x480 with 1 Axes>"
      ]
     },
     "metadata": {},
     "output_type": "display_data"
    }
   ],
   "source": [
    "MAX_LENGTH = 16\n",
    "\n",
    "for i in range(1000):\n",
    "    opt.zero_grad()\n",
    "    batch_ix = to_matrix(sample(names,32), max_len=MAX_LENGTH)\n",
    "    batch_ix = torch.tensor(batch_ix, dtype= torch.int64)\n",
    "\n",
    "    all_logits = rnn_loop(char_rnn, batch_ix)\n",
    "\n",
    "    actual_next_tokens = batch_ix[1:,:].T\n",
    "\n",
    "    pred_logits = all_logits[:,:-1,:]\n",
    "    pred_logits_flattened = pred_logits.reshape(\n",
    "        (pred_logits.shape[0] * pred_logits.shape[1], -1)\n",
    "    )\n",
    "    actual_next_tokens_flattened = actual_next_tokens.reshape(-1)\n",
    "    loss = loss_func(pred_logits_flattened, actual_next_tokens_flattened)\n",
    "\n",
    "    loss.backward()\n",
    "    opt.step()\n",
    "\n",
    "    history.append(loss.item())\n",
    "    if (i + 1) % 100 == 0:\n",
    "        clear_output(True)\n",
    "        plt.plot(history, label='loss')\n",
    "        plt.legend()\n",
    "        plt.show()\n",
    "\n",
    "assert np.mean(history[:10]) > np.mean(history[-10:]), \"RNN didn't converge\"\n",
    "\n"
   ]
  },
  {
   "cell_type": "markdown",
   "metadata": {},
   "source": [
    "# RNN:sampling"
   ]
  },
  {
   "cell_type": "code",
   "execution_count": 32,
   "metadata": {},
   "outputs": [],
   "source": [
    "def generate_sample(\n",
    "        char_rnn, seed_phrase = '<', max_length= MAX_LENGTH, temperature=1,pretty_print=True\n",
    "):\n",
    "    x_sequence = [token_to_id[token] for token in seed_phrase]\n",
    "    x_sequence = torch.tensor([x_sequence], dtype=torch.int64)\n",
    "    hid_state = char_rnn.initial_state(batch_size=1)\n",
    "\n",
    "    for i in range(len(seed_phrase) - 1):\n",
    "        hid_state, _ =char_rnn(x_sequence[:,i],hid_state)\n",
    "\n",
    "    for _ in range(max_length - len(seed_phrase)):\n",
    "        hid_state, logits_next = char_rnn(x_sequence[:,-1], hid_state)\n",
    "        p_next = F.softmax(logits_next / temperature, dim=1).data.numpy()[0]\n",
    "\n",
    "        next_ix = np.random.choice(num_tokens, p=p_next)\n",
    "        next_ix = torch.tensor([[next_ix]], dtype=torch.int64)\n",
    "        x_sequence = torch.cat([x_sequence, next_ix], dim=1)\n",
    "\n",
    "    output = ' '.join([tokens[ix] for ix in x_sequence.data.numpy()[0]])\n",
    "    if pretty_print:\n",
    "        output = output.split('>')[0][1:]\n",
    "\n",
    "    return output"
   ]
  },
  {
   "cell_type": "code",
   "execution_count": 33,
   "metadata": {},
   "outputs": [
    {
     "name": "stdout",
     "output_type": "stream",
     "text": [
      " W M i n m y o a \n",
      " E w k ' S i n e y e \n",
      " I f b d C l \n",
      " H y m e \n",
      " R o l i a b \n",
      " Z a h k e r a b d x i \n",
      " D u d b p r \n",
      " R z e b k h h y \n",
      " M i n H E s a R \n",
      " C o S u c T \n"
     ]
    }
   ],
   "source": [
    "for _ in range(10):\n",
    "    print(generate_sample(char_rnn, temperature=2.5))"
   ]
  },
  {
   "cell_type": "code",
   "execution_count": 36,
   "metadata": {},
   "outputs": [
    {
     "name": "stdout",
     "output_type": "stream",
     "text": [
      " A A S J A A l l e \n",
      " A A S J A A n a n n e a \n",
      " A A S J A A n n r y \n",
      " A A S J A A \n",
      " A A S J A A n e \n",
      " A A S J A A l e \n",
      " A A S J A A l i n e \n",
      " A A S J A A t i \n",
      " A A S J A A l a \n",
      " A A S J A A n t i n \n",
      " A A S J A A s v e \n",
      " A A S J A A m u e n n \n",
      " A A S J A A n d N e l \n",
      " A A S J A A t u r \n",
      " A A S J A A r e g \n",
      " A A S J A A d p \n",
      " A A S J A A f n e \n",
      " A A S J A A b e r i n \n",
      " A A S J A A \n",
      " A A S J A A l l a \n",
      " A A S J A A n \n",
      " A A S J A A i l a n \n",
      " A A S J A A l e n \n",
      " A A S J A A l m e \n",
      " A A S J A A d a h \n",
      " A A S J A A n \n",
      " A A S J A A l \n",
      " A A S J A A n \n",
      " A A S J A A l u d n T e h \n",
      " A A S J A A t s \n",
      " A A S J A A l l e t t \n",
      " A A S J A A \n",
      " A A S J A A t t \n",
      " A A S J A A d a \n",
      " A A S J A A r \n",
      " A A S J A A d r l e \n",
      " A A S J A A g h e y \n",
      " A A S J A A h y \n",
      " A A S J A A t t e \n",
      " A A S J A A n n \n",
      " A A S J A A \n",
      " A A S J A A \n",
      " A A S J A A \n",
      " A A S J A A u \n",
      " A A S J A A y \n",
      " A A S J A A r \n",
      " A A S J A A s t e s t \n",
      " A A S J A A l e \n",
      " A A S J A A s t e p c e \n",
      " A A S J A A l i e \n"
     ]
    }
   ],
   "source": [
    "for _ in range(50):\n",
    "    print(generate_sample(char_rnn, seed_phrase='AAASJAA'))"
   ]
  },
  {
   "cell_type": "code",
   "execution_count": null,
   "metadata": {},
   "outputs": [],
   "source": []
  }
 ],
 "metadata": {
  "kernelspec": {
   "display_name": "my_env",
   "language": "python",
   "name": "python3"
  },
  "language_info": {
   "codemirror_mode": {
    "name": "ipython",
    "version": 3
   },
   "file_extension": ".py",
   "mimetype": "text/x-python",
   "name": "python",
   "nbconvert_exporter": "python",
   "pygments_lexer": "ipython3",
   "version": "3.12.7"
  }
 },
 "nbformat": 4,
 "nbformat_minor": 2
}
